{
  "cells": [
    {
      "cell_type": "markdown",
      "metadata": {
        "id": "L8-Wj6I6BJgw"
      },
      "source": [
        "<center><img src=\"https://github.com/hse-ds/iad-applied-ds/blob/master/2021/hw/hw1/img/logo_hse.png?raw=1\" width=\"1000\"></center>\n",
        "\n",
        "<h1><center>Прикладные задачи анализа данных</center></h1>\n",
        "<h2><center>Домашнее задание: генеративно-состязательные сети</center></h2>"
      ]
    },
    {
      "cell_type": "code",
      "source": [
        "from google.colab import drive\n",
        "drive.mount('/content/drive')"
      ],
      "metadata": {
        "colab": {
          "base_uri": "https://localhost:8080/"
        },
        "id": "MenHscnWCIj4",
        "outputId": "2250ec50-bb7a-4308-c11d-f2b0c56370b6"
      },
      "execution_count": null,
      "outputs": [
        {
          "output_type": "stream",
          "name": "stdout",
          "text": [
            "Drive already mounted at /content/drive; to attempt to forcibly remount, call drive.mount(\"/content/drive\", force_remount=True).\n"
          ]
        }
      ]
    },
    {
      "cell_type": "markdown",
      "metadata": {
        "id": "BOxZZ2JXBJg7"
      },
      "source": [
        "# Введение"
      ]
    },
    {
      "cell_type": "markdown",
      "metadata": {
        "id": "VqMXHI4WBJg9"
      },
      "source": [
        "## MAGIC – Major Atmospheric Gamma Imaging Cherenkov Telescope"
      ]
    },
    {
      "cell_type": "markdown",
      "metadata": {
        "id": "poiRFVq6BJg-"
      },
      "source": [
        "MAGIC (Major Atmospheric Gamma Imaging Cherenkov) - это система, состоящая из двух черенковских телескопов диаметром 17 м. Они предназначены для наблюдения гамма-лучей от галактических и внегалактических источников в диапазоне очень высоких энергий (от 30 ГэВ до 100 ТэВ). \n",
        "\n",
        "Телескопами MAGIC в настоящее время управляют около 165 астрофизиков из 24 организаций и консорциумов из 12 стран. MAGIC позволил открыть и исследовать новые классы источников гамма-излучения, таких как, например, пульсары и гамма-всплески (GRB).\n",
        "\n",
        "<center><img src=\"https://github.com/hse-ds/iad-applied-ds/blob/master/2021/hw/hw1/img/magic1.jpg?raw=1\" width=\"1000\"></center>\n",
        "\n",
        "Источник: https://magic.mpp.mpg.de/\n",
        "\n",
        "Youtube video: https://youtu.be/mjcDSR2vSU8"
      ]
    },
    {
      "cell_type": "markdown",
      "metadata": {
        "id": "OvxqS0VcBJhB"
      },
      "source": [
        "## Частицы из космоса"
      ]
    },
    {
      "cell_type": "markdown",
      "metadata": {
        "id": "ZqA2I78ZBJhC"
      },
      "source": [
        "Космические частицы, $\\gamma$-кванты (фотоны) и адроны (протоны), взаимодействуют с атмосферой и порождают ливни вторичных частиц. Двигаясь с околосветовой скоростью, эти частицы излучают Черенковское излучение. Телескопы фотографируют это излучение. По фотографиям можно определить тип частицы из космоса: фотон или протон.\n",
        "\n",
        "<center><img src=\"https://github.com/hse-ds/iad-applied-ds/blob/master/2021/hw/hw1/img/shower.jpg?raw=1\" width=\"500\"></center>"
      ]
    },
    {
      "cell_type": "markdown",
      "metadata": {
        "id": "WNnB4CpBBJhE"
      },
      "source": [
        "## Фотографии"
      ]
    },
    {
      "cell_type": "markdown",
      "metadata": {
        "id": "h2aPngNYBJhH"
      },
      "source": [
        "Задача атмосферного черенковского телескопа - получить изображение ливня путем измерения черенковского света от частиц ливня. Это изображение представляет собой геометрическую проекцию ливня на детектор. Для анализа этих изображений были введены параметры изображения или так называемые параметры Хилласа. Есть два вида параметров изображения: параметры формы и параметры ориентации. (Источник: http://ihp-lx.ethz.ch/Stamet/magic/parameters.html)\n",
        "\n",
        "<center><img src=\"https://github.com/hse-ds/iad-applied-ds/blob/master/2021/hw/hw1/img/geo.jpg?raw=1\" width=\"400\"></center>"
      ]
    },
    {
      "cell_type": "markdown",
      "metadata": {
        "id": "aHItv27JBJhJ"
      },
      "source": [
        "## Фотоны vs адронов"
      ]
    },
    {
      "cell_type": "markdown",
      "metadata": {
        "id": "CYOdtL_eBJhL"
      },
      "source": [
        "Изображения для $\\gamma$-квантов (фотонов) и адронов (протонов) отличаются по форме кластеров. Астрономы используют модели машинного обучения для классификации этих изображений. Для обучения моделей ученые искусственно генерируют такие изображения для каждого типа частиц с помощью сложных физических симуляторов.\n",
        "\n",
        "\n",
        "<center><img src=\"https://github.com/hse-ds/iad-applied-ds/blob/master/2021/hw/hw1/img/gamma_p.png?raw=1\" width=\"600\"></center>"
      ]
    },
    {
      "cell_type": "markdown",
      "metadata": {
        "id": "9TClNMlMBJhN"
      },
      "source": [
        "## Ускорение симуляции"
      ]
    },
    {
      "cell_type": "markdown",
      "metadata": {
        "id": "Kub3c_YpBJhP"
      },
      "source": [
        "Сложные физические симуляторы требуют больших вычислительных ресурсов. Они моделируют прилет частиц из космоса, их взаимодействие с атмосферой, рождение ливней, черенковского излучения и работы телескопов для получения изображений. Но мы можем использовать генеративно-состязательные сети для быстрой симуляции!"
      ]
    },
    {
      "cell_type": "code",
      "execution_count": null,
      "metadata": {
        "id": "W58jymhKBJhR"
      },
      "outputs": [],
      "source": [
        "%matplotlib inline\n",
        "import matplotlib.pyplot as plt\n",
        "import numpy as np\n",
        "import pandas as pd"
      ]
    },
    {
      "cell_type": "markdown",
      "metadata": {
        "id": "YClQNZ13BJhW"
      },
      "source": [
        "# Данные"
      ]
    },
    {
      "cell_type": "markdown",
      "metadata": {
        "id": "EWhudCY_BJhX"
      },
      "source": [
        "Будем использовать данные телескопа MAGIC из UCI репозитория https://archive.ics.uci.edu/ml/datasets/MAGIC+Gamma+Telescope. Каждый объект в данных - параметры одного изображения кластера и метка этого кластера (фотон или адрон):\n",
        "\n",
        "\n",
        "0. Length: major axis of ellipse [mm]\n",
        "1. Width: minor axis of ellipse [mm]\n",
        "2. Size: 10-log of sum of content of all pixels [in #phot]\n",
        "3. Conc: ratio of sum of two highest pixels over fSize [ratio]\n",
        "4. Conc1: ratio of highest pixel over fSize [ratio]\n",
        "5. Asym: distance from highest pixel to center, projected onto major axis [mm]\n",
        "6. M3Long: 3rd root of third moment along major axis [mm]\n",
        "7. M3Trans: 3rd root of third moment along minor axis [mm]\n",
        "8. Alpha: angle of major axis with vector to origin [deg]\n",
        "9. Dist: distance from origin to center of ellipse [mm]\n",
        "10. class: g,h # gamma (signal), hadron (background)"
      ]
    },
    {
      "cell_type": "code",
      "execution_count": null,
      "metadata": {
        "id": "aWm0Va4-BJhY",
        "colab": {
          "base_uri": "https://localhost:8080/",
          "height": 206
        },
        "outputId": "19c5f472-e0be-4f85-a332-04d02031ada1"
      },
      "outputs": [
        {
          "output_type": "execute_result",
          "data": {
            "text/html": [
              "\n",
              "  <div id=\"df-2248383a-f360-4e66-bb2e-7d5b1da7433a\">\n",
              "    <div class=\"colab-df-container\">\n",
              "      <div>\n",
              "<style scoped>\n",
              "    .dataframe tbody tr th:only-of-type {\n",
              "        vertical-align: middle;\n",
              "    }\n",
              "\n",
              "    .dataframe tbody tr th {\n",
              "        vertical-align: top;\n",
              "    }\n",
              "\n",
              "    .dataframe thead th {\n",
              "        text-align: right;\n",
              "    }\n",
              "</style>\n",
              "<table border=\"1\" class=\"dataframe\">\n",
              "  <thead>\n",
              "    <tr style=\"text-align: right;\">\n",
              "      <th></th>\n",
              "      <th>Length</th>\n",
              "      <th>Width</th>\n",
              "      <th>Size</th>\n",
              "      <th>Conc</th>\n",
              "      <th>Conc1</th>\n",
              "      <th>Asym</th>\n",
              "      <th>M3Long</th>\n",
              "      <th>M3Trans</th>\n",
              "      <th>Alpha</th>\n",
              "      <th>Dist</th>\n",
              "      <th>class</th>\n",
              "    </tr>\n",
              "  </thead>\n",
              "  <tbody>\n",
              "    <tr>\n",
              "      <th>0</th>\n",
              "      <td>28.7967</td>\n",
              "      <td>16.0021</td>\n",
              "      <td>2.6449</td>\n",
              "      <td>0.3918</td>\n",
              "      <td>0.1982</td>\n",
              "      <td>27.7004</td>\n",
              "      <td>22.0110</td>\n",
              "      <td>-8.2027</td>\n",
              "      <td>40.0920</td>\n",
              "      <td>81.8828</td>\n",
              "      <td>g</td>\n",
              "    </tr>\n",
              "    <tr>\n",
              "      <th>1</th>\n",
              "      <td>31.6036</td>\n",
              "      <td>11.7235</td>\n",
              "      <td>2.5185</td>\n",
              "      <td>0.5303</td>\n",
              "      <td>0.3773</td>\n",
              "      <td>26.2722</td>\n",
              "      <td>23.8238</td>\n",
              "      <td>-9.9574</td>\n",
              "      <td>6.3609</td>\n",
              "      <td>205.2610</td>\n",
              "      <td>g</td>\n",
              "    </tr>\n",
              "    <tr>\n",
              "      <th>2</th>\n",
              "      <td>162.0520</td>\n",
              "      <td>136.0310</td>\n",
              "      <td>4.0612</td>\n",
              "      <td>0.0374</td>\n",
              "      <td>0.0187</td>\n",
              "      <td>116.7410</td>\n",
              "      <td>-64.8580</td>\n",
              "      <td>-45.2160</td>\n",
              "      <td>76.9600</td>\n",
              "      <td>256.7880</td>\n",
              "      <td>g</td>\n",
              "    </tr>\n",
              "    <tr>\n",
              "      <th>3</th>\n",
              "      <td>23.8172</td>\n",
              "      <td>9.5728</td>\n",
              "      <td>2.3385</td>\n",
              "      <td>0.6147</td>\n",
              "      <td>0.3922</td>\n",
              "      <td>27.2107</td>\n",
              "      <td>-6.4633</td>\n",
              "      <td>-7.1513</td>\n",
              "      <td>10.4490</td>\n",
              "      <td>116.7370</td>\n",
              "      <td>g</td>\n",
              "    </tr>\n",
              "    <tr>\n",
              "      <th>4</th>\n",
              "      <td>75.1362</td>\n",
              "      <td>30.9205</td>\n",
              "      <td>3.1611</td>\n",
              "      <td>0.3168</td>\n",
              "      <td>0.1832</td>\n",
              "      <td>-5.5277</td>\n",
              "      <td>28.5525</td>\n",
              "      <td>21.8393</td>\n",
              "      <td>4.6480</td>\n",
              "      <td>356.4620</td>\n",
              "      <td>g</td>\n",
              "    </tr>\n",
              "  </tbody>\n",
              "</table>\n",
              "</div>\n",
              "      <button class=\"colab-df-convert\" onclick=\"convertToInteractive('df-2248383a-f360-4e66-bb2e-7d5b1da7433a')\"\n",
              "              title=\"Convert this dataframe to an interactive table.\"\n",
              "              style=\"display:none;\">\n",
              "        \n",
              "  <svg xmlns=\"http://www.w3.org/2000/svg\" height=\"24px\"viewBox=\"0 0 24 24\"\n",
              "       width=\"24px\">\n",
              "    <path d=\"M0 0h24v24H0V0z\" fill=\"none\"/>\n",
              "    <path d=\"M18.56 5.44l.94 2.06.94-2.06 2.06-.94-2.06-.94-.94-2.06-.94 2.06-2.06.94zm-11 1L8.5 8.5l.94-2.06 2.06-.94-2.06-.94L8.5 2.5l-.94 2.06-2.06.94zm10 10l.94 2.06.94-2.06 2.06-.94-2.06-.94-.94-2.06-.94 2.06-2.06.94z\"/><path d=\"M17.41 7.96l-1.37-1.37c-.4-.4-.92-.59-1.43-.59-.52 0-1.04.2-1.43.59L10.3 9.45l-7.72 7.72c-.78.78-.78 2.05 0 2.83L4 21.41c.39.39.9.59 1.41.59.51 0 1.02-.2 1.41-.59l7.78-7.78 2.81-2.81c.8-.78.8-2.07 0-2.86zM5.41 20L4 18.59l7.72-7.72 1.47 1.35L5.41 20z\"/>\n",
              "  </svg>\n",
              "      </button>\n",
              "      \n",
              "  <style>\n",
              "    .colab-df-container {\n",
              "      display:flex;\n",
              "      flex-wrap:wrap;\n",
              "      gap: 12px;\n",
              "    }\n",
              "\n",
              "    .colab-df-convert {\n",
              "      background-color: #E8F0FE;\n",
              "      border: none;\n",
              "      border-radius: 50%;\n",
              "      cursor: pointer;\n",
              "      display: none;\n",
              "      fill: #1967D2;\n",
              "      height: 32px;\n",
              "      padding: 0 0 0 0;\n",
              "      width: 32px;\n",
              "    }\n",
              "\n",
              "    .colab-df-convert:hover {\n",
              "      background-color: #E2EBFA;\n",
              "      box-shadow: 0px 1px 2px rgba(60, 64, 67, 0.3), 0px 1px 3px 1px rgba(60, 64, 67, 0.15);\n",
              "      fill: #174EA6;\n",
              "    }\n",
              "\n",
              "    [theme=dark] .colab-df-convert {\n",
              "      background-color: #3B4455;\n",
              "      fill: #D2E3FC;\n",
              "    }\n",
              "\n",
              "    [theme=dark] .colab-df-convert:hover {\n",
              "      background-color: #434B5C;\n",
              "      box-shadow: 0px 1px 3px 1px rgba(0, 0, 0, 0.15);\n",
              "      filter: drop-shadow(0px 1px 2px rgba(0, 0, 0, 0.3));\n",
              "      fill: #FFFFFF;\n",
              "    }\n",
              "  </style>\n",
              "\n",
              "      <script>\n",
              "        const buttonEl =\n",
              "          document.querySelector('#df-2248383a-f360-4e66-bb2e-7d5b1da7433a button.colab-df-convert');\n",
              "        buttonEl.style.display =\n",
              "          google.colab.kernel.accessAllowed ? 'block' : 'none';\n",
              "\n",
              "        async function convertToInteractive(key) {\n",
              "          const element = document.querySelector('#df-2248383a-f360-4e66-bb2e-7d5b1da7433a');\n",
              "          const dataTable =\n",
              "            await google.colab.kernel.invokeFunction('convertToInteractive',\n",
              "                                                     [key], {});\n",
              "          if (!dataTable) return;\n",
              "\n",
              "          const docLinkHtml = 'Like what you see? Visit the ' +\n",
              "            '<a target=\"_blank\" href=https://colab.research.google.com/notebooks/data_table.ipynb>data table notebook</a>'\n",
              "            + ' to learn more about interactive tables.';\n",
              "          element.innerHTML = '';\n",
              "          dataTable['output_type'] = 'display_data';\n",
              "          await google.colab.output.renderOutput(dataTable, element);\n",
              "          const docLink = document.createElement('div');\n",
              "          docLink.innerHTML = docLinkHtml;\n",
              "          element.appendChild(docLink);\n",
              "        }\n",
              "      </script>\n",
              "    </div>\n",
              "  </div>\n",
              "  "
            ],
            "text/plain": [
              "     Length     Width    Size    Conc  ...  M3Trans    Alpha      Dist  class\n",
              "0   28.7967   16.0021  2.6449  0.3918  ...  -8.2027  40.0920   81.8828      g\n",
              "1   31.6036   11.7235  2.5185  0.5303  ...  -9.9574   6.3609  205.2610      g\n",
              "2  162.0520  136.0310  4.0612  0.0374  ... -45.2160  76.9600  256.7880      g\n",
              "3   23.8172    9.5728  2.3385  0.6147  ...  -7.1513  10.4490  116.7370      g\n",
              "4   75.1362   30.9205  3.1611  0.3168  ...  21.8393   4.6480  356.4620      g\n",
              "\n",
              "[5 rows x 11 columns]"
            ]
          },
          "metadata": {},
          "execution_count": 3
        }
      ],
      "source": [
        "# read data\n",
        "names = np.array(['Length', 'Width', 'Size', 'Conc', 'Conc1', 'Asym', 'M3Long', 'M3Trans', 'Alpha', 'Dist', 'class'])\n",
        "data = pd.read_csv(\"/content/drive/My Drive/Учеба/data/magic04.data\", header=None)\n",
        "data.columns = names\n",
        "data.head()"
      ]
    },
    {
      "cell_type": "code",
      "source": [
        "data.shape"
      ],
      "metadata": {
        "colab": {
          "base_uri": "https://localhost:8080/"
        },
        "id": "TW-aXYjuT0bk",
        "outputId": "e109c0c8-54f2-4da5-8bfd-fafb17595e47"
      },
      "execution_count": null,
      "outputs": [
        {
          "output_type": "execute_result",
          "data": {
            "text/plain": [
              "(19020, 11)"
            ]
          },
          "metadata": {},
          "execution_count": 4
        }
      ]
    },
    {
      "cell_type": "markdown",
      "metadata": {
        "id": "TSGrURB8BJha"
      },
      "source": [
        "# Постановка задачи\n",
        "\n",
        "Ваша задача заключается в том, чтобы с помощью генеративно-состязательных сетей научится генерировать параметры кластеров на изображениях телекопа для каждого типа частиц (фотона или адрона):\n",
        "\n",
        "- $X$ - матрица реальных объектов, которые нужно начиться генерировать;\n",
        "- $y$ - метки классов, которые будем использовать как условие при генерации."
      ]
    },
    {
      "cell_type": "code",
      "execution_count": null,
      "metadata": {
        "id": "zQ46vLiDBJhb"
      },
      "outputs": [],
      "source": [
        "# параметры кластеров на изображениях\n",
        "X = data[names[:-1]].values\n",
        "X = np.abs(X)\n",
        "\n",
        "# метки классов\n",
        "labels = data[names[-1]].values\n",
        "y = np.ones((len(labels), 1))\n",
        "y[labels == 'h'] = 0"
      ]
    },
    {
      "cell_type": "code",
      "execution_count": null,
      "metadata": {
        "id": "Xw0xtTAaBJhc",
        "colab": {
          "base_uri": "https://localhost:8080/"
        },
        "outputId": "856a3778-6676-4b43-dfdb-cd46844df626"
      },
      "outputs": [
        {
          "output_type": "execute_result",
          "data": {
            "text/plain": [
              "array([[2.87967e+01, 1.60021e+01, 2.64490e+00, 3.91800e-01, 1.98200e-01,\n",
              "        2.77004e+01, 2.20110e+01, 8.20270e+00, 4.00920e+01, 8.18828e+01],\n",
              "       [3.16036e+01, 1.17235e+01, 2.51850e+00, 5.30300e-01, 3.77300e-01,\n",
              "        2.62722e+01, 2.38238e+01, 9.95740e+00, 6.36090e+00, 2.05261e+02]])"
            ]
          },
          "metadata": {},
          "execution_count": 6
        }
      ],
      "source": [
        "# примеры\n",
        "X[:2]"
      ]
    },
    {
      "cell_type": "code",
      "execution_count": null,
      "metadata": {
        "id": "M2KJCooWBJhd",
        "colab": {
          "base_uri": "https://localhost:8080/"
        },
        "outputId": "e1c5433d-d881-4571-ac90-151e4955afd0"
      },
      "outputs": [
        {
          "output_type": "execute_result",
          "data": {
            "text/plain": [
              "array([[1.],\n",
              "       [1.],\n",
              "       [1.],\n",
              "       [1.],\n",
              "       [1.],\n",
              "       [1.],\n",
              "       [1.],\n",
              "       [1.],\n",
              "       [1.],\n",
              "       [1.]])"
            ]
          },
          "metadata": {},
          "execution_count": 7
        }
      ],
      "source": [
        "# примеры\n",
        "y[:10]"
      ]
    },
    {
      "cell_type": "markdown",
      "metadata": {
        "id": "90iiP0ZcBJhf"
      },
      "source": [
        "# Визуализация данных"
      ]
    },
    {
      "cell_type": "markdown",
      "metadata": {
        "id": "9eDWFP5qBJhg"
      },
      "source": [
        "Каждое изображение описывается 10 параметрами. Давайте построим распделения значений каждого параметра для каждого типа частиц."
      ]
    },
    {
      "cell_type": "code",
      "execution_count": null,
      "metadata": {
        "id": "7cKZLa4MBJhg"
      },
      "outputs": [],
      "source": [
        "def plot_hists(X1, X2, names, label1, label2, bins=np.linspace(-3, 3, 61)):\n",
        "    plt.figure(figsize=(4*4, 4*2))\n",
        "    for i in range(X1.shape[1]):\n",
        "        plt.subplot(3, 4, i+1)\n",
        "        plt.hist(X1[:, i], bins=bins, alpha=0.5, label=label1, color='C0')\n",
        "        plt.hist(X2[:, i], bins=bins, alpha=0.5, label=label2, color='C1')\n",
        "        plt.xlabel(names[i], size=14)\n",
        "        plt.legend(loc='best')\n",
        "    plt.tight_layout()"
      ]
    },
    {
      "cell_type": "code",
      "execution_count": null,
      "metadata": {
        "id": "MMDG4t08BJhi",
        "colab": {
          "base_uri": "https://localhost:8080/",
          "height": 585
        },
        "outputId": "e329a039-10ea-49db-aa71-55aa6ea1aee7"
      },
      "outputs": [
        {
          "output_type": "display_data",
          "data": {
            "image/png": "[encoded data removed]",
            "text/plain": [
              "<Figure size 1152x576 with 10 Axes>"
            ]
          },
          "metadata": {
            "needs_background": "light"
          }
        }
      ],
      "source": [
        "plot_hists(X[y[:, 0]==0], X[y[:, 0]==1], names, label1=\"Hadrons\", label2=\"Photons\", bins=50)"
      ]
    },
    {
      "cell_type": "markdown",
      "metadata": {
        "id": "aQOv5tN_BJhj"
      },
      "source": [
        "# Предобработка данных"
      ]
    },
    {
      "cell_type": "markdown",
      "metadata": {
        "id": "qL1lNt5tBJhj"
      },
      "source": [
        "Из графика видим, что распределения для многих признаков имеют тяжелые хвосты. Это делает обучение генеративных моделей тяжелее. Поэтому, нужно как-то преобразовать данные, чтобы убрать эти тяжелые хвосты. "
      ]
    },
    {
      "cell_type": "markdown",
      "metadata": {
        "id": "QDLHhYJoBJhk"
      },
      "source": [
        "## Задание 1 (1 балл)\n",
        "\n",
        "Используя функцию `sklearn.preprocessing.QuantileTransformer` трансформируйте входные данные `X`. Это преобразование делает так, чтобы распределение каждого параметра было нормальным. Описание функции доступно по ссылке http://scikit-learn.org/stable/modules/generated/sklearn.preprocessing.QuantileTransformer.html. Используйте значение параметра `output_distribution='normal'`. "
      ]
    },
    {
      "cell_type": "code",
      "execution_count": null,
      "metadata": {
        "id": "F5HqawYJBJhl"
      },
      "outputs": [],
      "source": [
        "### YOUR CODE IS HERE ######\n",
        "from sklearn.preprocessing import QuantileTransformer\n",
        "rng = np.random.RandomState(668)\n",
        "qt = QuantileTransformer(n_quantiles=150, random_state=668, output_distribution='normal')\n",
        "X_qt = qt.fit_transform(X)\n",
        "### THE END OF YOUR CODE ###"
      ]
    },
    {
      "cell_type": "code",
      "execution_count": null,
      "metadata": {
        "id": "UmQ375h0BJhm",
        "colab": {
          "base_uri": "https://localhost:8080/",
          "height": 585
        },
        "outputId": "f9fc16d3-c16c-4b77-90bc-5293bad6b2b3"
      },
      "outputs": [
        {
          "output_type": "display_data",
          "data": {
            "image/png": "[encoded data removed]",
            "text/plain": [
              "<Figure size 1152x576 with 10 Axes>"
            ]
          },
          "metadata": {
            "needs_background": "light"
          }
        }
      ],
      "source": [
        "plot_hists(X_qt[y[:, 0]==0], X_qt[y[:, 0]==1], names, label1=\"Hadrons\", label2=\"Photons\", bins=50)"
      ]
    },
    {
      "cell_type": "markdown",
      "metadata": {
        "id": "9Pn-uTUcBJhm"
      },
      "source": [
        "# Обучающая и тестовая выборки"
      ]
    },
    {
      "cell_type": "code",
      "execution_count": null,
      "metadata": {
        "id": "VUJykH2OBJhn"
      },
      "outputs": [],
      "source": [
        "from sklearn.model_selection import train_test_split\n",
        "\n",
        "# train / test split\n",
        "X_train, X_test, y_train, y_test = train_test_split(X_qt, y, stratify=y, test_size=0.5, shuffle=True, random_state=11)"
      ]
    },
    {
      "cell_type": "code",
      "execution_count": null,
      "metadata": {
        "id": "H5hJ3fdhBJho",
        "colab": {
          "base_uri": "https://localhost:8080/",
          "height": 585
        },
        "outputId": "40561ca6-036e-4787-d300-7d9746eca188"
      },
      "outputs": [
        {
          "output_type": "display_data",
          "data": {
            "image/png": "[encoded data removed]",
            "text/plain": [
              "<Figure size 1152x576 with 10 Axes>"
            ]
          },
          "metadata": {
            "needs_background": "light"
          }
        }
      ],
      "source": [
        "plot_hists(X_train, X_test, names, label1=\"Train\", label2=\"Test\")"
      ]
    },
    {
      "cell_type": "markdown",
      "metadata": {
        "id": "lccf8jAVBJho"
      },
      "source": [
        "# Conditional WGAN"
      ]
    },
    {
      "cell_type": "markdown",
      "metadata": {
        "id": "J0D_k7SoBJhp"
      },
      "source": [
        "Мы будем использовать `Conditional WGAN`, который изображен на рисунке. В качестве условия `y` мы будем использовать метку класса: **0** - адрон, **1** - фотон. Таким образом, мы будем сообщать генератору для какой частицы нужно генерировать параметры изображения. \n",
        "\n",
        "<center><img src=\"https://github.com/hse-ds/iad-applied-ds/blob/master/2021/hw/hw1/img/cgan.png?raw=1\" width=\"800\"></center>"
      ]
    },
    {
      "cell_type": "markdown",
      "metadata": {
        "id": "w4TUdw-tBJhp"
      },
      "source": [
        "Генератор $\\hat{x} = G(z, y)$ будет принимать на вход шумовой вектор $z$ и вектор условий $y$, а выдавать будет сгенерированный (фейковый) вектор параметров $\\hat{x}$. \n",
        "\n",
        "Дискриминатор $D(x, y)$ будет принимать на вход вектор параметров $x$ и вектор условий $y$, а возвращать будет рациональное число.\n",
        "\n",
        "Обучать `Conditional WGAN` будем с такой функцией потерь:\n",
        "\n",
        "$$L(G, D) = -\\frac{1}{n} \\sum_{x_i \\in X, y_i \\in y} D(x_i, y_i) + \\frac{1}{n} \\sum_{z_i \\in Z, y_i \\in y} D(G(z_i, y_i), y_i) \\to \\max_G \\min_D$$"
      ]
    },
    {
      "cell_type": "code",
      "execution_count": null,
      "metadata": {
        "id": "39Hl9_zSBJhq"
      },
      "outputs": [],
      "source": [
        "import torch\n",
        "import torch.nn as nn\n",
        "import torch.nn.functional as F\n",
        "from torch.utils.data import TensorDataset, DataLoader\n",
        "from torch.autograd import Variable\n",
        "from IPython.display import clear_output\n",
        "from tqdm import tqdm\n",
        "\n",
        "\n",
        "device = torch.device(\"cuda:0\" if torch.cuda.is_available() else \"cpu\")"
      ]
    },
    {
      "cell_type": "code",
      "execution_count": null,
      "metadata": {
        "id": "3hPqpYm7BJhq",
        "colab": {
          "base_uri": "https://localhost:8080/"
        },
        "outputId": "b6fdd9de-731e-4b6f-8192-0f7fbae2fadb"
      },
      "outputs": [
        {
          "output_type": "execute_result",
          "data": {
            "text/plain": [
              "device(type='cuda', index=0)"
            ]
          },
          "metadata": {},
          "execution_count": 15
        }
      ],
      "source": [
        "device"
      ]
    },
    {
      "cell_type": "markdown",
      "metadata": {
        "id": "-KMHZadWBJhr"
      },
      "source": [
        "## Задание 2 (1 балл)\n",
        "\n",
        "Реализуйте нейронную сеть для генератора со следующими слоями:\n",
        "- Полносвязный слой со 100 нейронами;\n",
        "- Слой батч-нормализации;\n",
        "- ReLU функцию активации;\n",
        "- Полносвязный слой со 100 нейронами;\n",
        "- Слой батч-нормализации;\n",
        "- ReLU функцию активации;\n",
        "- Выходной слой.\n",
        "\n",
        "Подсказка: используйте функцию `nn.Sequential()`."
      ]
    },
    {
      "cell_type": "code",
      "execution_count": null,
      "metadata": {
        "id": "zbl4AAlZBJhs"
      },
      "outputs": [],
      "source": [
        "BATCH_SIZE=32\n",
        "\n",
        "class Generator(nn.Module):\n",
        "    \n",
        "    def __init__(self, n_inputs, n_outputs):\n",
        "        super(Generator, self).__init__()\n",
        "        \n",
        "        ### YOUR CODE IS HERE ######\n",
        "        self.net = nn.Sequential(\n",
        "            nn.Linear(n_inputs, 100),\n",
        "            nn.BatchNorm1d(100),\n",
        "            nn.LeakyReLU(),\n",
        "            nn.Linear(100, 100),\n",
        "            nn.BatchNorm1d(100),\n",
        "            nn.LeakyReLU(),\n",
        "            nn.Linear(100, n_outputs)\n",
        "\n",
        "        )\n",
        "        ### THE END OF YOUR CODE ###\n",
        "\n",
        "    def forward(self, z, y, num_objects):\n",
        "        #print(z)\n",
        "        #print(y)\n",
        "        y = nn.functional.one_hot(y.to(torch.int64), num_classes=2).reshape(num_objects, 2).to(device)\n",
        "        zy = torch.cat((z, y), dim=1).to(device)\n",
        "        return self.net(zy)"
      ]
    },
    {
      "cell_type": "code",
      "source": [
        ""
      ],
      "metadata": {
        "id": "h0AcahZtMM3F"
      },
      "execution_count": null,
      "outputs": []
    },
    {
      "cell_type": "markdown",
      "metadata": {
        "id": "ATAY2JwMBJht"
      },
      "source": [
        "## Задание 3 (1 балл)\n",
        "\n",
        "Реализуйте нейронную сеть для дискриминатора со следующими слоями:\n",
        "- Полносвязный слой со 100 нейронами;\n",
        "- ReLU функцию активации;\n",
        "- Полносвязный слой со 100 нейронами;\n",
        "- ReLU функцию активации;\n",
        "- Выходной слой.\n",
        "\n",
        "Подсказка: используйте функцию `nn.Sequential()`."
      ]
    },
    {
      "cell_type": "code",
      "execution_count": null,
      "metadata": {
        "id": "bDONKtE1BJht"
      },
      "outputs": [],
      "source": [
        "class Discriminator(nn.Module):\n",
        "    \n",
        "    def __init__(self, n_inputs):\n",
        "        super(Discriminator, self).__init__()\n",
        "        \n",
        "        ### YOUR CODE IS HERE ######\n",
        "        self.net = nn.Sequential(\n",
        "            nn.Linear(n_inputs, 100),\n",
        "            nn.ReLU(),\n",
        "            nn.Linear(100, 100),\n",
        "            nn.ReLU(),\n",
        "            nn.Linear(100, 1)\n",
        "        )\n",
        "        ### THE END OF YOUR CODE ###\n",
        "\n",
        "    def forward(self, x, y):\n",
        "        xy = torch.cat((x, y), dim=1).to(device)\n",
        "        return self.net(xy)"
      ]
    },
    {
      "cell_type": "markdown",
      "metadata": {
        "id": "RDuKbSMuBJhu"
      },
      "source": [
        "## Задание 4 (2 балла)\n",
        "\n",
        "Реализуйте класс для обучения генеративной модели.\n",
        "\n",
        "- Подсказка 1: не забывайте ограничивать веса дискриминатора. Для этого используйте `p.data.clamp_(-0.01, 0.01)`, где `p` веса дискриминатора.\n",
        "- Подсказка 2: `n_critic` - число итераций обучения дискриминатора на одну итерацию обучения генератора.\n",
        "- Подсказка 3: Используйте `X_tensor = torch.tensor(X_numpy, dtype=torch.float, device=DEVICE)` для перевода numpy в тензор."
      ]
    },
    {
      "cell_type": "code",
      "source": [
        "from typing import Optional\n",
        "from typing_extensions import Literal\n",
        "from tqdm.notebook import tqdm\n",
        "\n",
        "\n",
        "def wgan_loss(real_objects_scores: torch.Tensor,\n",
        "             generated_objects_scores: torch.Tensor, \n",
        "             by: Literal['generator', 'discriminator'] = 'generator') -> torch.Tensor:\n",
        "  '''\n",
        "  Имплементирует подсчет лосса для генератора и дискриминатора.\n",
        "  '''\n",
        "  if by=='generator':\n",
        "    # возвращает лосс генератора\n",
        "    return -generated_objects_scores.mean()#YOUR CODE HERE\n",
        "  elif by == 'discriminator':\n",
        "    # возвращает лосс дискриминатора\n",
        "    return  generated_objects_scores.mean() - real_objects_scores.mean()\n",
        "\n",
        "def train_gan(tr_dataloader,\n",
        "              gen, discr, \n",
        "              gen_opt, discr_opt,\n",
        "              loss_func, prior,\n",
        "              num_epochs, gen_steps, discr_steps,\n",
        "              discr_params_clip_value=None,\n",
        "              verbose_num_iters=100,\n",
        "              data_type='2d', latent_dim_= 10):\n",
        "    '''\n",
        "    Имплементирует подсчет лосса для генератора и дискриминатора.\n",
        "    '''\n",
        "    gen.to(device)\n",
        "    discr.to(device)\n",
        "    gen.train()\n",
        "    discr.train()\n",
        "    gen_loss_trace = []\n",
        "    discr_loss_trace = []\n",
        "\n",
        "\n",
        "    iter_i = 0\n",
        "\n",
        "    for epoch_i in tqdm(range(num_epochs)):        \n",
        "        print(f'Epoch {epoch_i + 1}')\n",
        "        for batch in tr_dataloader:\n",
        "            # берем реальные объекты\n",
        "            for p in discr.parameters():\n",
        "                p.data.clamp_(-0.01, 0.01)\n",
        "\n",
        "\n",
        "            real_objects, y2 = batch\n",
        "            real_objects = real_objects.to(device)\n",
        "            y2 = y2.to(device)\n",
        "            \n",
        "            # генерируем новые объекты\n",
        "            num_objects = real_objects.shape[0]\n",
        "            z = torch.randn(num_objects, latent_dim_).to(device)\n",
        "            gen_objects = gen(z.to(device), y2.to(device), num_objects).cuda()\n",
        "\n",
        "            # считаем скоры\n",
        "            #print(real_objects, '\\nCheck\\n',  gen_objects, torch.cat([real_objects, gen_objects], dim=0).to(device), torch.cat([y, y], dim=0), num_objects).to(device))\n",
        "            real_objects_scores, gen_objects_scores = torch.split(discr(\n",
        "                torch.cat([real_objects, gen_objects], dim=0).to(device), \n",
        "                torch.cat([y2, y2], dim=0).to(device)), num_objects)\n",
        "\n",
        "            if (iter_i % (gen_steps + discr_steps)) < gen_steps:\n",
        "              # делаем шаг обучения генератора\n",
        "                gen_opt.zero_grad()\n",
        "                gen_loss = loss_func(real_objects_scores, gen_objects_scores, 'generator')\n",
        "                gen_loss.backward()\n",
        "                gen_opt.step()\n",
        "                gen_loss_trace.append((iter_i, gen_loss.item()))\n",
        "            else:\n",
        "              # делаем шаг обучения дискриминатора\n",
        "                discr_opt.zero_grad()\n",
        "                discr_loss = loss_func(real_objects_scores, gen_objects_scores, 'discriminator')\n",
        "                discr_loss.backward()\n",
        "                discr_opt.step()\n",
        "                discr_loss_trace.append((iter_i, discr_loss.item()))\n",
        "\n",
        "                \n",
        "        \n",
        "            iter_i += 1\n",
        "\n",
        "            # раз в verbose_num_iters визуализируем наши лоссы и семплы\n",
        "            if iter_i % verbose_num_iters == 0:\n",
        "                clear_output(wait=True)\n",
        "                plt.figure(figsize=(10, 10))\n",
        "                \n",
        "                plt.subplot(1, 3, 1)\n",
        "                plt.xlabel('Iteration')\n",
        "                plt.ylabel('Generator loss')\n",
        "                plt.plot([p[0] for p in gen_loss_trace], \n",
        "                         [p[1] for p in gen_loss_trace])\n",
        "\n",
        "                plt.subplot(1, 3, 2)\n",
        "                plt.xlabel('Iteration')\n",
        "                plt.ylabel('Discriminator loss')\n",
        "                plt.plot([p[0] for p in discr_loss_trace], \n",
        "                         [p[1] for p in discr_loss_trace], color='orange')\n",
        "                    \n",
        "                gen.eval()\n",
        "                \n",
        "\n",
        "                plt.show()\n",
        "                gen.train()\n",
        "                \n",
        "    gen.eval()\n",
        "    discr.eval()"
      ],
      "metadata": {
        "id": "_KTI5EfgiYN8"
      },
      "execution_count": null,
      "outputs": []
    },
    {
      "cell_type": "markdown",
      "metadata": {
        "id": "Ypz4BBqaBJhv"
      },
      "source": [
        "## Обучение\n",
        "Обучим модель на данных."
      ]
    },
    {
      "cell_type": "code",
      "source": [
        "X_real = torch.tensor(X_train, dtype=torch.float, device=device)\n",
        "y_cond = torch.tensor(y_train, dtype=torch.float, device=device)\n",
        "\n",
        "# tensor to dataset\n",
        "dataset_real = TensorDataset(X_real, y_cond)\n",
        "loader = DataLoader(dataset_real, batch_size=BATCH_SIZE, shuffle=True, drop_last=True)\n"
      ],
      "metadata": {
        "id": "fdMNWlAQOO0T"
      },
      "execution_count": null,
      "outputs": []
    },
    {
      "cell_type": "code",
      "execution_count": null,
      "metadata": {
        "id": "zXhiigySBJhw",
        "colab": {
          "base_uri": "https://localhost:8080/",
          "height": 606,
          "referenced_widgets": [
            "fd19c18b552d4965bd2feaff113e743d",
            "b683c7ab184d442d8adcde04e3a66137",
            "b8ac7d7989ec46c78c28438e484da5b8",
            "01f68ca636474e7dbf6bea3f749b9175",
            "8366d503f4734d3897e7360121aeee03",
            "ea117335977b44af83b1f5b9de1af0a0",
            "58528b57322a4eca82b51ea696433780",
            "27715c4c518940bd982ffcbb3587d913",
            "ea6de5c2eb81496dbd5e035cd70ac56f",
            "8a500880847d43a3b1e30146c845228c",
            "37f288bac821495db628a5cbb3ba89a2"
          ]
        },
        "outputId": "23e884f4-5223-4e4f-f02e-c95fd5443349"
      },
      "outputs": [
        {
          "output_type": "display_data",
          "data": {
            "image/png": "[encoded data removed]",
            "text/plain": [
              "<Figure size 720x720 with 2 Axes>"
            ]
          },
          "metadata": {
            "needs_background": "light"
          }
        }
      ],
      "source": [
        "latent_dim = 32\n",
        "generator     = Generator(n_inputs=latent_dim+y.shape[1] + 1, \n",
        "                          n_outputs=X_train.shape[1])\n",
        "\n",
        "\n",
        "discriminator = Discriminator(n_inputs=X_train.shape[1]+y.shape[1])\n",
        "\n",
        "gen_opt = torch.optim.RMSprop(generator.parameters(), lr=3e-4)\n",
        "discr_opt = torch.optim.RMSprop(discriminator.parameters(), lr=3e-4) \n",
        "\n",
        "\n",
        "\n",
        "\n",
        "prior_2d = torch.distributions.Normal(torch.zeros(2).cuda(), torch.ones(2).cuda()) # not used\n",
        "train_gan(loader, generator, discriminator, gen_opt, discr_opt, \n",
        "          wgan_loss, prior_2d, num_epochs=82, gen_steps=1, discr_steps=5,\n",
        "          verbose_num_iters=100, latent_dim_ = latent_dim)"
      ]
    },
    {
      "cell_type": "markdown",
      "metadata": {
        "id": "MiNn4bTBBJhy"
      },
      "source": [
        "## Задание 5 (1 балл)\n",
        "\n",
        "Реализуйте функцию для генерации новый объектов $X$ по вектору условий $y$."
      ]
    },
    {
      "cell_type": "code",
      "execution_count": null,
      "metadata": {
        "id": "iNVaGQ6gBJhz"
      },
      "outputs": [],
      "source": [
        "def generate(generator_, y, latent_dim_):\n",
        "    ### YOUR CODE IS HERE ######\n",
        "    z = torch.randn(len(y), latent_dim_).to(device)\n",
        "    y = torch.tensor(y, dtype=torch.float, device=device)\n",
        "    X_fake = generator_(z, y, len(y)).cuda()\n",
        "    ### THE END OF YOUR CODE ###\n",
        "    return X_fake # numpy"
      ]
    },
    {
      "cell_type": "markdown",
      "metadata": {
        "id": "_ZGAkZnsBJhz"
      },
      "source": [
        "Теперь сгенерируем фейковые матрицы `X_fake_train` и `X_fake_test`. Сравним их с матрицами реальных объектов `X_train` и `X_test`"
      ]
    },
    {
      "cell_type": "code",
      "execution_count": null,
      "metadata": {
        "id": "dAgaUaHKBJh0"
      },
      "outputs": [],
      "source": [
        "X_fake_train = generate(generator, y_train, latent_dim).cpu().detach().numpy()"
      ]
    },
    {
      "cell_type": "code",
      "execution_count": null,
      "metadata": {
        "id": "5X5ELHyfBJh0",
        "colab": {
          "base_uri": "https://localhost:8080/",
          "height": 585
        },
        "outputId": "5f8a2fbe-59c5-4341-e3ba-6a55fdec81ce"
      },
      "outputs": [
        {
          "output_type": "display_data",
          "data": {
            "image/png": "[encoded data removed]",
            "text/plain": [
              "<Figure size 1152x576 with 10 Axes>"
            ]
          },
          "metadata": {
            "needs_background": "light"
          }
        }
      ],
      "source": [
        "plot_hists(X_train, X_fake_train , names, label1=\"Real\", label2=\"Fake\", bins=50)"
      ]
    },
    {
      "cell_type": "code",
      "execution_count": null,
      "metadata": {
        "id": "_sc5aXhcBJh1"
      },
      "outputs": [],
      "source": [
        "X_fake_test = generate(generator, y_test, latent_dim).cpu().detach().numpy()"
      ]
    },
    {
      "cell_type": "code",
      "execution_count": null,
      "metadata": {
        "id": "Z7NDEy2yBJh2",
        "colab": {
          "base_uri": "https://localhost:8080/",
          "height": 585
        },
        "outputId": "f999a331-ad95-461b-ccad-cc036de41f4a"
      },
      "outputs": [
        {
          "output_type": "display_data",
          "data": {
            "image/png": "[encoded data removed]",
            "text/plain": [
              "<Figure size 1152x576 with 10 Axes>"
            ]
          },
          "metadata": {
            "needs_background": "light"
          }
        }
      ],
      "source": [
        "plot_hists(X_test, X_fake_test, names, label1=\"Real\", label2=\"Fake\", bins=50)"
      ]
    },
    {
      "cell_type": "markdown",
      "metadata": {
        "id": "KFGiG7CCBJh2"
      },
      "source": [
        "## Вывод 1: \n",
        "Визуально мы видим сходство реальных и фейковых данных. Однако это только проекции 10-мерных объектов на одну ось."
      ]
    },
    {
      "cell_type": "markdown",
      "metadata": {
        "id": "M3j3M8NbBJh3"
      },
      "source": [
        "# Измерение качества генерации\n",
        "\n",
        "<center><img src=\"https://github.com/hse-ds/iad-applied-ds/blob/master/2021/hw/hw1/img/clf.png?raw=1\" width=\"600\"></center>\n",
        "\n",
        "Измерим сходство распределений классификатором."
      ]
    },
    {
      "cell_type": "code",
      "execution_count": null,
      "metadata": {
        "id": "JJxnEgdGBJh3"
      },
      "outputs": [],
      "source": [
        "# собираем реальный и фейковые матрицы в одну\n",
        "XX_train = np.concatenate((X_fake_train, X_train), axis=0)\n",
        "XX_test = np.concatenate((X_fake_test, X_test), axis=0)\n",
        "\n",
        "yy_train = np.array([0]*len(X_fake_train) + [1]*len(X_train))\n",
        "yy_test = np.array([0]*len(X_fake_test) + [1]*len(X_test))"
      ]
    },
    {
      "cell_type": "code",
      "execution_count": null,
      "metadata": {
        "id": "opmffNcPBJh4"
      },
      "outputs": [],
      "source": [
        "from sklearn.ensemble import GradientBoostingClassifier\n",
        "\n",
        "# обучаем классификатор\n",
        "clf = GradientBoostingClassifier()\n",
        "clf.fit(XX_train, yy_train)\n",
        "\n",
        "# получаем прогнозы\n",
        "yy_test_proba = clf.predict_proba(XX_test)[:, 1]"
      ]
    },
    {
      "cell_type": "code",
      "execution_count": null,
      "metadata": {
        "id": "7Q9X1HmmBJh5",
        "colab": {
          "base_uri": "https://localhost:8080/"
        },
        "outputId": "a3dec343-f376-474c-fb5d-58eae12a2314"
      },
      "outputs": [
        {
          "output_type": "stream",
          "name": "stdout",
          "text": [
            "ROC AUC =  0.752788541808335\n"
          ]
        }
      ],
      "source": [
        "from sklearn.metrics import roc_auc_score\n",
        "\n",
        "auc = roc_auc_score(yy_test, yy_test_proba)\n",
        "print(\"ROC AUC = \", auc)"
      ]
    },
    {
      "cell_type": "markdown",
      "metadata": {
        "id": "MfsX_DHmBJh6"
      },
      "source": [
        "## Вывод 2\n",
        "\n",
        "Идеальное значение ROC AUC равно 0.5. Это соответствует случаю, когда классификатор не может разделить реальные и фейковые данные. В нашем случае ROC AUC около 0.7, что говорит о том, что есть куда улучшать качество генеративной модели :)"
      ]
    },
    {
      "cell_type": "markdown",
      "metadata": {
        "id": "FR4-mIvDBJh7"
      },
      "source": [
        "# Условные вариационные автокодировщики"
      ]
    },
    {
      "cell_type": "markdown",
      "metadata": {
        "id": "df_zzfOEBJh7"
      },
      "source": [
        "<center><img src=\"https://github.com/hse-ds/iad-applied-ds/blob/master/2021/hw/hw1/img/cvae.svg?raw=1\" width=\"600\"></center>\n",
        "\n",
        "Теперь, решим эту же задачу используя условный автокодировщик (CVAE). Пользуясь вашим семинаром по теме вариационных автокодировщиков выполните следующие задания."
      ]
    },
    {
      "cell_type": "markdown",
      "metadata": {
        "id": "uzXeXh4zBJh8"
      },
      "source": [
        "## Задание 6 (1 балл)\n",
        "\n",
        "Реализуйте нейронную сеть для декодеровщика со следующими слоями:\n",
        "- Полносвязный слой со 100 нейронами;\n",
        "- Слой батч-нормализации;\n",
        "- ReLU функцию активации;\n",
        "- Полносвязный слой со 100 нейронами;\n",
        "- Слой батч-нормализации;\n",
        "- ReLU функцию активации;\n",
        "- Выходной слой для mu; Выходной слой для log_sigma;\n",
        "\n",
        "Подсказка: используйте функцию `nn.Sequential()`."
      ]
    },
    {
      "cell_type": "code",
      "execution_count": null,
      "metadata": {
        "id": "fKiCWEnFBJh9"
      },
      "outputs": [],
      "source": [
        "class Encoder(nn.Module):\n",
        "    def __init__(self, n_inputs, lat_size):\n",
        "        super(Encoder, self).__init__()\n",
        "        \n",
        "        ### YOUR CODE IS HERE ######\n",
        "        self.enc_net = nn.Sequential(\n",
        "            nn.Linear(n_inputs, 100),\n",
        "            nn.BatchNorm1d(100),\n",
        "            nn.LeakyReLU(),\n",
        "            nn.Linear(100, 100),\n",
        "            nn.BatchNorm1d(100),\n",
        "            nn.LeakyReLU()\n",
        "            \n",
        "\n",
        "        )\n",
        "        \n",
        "        self.mu = nn.Linear(100, lat_size)\n",
        "        self.log_sigma =  nn.Linear(100, lat_size)\n",
        "        ### THE END OF YOUR CODE ###\n",
        "        \n",
        "    def forward(self, x, y):\n",
        "        z = torch.cat((x, y), dim=1)\n",
        "        z = self.enc_net(z)\n",
        "        mu = self.mu(z)\n",
        "        log_sigma = self.log_sigma(z)\n",
        "        return mu, log_sigma "
      ]
    },
    {
      "cell_type": "markdown",
      "metadata": {
        "id": "ZCdjGn6BBJh9"
      },
      "source": [
        "## Задание 7 (1 балл)\n",
        "\n",
        "Реализуйте нейронную сеть для декодеровщика со следующими слоями:\n",
        "- Полносвязный слой со 100 нейронами;\n",
        "- ReLU функцию активации;\n",
        "- Полносвязный слой со 100 нейронами;\n",
        "- ReLU функцию активации;\n",
        "- Выходной слой.\n",
        "\n",
        "Подсказка: используйте функцию `nn.Sequential()`."
      ]
    },
    {
      "cell_type": "code",
      "execution_count": null,
      "metadata": {
        "id": "MT4ODk-MBJh-"
      },
      "outputs": [],
      "source": [
        "class Decoder(nn.Module):\n",
        "    def __init__(self, n_inputs, n_outputs):\n",
        "        super(Decoder, self).__init__()\n",
        "        \n",
        "        ### YOUR CODE IS HERE ######\n",
        "        self.dec_net = nn.Sequential(\n",
        "            nn.Linear(n_inputs, 100), \n",
        "            nn.LeakyReLU(),\n",
        "            nn.Linear(100, 100), \n",
        "            nn.LeakyReLU(),\n",
        "            nn.Linear(100, n_outputs)      \n",
        "            )\n",
        "        ### THE END OF YOUR CODE ###\n",
        "        \n",
        "    def forward(self, z, y):\n",
        "        z_cond = torch.cat((z, y), dim=1)\n",
        "        x_rec = self.dec_net(z_cond)\n",
        "        return x_rec"
      ]
    },
    {
      "cell_type": "markdown",
      "metadata": {
        "id": "ImcCkOgNBJh_"
      },
      "source": [
        "## Задание 8 (1 балл)\n",
        "\n",
        "Реализуйте класс для обучения вариационного автокодировщика.\n",
        "\n",
        "Подсказка: Используйте `X_tensor = torch.tensor(X_numpy, dtype=torch.float, device=DEVICE)` для перевода numpy в тензор."
      ]
    },
    {
      "cell_type": "code",
      "execution_count": null,
      "metadata": {
        "id": "OZEltHKYBJh_"
      },
      "outputs": [],
      "source": [
        "DEVICE = device\n",
        "class VAEFitter(object):\n",
        "    \n",
        "    def __init__(self, encoder, decoder, batch_size=32, n_epochs=10, latent_dim=1, lr=0.0001, KL_weight=0.001):\n",
        "        \n",
        "        self.encoder = encoder\n",
        "        self.decoder = decoder\n",
        "        self.batch_size = batch_size\n",
        "        self.n_epochs = n_epochs\n",
        "        self.latent_dim = latent_dim\n",
        "        self.lr = lr\n",
        "        self.KL_weight = KL_weight\n",
        "        \n",
        "        self.criterion = nn.MSELoss()\n",
        "        self.opt  = torch.optim.RMSprop(list(self.encoder.parameters()) + list(self.decoder.parameters()), lr=self.lr)\n",
        "        \n",
        "        self.encoder.to(DEVICE)\n",
        "        self.decoder.to(DEVICE)\n",
        "      \n",
        "    def encode(self, x: torch.Tensor, y: torch.Tensor) -> torch.Tensor:\n",
        "        return self.encoder(x, y)\n",
        "    \n",
        "    def decode(self, z: torch.Tensor, y: torch.Tensor) -> torch.Tensor:\n",
        "        #print(z.shape)\n",
        "        #print(y.shape)\n",
        "        #print('Cicly done')\n",
        "        return self.decoder(z, y)\n",
        "    \n",
        "        \n",
        "        \n",
        "    def sample_z(self, mu, log_sigma):\n",
        "        eps = torch.randn(mu.shape).to(DEVICE)\n",
        "        return mu + torch.exp(log_sigma / 2) * eps\n",
        "    \n",
        "    def custom_loss(self, x, rec_x, mu, log_sigma):\n",
        "        KL = torch.mean(-0.5 * torch.sum(1 + log_sigma - mu ** 2 - log_sigma.exp(), dim = 1), dim = 0)\n",
        "        recon_loss = self.criterion(x, rec_x)\n",
        "        return KL*self.KL_weight + recon_loss\n",
        "    \n",
        "    \n",
        "    def compute_loss(self, x_batch, cond_batch):\n",
        "              ### YOUR CODE IS HERE ######\n",
        "\n",
        "        mu, log_sigma = self.encode(x_batch, cond_batch)\n",
        "        z = self.sample_z(mu, log_sigma)\n",
        "        reconstructed_x = self.decode(z, cond_batch)\n",
        "        \n",
        "        loss = self.custom_loss(x_batch, reconstructed_x, mu, log_sigma)\n",
        "        \n",
        "        ### THE END OF YOUR CODE ###\n",
        "        \n",
        "        return loss\n",
        "    \n",
        "    \n",
        "    def fit(self, X, y):\n",
        "        \n",
        "        # numpy to tensor\n",
        "        X_real = torch.tensor(X, dtype=torch.float, device=DEVICE)\n",
        "        y_cond = torch.tensor(y, dtype=torch.float, device=DEVICE)\n",
        "        \n",
        "        # tensor to dataset\n",
        "        dataset_real = TensorDataset(X_real, y_cond)\n",
        "        \n",
        "        # Turn on training\n",
        "        self.encoder.train(True)\n",
        "        self.decoder.train(True)\n",
        "        \n",
        "        self.loss_history = []\n",
        "\n",
        "        # Fit CVAE\n",
        "        for epoch in range(self.n_epochs):\n",
        "            for i, (x_batch, cond_batch) in enumerate(DataLoader(dataset_real, batch_size=self.batch_size, shuffle=True)):\n",
        "                \n",
        "                # caiculate loss\n",
        "                loss = self.compute_loss(x_batch, cond_batch)\n",
        "                \n",
        "                # optimization step\n",
        "                self.opt.zero_grad()\n",
        "                loss.backward()\n",
        "                self.opt.step()\n",
        "                    \n",
        "            # caiculate and store loss after an epoch\n",
        "            loss_epoch = self.compute_loss(X_real, y_cond)\n",
        "            print(f'Train Epoch number {epoch+1}, Train loss = {loss_epoch:.3f}')\n",
        "            self.loss_history.append(loss_epoch.detach().cpu())\n",
        "            \n",
        "                    \n",
        "        # Turn off training\n",
        "        self.encoder.train(False)\n",
        "        self.decoder.train(False)\n",
        "clear_output()"
      ]
    },
    {
      "cell_type": "markdown",
      "metadata": {
        "id": "IG9h64aEBJiB"
      },
      "source": [
        "## Обучение\n",
        "Обучим модель на данных."
      ]
    },
    {
      "cell_type": "code",
      "execution_count": null,
      "metadata": {
        "id": "oJmOpDvNBJiC",
        "colab": {
          "base_uri": "https://localhost:8080/"
        },
        "outputId": "d3bce8af-f4c8-4180-e605-b3d4edb7e7b6"
      },
      "outputs": [
        {
          "output_type": "stream",
          "name": "stdout",
          "text": [
            "Train Epoch number 1, Train loss = 0.285\n",
            "Train Epoch number 2, Train loss = 0.077\n",
            "Train Epoch number 3, Train loss = 0.068\n",
            "Train Epoch number 4, Train loss = 0.074\n",
            "Train Epoch number 5, Train loss = 0.199\n",
            "Train Epoch number 6, Train loss = 0.069\n",
            "Train Epoch number 7, Train loss = 0.049\n",
            "Train Epoch number 8, Train loss = 0.058\n",
            "Train Epoch number 9, Train loss = 0.056\n",
            "Train Epoch number 10, Train loss = 0.049\n",
            "Train Epoch number 11, Train loss = 0.042\n",
            "Train Epoch number 12, Train loss = 0.058\n",
            "Train Epoch number 13, Train loss = 0.047\n",
            "Train Epoch number 14, Train loss = 0.067\n",
            "Train Epoch number 15, Train loss = 0.052\n",
            "Train Epoch number 16, Train loss = 0.043\n",
            "Train Epoch number 17, Train loss = 0.046\n",
            "Train Epoch number 18, Train loss = 0.046\n",
            "Train Epoch number 19, Train loss = 0.052\n",
            "Train Epoch number 20, Train loss = 0.045\n",
            "Train Epoch number 21, Train loss = 0.043\n",
            "Train Epoch number 22, Train loss = 0.048\n",
            "Train Epoch number 23, Train loss = 0.054\n",
            "Train Epoch number 24, Train loss = 0.038\n",
            "Train Epoch number 25, Train loss = 0.041\n",
            "Train Epoch number 26, Train loss = 0.060\n",
            "Train Epoch number 27, Train loss = 0.041\n",
            "Train Epoch number 28, Train loss = 0.041\n",
            "Train Epoch number 29, Train loss = 0.070\n",
            "Train Epoch number 30, Train loss = 0.056\n",
            "Train Epoch number 31, Train loss = 0.065\n",
            "Train Epoch number 32, Train loss = 0.045\n",
            "Train Epoch number 33, Train loss = 0.048\n",
            "Train Epoch number 34, Train loss = 0.041\n",
            "Train Epoch number 35, Train loss = 0.042\n",
            "Train Epoch number 36, Train loss = 0.045\n",
            "Train Epoch number 37, Train loss = 0.063\n",
            "Train Epoch number 38, Train loss = 0.048\n",
            "Train Epoch number 39, Train loss = 0.045\n",
            "Train Epoch number 40, Train loss = 0.043\n",
            "Train Epoch number 41, Train loss = 0.043\n",
            "Train Epoch number 42, Train loss = 0.066\n",
            "Train Epoch number 43, Train loss = 0.036\n",
            "Train Epoch number 44, Train loss = 0.076\n",
            "Train Epoch number 45, Train loss = 0.040\n",
            "Train Epoch number 46, Train loss = 0.055\n",
            "Train Epoch number 47, Train loss = 0.048\n",
            "Train Epoch number 48, Train loss = 0.047\n",
            "Train Epoch number 49, Train loss = 0.046\n",
            "Train Epoch number 50, Train loss = 0.073\n",
            "Train Epoch number 51, Train loss = 0.054\n",
            "Train Epoch number 52, Train loss = 0.039\n",
            "Train Epoch number 53, Train loss = 0.048\n",
            "Train Epoch number 54, Train loss = 0.036\n",
            "Train Epoch number 55, Train loss = 0.040\n",
            "Train Epoch number 56, Train loss = 0.042\n",
            "Train Epoch number 57, Train loss = 0.041\n",
            "Train Epoch number 58, Train loss = 0.060\n",
            "Train Epoch number 59, Train loss = 0.042\n",
            "Train Epoch number 60, Train loss = 0.036\n",
            "Train Epoch number 61, Train loss = 0.036\n",
            "Train Epoch number 62, Train loss = 0.037\n",
            "Train Epoch number 63, Train loss = 0.059\n",
            "Train Epoch number 64, Train loss = 0.039\n",
            "Train Epoch number 65, Train loss = 0.051\n",
            "Train Epoch number 66, Train loss = 0.038\n",
            "Train Epoch number 67, Train loss = 0.047\n",
            "Train Epoch number 68, Train loss = 0.036\n",
            "Train Epoch number 69, Train loss = 0.054\n",
            "Train Epoch number 70, Train loss = 0.041\n",
            "Train Epoch number 71, Train loss = 0.041\n",
            "Train Epoch number 72, Train loss = 0.044\n",
            "Train Epoch number 73, Train loss = 0.076\n",
            "Train Epoch number 74, Train loss = 0.043\n",
            "Train Epoch number 75, Train loss = 0.061\n",
            "Train Epoch number 76, Train loss = 0.046\n",
            "Train Epoch number 77, Train loss = 0.038\n",
            "Train Epoch number 78, Train loss = 0.041\n",
            "Train Epoch number 79, Train loss = 0.057\n",
            "Train Epoch number 80, Train loss = 0.057\n",
            "Train Epoch number 81, Train loss = 0.034\n",
            "Train Epoch number 82, Train loss = 0.041\n",
            "Train Epoch number 83, Train loss = 0.066\n",
            "Train Epoch number 84, Train loss = 0.046\n",
            "Train Epoch number 85, Train loss = 0.046\n",
            "Train Epoch number 86, Train loss = 0.044\n",
            "Train Epoch number 87, Train loss = 0.034\n",
            "Train Epoch number 88, Train loss = 0.048\n",
            "Train Epoch number 89, Train loss = 0.041\n",
            "Train Epoch number 90, Train loss = 0.034\n",
            "Train Epoch number 91, Train loss = 0.038\n",
            "Train Epoch number 92, Train loss = 0.033\n",
            "Train Epoch number 93, Train loss = 0.039\n",
            "Train Epoch number 94, Train loss = 0.046\n",
            "Train Epoch number 95, Train loss = 0.034\n",
            "Train Epoch number 96, Train loss = 0.044\n",
            "Train Epoch number 97, Train loss = 0.038\n",
            "Train Epoch number 98, Train loss = 0.048\n",
            "Train Epoch number 99, Train loss = 0.038\n",
            "Train Epoch number 100, Train loss = 0.044\n",
            "Train Epoch number 101, Train loss = 0.045\n",
            "Train Epoch number 102, Train loss = 0.034\n",
            "Train Epoch number 103, Train loss = 0.040\n",
            "Train Epoch number 104, Train loss = 0.040\n",
            "Train Epoch number 105, Train loss = 0.045\n",
            "Train Epoch number 106, Train loss = 0.043\n",
            "Train Epoch number 107, Train loss = 0.046\n",
            "Train Epoch number 108, Train loss = 0.049\n",
            "Train Epoch number 109, Train loss = 0.042\n",
            "Train Epoch number 110, Train loss = 0.035\n",
            "Train Epoch number 111, Train loss = 0.036\n",
            "Train Epoch number 112, Train loss = 0.040\n",
            "Train Epoch number 113, Train loss = 0.033\n",
            "Train Epoch number 114, Train loss = 0.037\n",
            "Train Epoch number 115, Train loss = 0.038\n",
            "Train Epoch number 116, Train loss = 0.107\n",
            "Train Epoch number 117, Train loss = 0.034\n",
            "Train Epoch number 118, Train loss = 0.032\n",
            "Train Epoch number 119, Train loss = 0.037\n",
            "Train Epoch number 120, Train loss = 0.049\n",
            "Train Epoch number 121, Train loss = 0.060\n",
            "Train Epoch number 122, Train loss = 0.044\n",
            "Train Epoch number 123, Train loss = 0.074\n",
            "Train Epoch number 124, Train loss = 0.039\n",
            "Train Epoch number 125, Train loss = 0.053\n",
            "Train Epoch number 126, Train loss = 0.037\n",
            "Train Epoch number 127, Train loss = 0.037\n",
            "Train Epoch number 128, Train loss = 0.047\n",
            "Train Epoch number 129, Train loss = 0.037\n",
            "Train Epoch number 130, Train loss = 0.068\n",
            "Train Epoch number 131, Train loss = 0.044\n",
            "Train Epoch number 132, Train loss = 0.036\n",
            "Train Epoch number 133, Train loss = 0.045\n",
            "Train Epoch number 134, Train loss = 0.031\n",
            "Train Epoch number 135, Train loss = 0.037\n",
            "Train Epoch number 136, Train loss = 0.068\n",
            "Train Epoch number 137, Train loss = 0.043\n",
            "Train Epoch number 138, Train loss = 0.061\n",
            "Train Epoch number 139, Train loss = 0.044\n",
            "Train Epoch number 140, Train loss = 0.033\n",
            "Train Epoch number 141, Train loss = 0.033\n",
            "Train Epoch number 142, Train loss = 0.040\n",
            "Train Epoch number 143, Train loss = 0.036\n",
            "Train Epoch number 144, Train loss = 0.043\n",
            "Train Epoch number 145, Train loss = 0.037\n",
            "Train Epoch number 146, Train loss = 0.040\n",
            "Train Epoch number 147, Train loss = 0.039\n",
            "Train Epoch number 148, Train loss = 0.039\n",
            "Train Epoch number 149, Train loss = 0.064\n",
            "Train Epoch number 150, Train loss = 0.032\n",
            "Train Epoch number 151, Train loss = 0.035\n",
            "Train Epoch number 152, Train loss = 0.034\n",
            "Train Epoch number 153, Train loss = 0.039\n",
            "Train Epoch number 154, Train loss = 0.036\n",
            "Train Epoch number 155, Train loss = 0.037\n",
            "Train Epoch number 156, Train loss = 0.039\n",
            "Train Epoch number 157, Train loss = 0.047\n",
            "Train Epoch number 158, Train loss = 0.039\n",
            "Train Epoch number 159, Train loss = 0.037\n",
            "Train Epoch number 160, Train loss = 0.049\n",
            "Train Epoch number 161, Train loss = 0.033\n",
            "Train Epoch number 162, Train loss = 0.038\n",
            "Train Epoch number 163, Train loss = 0.046\n",
            "Train Epoch number 164, Train loss = 0.040\n",
            "Train Epoch number 165, Train loss = 0.044\n",
            "Train Epoch number 166, Train loss = 0.049\n",
            "Train Epoch number 167, Train loss = 0.039\n",
            "Train Epoch number 168, Train loss = 0.044\n",
            "Train Epoch number 169, Train loss = 0.032\n",
            "Train Epoch number 170, Train loss = 0.041\n",
            "Train Epoch number 171, Train loss = 0.039\n",
            "Train Epoch number 172, Train loss = 0.040\n",
            "Train Epoch number 173, Train loss = 0.057\n",
            "Train Epoch number 174, Train loss = 0.060\n",
            "Train Epoch number 175, Train loss = 0.034\n",
            "Train Epoch number 176, Train loss = 0.036\n",
            "Train Epoch number 177, Train loss = 0.038\n",
            "Train Epoch number 178, Train loss = 0.049\n",
            "Train Epoch number 179, Train loss = 0.053\n",
            "Train Epoch number 180, Train loss = 0.045\n",
            "Train Epoch number 181, Train loss = 0.047\n",
            "Train Epoch number 182, Train loss = 0.038\n",
            "Train Epoch number 183, Train loss = 0.084\n",
            "Train Epoch number 184, Train loss = 0.042\n",
            "Train Epoch number 185, Train loss = 0.045\n",
            "Train Epoch number 186, Train loss = 0.040\n",
            "Train Epoch number 187, Train loss = 0.037\n",
            "Train Epoch number 188, Train loss = 0.045\n",
            "Train Epoch number 189, Train loss = 0.037\n",
            "Train Epoch number 190, Train loss = 0.049\n",
            "Train Epoch number 191, Train loss = 0.048\n",
            "Train Epoch number 192, Train loss = 0.047\n",
            "Train Epoch number 193, Train loss = 0.035\n",
            "Train Epoch number 194, Train loss = 0.041\n",
            "Train Epoch number 195, Train loss = 0.040\n",
            "Train Epoch number 196, Train loss = 0.031\n",
            "Train Epoch number 197, Train loss = 0.043\n",
            "Train Epoch number 198, Train loss = 0.039\n",
            "Train Epoch number 199, Train loss = 0.038\n",
            "Train Epoch number 200, Train loss = 0.060\n",
            "Train Epoch number 201, Train loss = 0.044\n",
            "Train Epoch number 202, Train loss = 0.044\n",
            "Train Epoch number 203, Train loss = 0.040\n",
            "Train Epoch number 204, Train loss = 0.033\n",
            "Train Epoch number 205, Train loss = 0.036\n",
            "Train Epoch number 206, Train loss = 0.033\n",
            "Train Epoch number 207, Train loss = 0.038\n",
            "Train Epoch number 208, Train loss = 0.054\n",
            "Train Epoch number 209, Train loss = 0.090\n",
            "Train Epoch number 210, Train loss = 0.036\n",
            "Train Epoch number 211, Train loss = 0.043\n",
            "Train Epoch number 212, Train loss = 0.034\n",
            "Train Epoch number 213, Train loss = 0.040\n",
            "Train Epoch number 214, Train loss = 0.037\n",
            "Train Epoch number 215, Train loss = 0.037\n",
            "Train Epoch number 216, Train loss = 0.036\n",
            "Train Epoch number 217, Train loss = 0.042\n",
            "Train Epoch number 218, Train loss = 0.037\n",
            "Train Epoch number 219, Train loss = 0.038\n",
            "Train Epoch number 220, Train loss = 0.051\n",
            "Train Epoch number 221, Train loss = 0.043\n",
            "Train Epoch number 222, Train loss = 0.037\n",
            "Train Epoch number 223, Train loss = 0.034\n",
            "Train Epoch number 224, Train loss = 0.057\n",
            "Train Epoch number 225, Train loss = 0.046\n",
            "Train Epoch number 226, Train loss = 0.041\n",
            "Train Epoch number 227, Train loss = 0.040\n",
            "Train Epoch number 228, Train loss = 0.040\n",
            "Train Epoch number 229, Train loss = 0.066\n",
            "Train Epoch number 230, Train loss = 0.035\n",
            "CPU times: user 3min 47s, sys: 5.28 s, total: 3min 52s\n",
            "Wall time: 3min 52s\n"
          ]
        }
      ],
      "source": [
        "%%time\n",
        "\n",
        "latent_dim = 10\n",
        "\n",
        "encoder = Encoder(n_inputs=X_train.shape[1]+y.shape[1], lat_size=latent_dim)\n",
        "decoder = Decoder(n_inputs=latent_dim+y.shape[1], n_outputs=X_train.shape[1])\n",
        "\n",
        "vae_fitter = VAEFitter(encoder, decoder, batch_size=50, n_epochs=230, latent_dim=latent_dim, lr=0.0005, KL_weight=0.001)\n",
        "vae_fitter.fit(X_train, y_train)"
      ]
    },
    {
      "cell_type": "code",
      "execution_count": null,
      "metadata": {
        "id": "_gyrr_SABJiC",
        "colab": {
          "base_uri": "https://localhost:8080/",
          "height": 359
        },
        "outputId": "0f02d30e-822b-431f-a5bb-7e986dc2c9cf"
      },
      "outputs": [
        {
          "output_type": "display_data",
          "data": {
            "image/png": "[encoded data removed]",
            "text/plain": [
              "<Figure size 648x360 with 1 Axes>"
            ]
          },
          "metadata": {
            "needs_background": "light"
          }
        }
      ],
      "source": [
        "# WGAN learning curve\n",
        "plt.figure(figsize=(9, 5))\n",
        "plt.plot(vae_fitter.loss_history)\n",
        "plt.xlabel(\"Epoch Number\", size=14)\n",
        "plt.ylabel(\"Loss Function\", size=14)\n",
        "plt.xticks(size=14)\n",
        "plt.yticks(size=14)\n",
        "plt.title(\"Conditional VAE Learning Curve\", size=14)\n",
        "plt.grid(b=1, linestyle='--', linewidth=0.5, color='0.5')\n",
        "plt.show()"
      ]
    },
    {
      "cell_type": "markdown",
      "metadata": {
        "id": "iME6zuwOBJiD"
      },
      "source": [
        "## Задание 9 (1 балл)\n",
        "\n",
        "Реализуйте функцию для генерации новый объектов $X$ по вектору условий $y$."
      ]
    },
    {
      "cell_type": "code",
      "execution_count": null,
      "metadata": {
        "id": "5lukMwycBJiE"
      },
      "outputs": [],
      "source": [
        "def generate(decoder, y, latent_dim):\n",
        "    ### YOUR CODE IS HERE ######\n",
        "    y = torch.tensor(y_train, dtype=torch.float, device=DEVICE)\n",
        "    z = torch.randn((len(y), latent_dim)).to(DEVICE)\n",
        "    X_fake = decoder(z, y)\n",
        "    ### THE END OF YOUR CODE ###\n",
        "    return X_fake # numpy"
      ]
    },
    {
      "cell_type": "markdown",
      "metadata": {
        "id": "iqDVp2xzBJiE"
      },
      "source": [
        "Теперь сгенерируем фейковые матрицы `X_fake_train` и `X_fake_test`. Сравним их с матрицами реальных объектов `X_train` и `X_test`"
      ]
    },
    {
      "cell_type": "code",
      "source": [
        "# garbage"
      ],
      "metadata": {
        "id": "vGYHDJsgZR8W"
      },
      "execution_count": null,
      "outputs": []
    },
    {
      "cell_type": "code",
      "execution_count": null,
      "metadata": {
        "id": "XihR4AcBBJiF"
      },
      "outputs": [],
      "source": [
        "X_fake_train = generate(vae_fitter.decoder, y_train, latent_dim).cpu().detach().numpy()"
      ]
    },
    {
      "cell_type": "code",
      "execution_count": null,
      "metadata": {
        "id": "Fc8UpZoEBJiF",
        "colab": {
          "base_uri": "https://localhost:8080/",
          "height": 585
        },
        "outputId": "dd91ee4e-9f29-4913-9be0-dc58ee49e2ed"
      },
      "outputs": [
        {
          "output_type": "display_data",
          "data": {
            "image/png": "[encoded data removed]",
            "text/plain": [
              "<Figure size 1152x576 with 10 Axes>"
            ]
          },
          "metadata": {
            "needs_background": "light"
          }
        }
      ],
      "source": [
        "plot_hists(X_train, X_fake_train, names, label1=\"Real\", label2=\"Fake\", bins=50)"
      ]
    },
    {
      "cell_type": "code",
      "execution_count": null,
      "metadata": {
        "id": "W2-DikzABJiG"
      },
      "outputs": [],
      "source": [
        "X_fake_test = generate(vae_fitter.decoder, y_test, latent_dim).cpu().detach().numpy()"
      ]
    },
    {
      "cell_type": "code",
      "execution_count": null,
      "metadata": {
        "id": "z1IvhG2OBJiG",
        "colab": {
          "base_uri": "https://localhost:8080/",
          "height": 585
        },
        "outputId": "e2a9689e-44af-4790-d03f-b37bf0030a84"
      },
      "outputs": [
        {
          "output_type": "display_data",
          "data": {
            "image/png": "[encoded data removed]",
            "text/plain": [
              "<Figure size 1152x576 with 10 Axes>"
            ]
          },
          "metadata": {
            "needs_background": "light"
          }
        }
      ],
      "source": [
        "plot_hists(X_test, X_fake_test, names, label1=\"Real\", label2=\"Fake\", bins=50)"
      ]
    },
    {
      "cell_type": "markdown",
      "metadata": {
        "id": "N8p7D84UBJiH"
      },
      "source": [
        "# Измерение качества генерации\n",
        "\n",
        "Измерим сходство распределений классификатором."
      ]
    },
    {
      "cell_type": "code",
      "execution_count": null,
      "metadata": {
        "id": "Grq5JX-IBJiI"
      },
      "outputs": [],
      "source": [
        "# собираем реальный и фейковые матрицы в одну\n",
        "XX_train = np.concatenate((X_fake_train, X_train), axis=0)\n",
        "XX_test = np.concatenate((X_fake_test, X_test), axis=0)\n",
        "\n",
        "yy_train = np.array([0]*len(X_fake_train) + [1]*len(X_train))\n",
        "yy_test = np.array([0]*len(X_fake_test) + [1]*len(X_test))"
      ]
    },
    {
      "cell_type": "code",
      "execution_count": null,
      "metadata": {
        "id": "XPJZHgwnBJiI"
      },
      "outputs": [],
      "source": [
        "from sklearn.ensemble import GradientBoostingClassifier\n",
        "\n",
        "# обучаем классификатор\n",
        "clf = GradientBoostingClassifier()\n",
        "clf.fit(XX_train, yy_train)\n",
        "\n",
        "# получаем прогнозы\n",
        "yy_test_proba = clf.predict_proba(XX_test)[:, 1]"
      ]
    },
    {
      "cell_type": "code",
      "execution_count": null,
      "metadata": {
        "id": "D2ZdI2skBJiJ",
        "colab": {
          "base_uri": "https://localhost:8080/"
        },
        "outputId": "457eec68-61c4-42b9-8fa1-ab943d965504"
      },
      "outputs": [
        {
          "output_type": "stream",
          "name": "stdout",
          "text": [
            "ROC AUC =  0.6833309726548289\n"
          ]
        }
      ],
      "source": [
        "from sklearn.metrics import roc_auc_score\n",
        "\n",
        "auc = roc_auc_score(yy_test, yy_test_proba)\n",
        "print(\"ROC AUC = \", auc)"
      ]
    },
    {
      "cell_type": "markdown",
      "metadata": {
        "id": "Ypa_V37XBJiK"
      },
      "source": [
        "## Вывод 3\n",
        "\n",
        "Для CVAE получили ROC AUC около 0.7 (меньше лучше). Таким образом видим, что в данной задаче обе модели ведут себя схожим образом. Но может их можно как-то улучшить? Или есть какая-то еще модель? :)"
      ]
    },
    {
      "cell_type": "markdown",
      "metadata": {
        "id": "U8gKyuvjBJiK"
      },
      "source": [
        "<center><img src=\"https://github.com/hse-ds/iad-applied-ds/blob/master/2021/hw/hw1/img/mem1.jpg?raw=1\" width=\"500\"></center>\n",
        "\n",
        "<center><img src=\"https://github.com/hse-ds/iad-applied-ds/blob/master/2021/hw/hw1/img/mem2.jpg?raw=1\" width=\"500\"></center>"
      ]
    },
    {
      "cell_type": "markdown",
      "metadata": {
        "id": "38sG2ZdcBJiL"
      },
      "source": [
        "# Бонус (0 баллов)\n",
        "\n",
        "Попробуйте настроить параметры обучения каждой модели или еще как-нибудь их улучшить, чтобы получить как можно меньший ROC AUC. Что получилось? Какая модель лучше? "
      ]
    },
    {
      "cell_type": "code",
      "execution_count": null,
      "metadata": {
        "id": "nPq9HzdLBJiL"
      },
      "outputs": [],
      "source": [
        ""
      ]
    }
  ],
  "metadata": {
    "kernelspec": {
      "display_name": "Python 3",
      "language": "python",
      "name": "python3"
    },
    "language_info": {
      "codemirror_mode": {
        "name": "ipython",
        "version": 3
      },
      "file_extension": ".py",
      "mimetype": "text/x-python",
      "name": "python",
      "nbconvert_exporter": "python",
      "pygments_lexer": "ipython3",
      "version": "3.7.4"
    },
    "colab": {
      "name": "Applied NN  \"HW1_Dandamaev_Said\".ipynb",
      "provenance": [],
      "collapsed_sections": [
        "KFGiG7CCBJh2",
        "MfsX_DHmBJh6"
      ]
    },
    "accelerator": "GPU",
    "widgets": {
      "application/vnd.jupyter.widget-state+json": {
        "fd19c18b552d4965bd2feaff113e743d": {
          "model_module": "@jupyter-widgets/controls",
          "model_name": "HBoxModel",
          "model_module_version": "1.5.0",
          "state": {
            "_view_name": "HBoxView",
            "_dom_classes": [],
            "_model_name": "HBoxModel",
            "_view_module": "@jupyter-widgets/controls",
            "_model_module_version": "1.5.0",
            "_view_count": null,
            "_view_module_version": "1.5.0",
            "box_style": "",
            "layout": "IPY_MODEL_b683c7ab184d442d8adcde04e3a66137",
            "_model_module": "@jupyter-widgets/controls",
            "children": [
              "IPY_MODEL_b8ac7d7989ec46c78c28438e484da5b8",
              "IPY_MODEL_01f68ca636474e7dbf6bea3f749b9175",
              "IPY_MODEL_8366d503f4734d3897e7360121aeee03"
            ]
          }
        },
        "b683c7ab184d442d8adcde04e3a66137": {
          "model_module": "@jupyter-widgets/base",
          "model_name": "LayoutModel",
          "model_module_version": "1.2.0",
          "state": {
            "_view_name": "LayoutView",
            "grid_template_rows": null,
            "right": null,
            "justify_content": null,
            "_view_module": "@jupyter-widgets/base",
            "overflow": null,
            "_model_module_version": "1.2.0",
            "_view_count": null,
            "flex_flow": null,
            "width": null,
            "min_width": null,
            "border": null,
            "align_items": null,
            "bottom": null,
            "_model_module": "@jupyter-widgets/base",
            "top": null,
            "grid_column": null,
            "overflow_y": null,
            "overflow_x": null,
            "grid_auto_flow": null,
            "grid_area": null,
            "grid_template_columns": null,
            "flex": null,
            "_model_name": "LayoutModel",
            "justify_items": null,
            "grid_row": null,
            "max_height": null,
            "align_content": null,
            "visibility": null,
            "align_self": null,
            "height": null,
            "min_height": null,
            "padding": null,
            "grid_auto_rows": null,
            "grid_gap": null,
            "max_width": null,
            "order": null,
            "_view_module_version": "1.2.0",
            "grid_template_areas": null,
            "object_position": null,
            "object_fit": null,
            "grid_auto_columns": null,
            "margin": null,
            "display": null,
            "left": null
          }
        },
        "b8ac7d7989ec46c78c28438e484da5b8": {
          "model_module": "@jupyter-widgets/controls",
          "model_name": "HTMLModel",
          "model_module_version": "1.5.0",
          "state": {
            "_view_name": "HTMLView",
            "style": "IPY_MODEL_ea117335977b44af83b1f5b9de1af0a0",
            "_dom_classes": [],
            "description": "",
            "_model_name": "HTMLModel",
            "placeholder": "​",
            "_view_module": "@jupyter-widgets/controls",
            "_model_module_version": "1.5.0",
            "value": "100%",
            "_view_count": null,
            "_view_module_version": "1.5.0",
            "description_tooltip": null,
            "_model_module": "@jupyter-widgets/controls",
            "layout": "IPY_MODEL_58528b57322a4eca82b51ea696433780"
          }
        },
        "01f68ca636474e7dbf6bea3f749b9175": {
          "model_module": "@jupyter-widgets/controls",
          "model_name": "FloatProgressModel",
          "model_module_version": "1.5.0",
          "state": {
            "_view_name": "ProgressView",
            "style": "IPY_MODEL_27715c4c518940bd982ffcbb3587d913",
            "_dom_classes": [],
            "description": "",
            "_model_name": "FloatProgressModel",
            "bar_style": "success",
            "max": 82,
            "_view_module": "@jupyter-widgets/controls",
            "_model_module_version": "1.5.0",
            "value": 82,
            "_view_count": null,
            "_view_module_version": "1.5.0",
            "orientation": "horizontal",
            "min": 0,
            "description_tooltip": null,
            "_model_module": "@jupyter-widgets/controls",
            "layout": "IPY_MODEL_ea6de5c2eb81496dbd5e035cd70ac56f"
          }
        },
        "8366d503f4734d3897e7360121aeee03": {
          "model_module": "@jupyter-widgets/controls",
          "model_name": "HTMLModel",
          "model_module_version": "1.5.0",
          "state": {
            "_view_name": "HTMLView",
            "style": "IPY_MODEL_8a500880847d43a3b1e30146c845228c",
            "_dom_classes": [],
            "description": "",
            "_model_name": "HTMLModel",
            "placeholder": "​",
            "_view_module": "@jupyter-widgets/controls",
            "_model_module_version": "1.5.0",
            "value": " 82/82 [03:08&lt;00:00,  2.36s/it]",
            "_view_count": null,
            "_view_module_version": "1.5.0",
            "description_tooltip": null,
            "_model_module": "@jupyter-widgets/controls",
            "layout": "IPY_MODEL_37f288bac821495db628a5cbb3ba89a2"
          }
        },
        "ea117335977b44af83b1f5b9de1af0a0": {
          "model_module": "@jupyter-widgets/controls",
          "model_name": "DescriptionStyleModel",
          "model_module_version": "1.5.0",
          "state": {
            "_view_name": "StyleView",
            "_model_name": "DescriptionStyleModel",
            "description_width": "",
            "_view_module": "@jupyter-widgets/base",
            "_model_module_version": "1.5.0",
            "_view_count": null,
            "_view_module_version": "1.2.0",
            "_model_module": "@jupyter-widgets/controls"
          }
        },
        "58528b57322a4eca82b51ea696433780": {
          "model_module": "@jupyter-widgets/base",
          "model_name": "LayoutModel",
          "model_module_version": "1.2.0",
          "state": {
            "_view_name": "LayoutView",
            "grid_template_rows": null,
            "right": null,
            "justify_content": null,
            "_view_module": "@jupyter-widgets/base",
            "overflow": null,
            "_model_module_version": "1.2.0",
            "_view_count": null,
            "flex_flow": null,
            "width": null,
            "min_width": null,
            "border": null,
            "align_items": null,
            "bottom": null,
            "_model_module": "@jupyter-widgets/base",
            "top": null,
            "grid_column": null,
            "overflow_y": null,
            "overflow_x": null,
            "grid_auto_flow": null,
            "grid_area": null,
            "grid_template_columns": null,
            "flex": null,
            "_model_name": "LayoutModel",
            "justify_items": null,
            "grid_row": null,
            "max_height": null,
            "align_content": null,
            "visibility": null,
            "align_self": null,
            "height": null,
            "min_height": null,
            "padding": null,
            "grid_auto_rows": null,
            "grid_gap": null,
            "max_width": null,
            "order": null,
            "_view_module_version": "1.2.0",
            "grid_template_areas": null,
            "object_position": null,
            "object_fit": null,
            "grid_auto_columns": null,
            "margin": null,
            "display": null,
            "left": null
          }
        },
        "27715c4c518940bd982ffcbb3587d913": {
          "model_module": "@jupyter-widgets/controls",
          "model_name": "ProgressStyleModel",
          "model_module_version": "1.5.0",
          "state": {
            "_view_name": "StyleView",
            "_model_name": "ProgressStyleModel",
            "description_width": "",
            "_view_module": "@jupyter-widgets/base",
            "_model_module_version": "1.5.0",
            "_view_count": null,
            "_view_module_version": "1.2.0",
            "bar_color": null,
            "_model_module": "@jupyter-widgets/controls"
          }
        },
        "ea6de5c2eb81496dbd5e035cd70ac56f": {
          "model_module": "@jupyter-widgets/base",
          "model_name": "LayoutModel",
          "model_module_version": "1.2.0",
          "state": {
            "_view_name": "LayoutView",
            "grid_template_rows": null,
            "right": null,
            "justify_content": null,
            "_view_module": "@jupyter-widgets/base",
            "overflow": null,
            "_model_module_version": "1.2.0",
            "_view_count": null,
            "flex_flow": null,
            "width": null,
            "min_width": null,
            "border": null,
            "align_items": null,
            "bottom": null,
            "_model_module": "@jupyter-widgets/base",
            "top": null,
            "grid_column": null,
            "overflow_y": null,
            "overflow_x": null,
            "grid_auto_flow": null,
            "grid_area": null,
            "grid_template_columns": null,
            "flex": null,
            "_model_name": "LayoutModel",
            "justify_items": null,
            "grid_row": null,
            "max_height": null,
            "align_content": null,
            "visibility": null,
            "align_self": null,
            "height": null,
            "min_height": null,
            "padding": null,
            "grid_auto_rows": null,
            "grid_gap": null,
            "max_width": null,
            "order": null,
            "_view_module_version": "1.2.0",
            "grid_template_areas": null,
            "object_position": null,
            "object_fit": null,
            "grid_auto_columns": null,
            "margin": null,
            "display": null,
            "left": null
          }
        },
        "8a500880847d43a3b1e30146c845228c": {
          "model_module": "@jupyter-widgets/controls",
          "model_name": "DescriptionStyleModel",
          "model_module_version": "1.5.0",
          "state": {
            "_view_name": "StyleView",
            "_model_name": "DescriptionStyleModel",
            "description_width": "",
            "_view_module": "@jupyter-widgets/base",
            "_model_module_version": "1.5.0",
            "_view_count": null,
            "_view_module_version": "1.2.0",
            "_model_module": "@jupyter-widgets/controls"
          }
        },
        "37f288bac821495db628a5cbb3ba89a2": {
          "model_module": "@jupyter-widgets/base",
          "model_name": "LayoutModel",
          "model_module_version": "1.2.0",
          "state": {
            "_view_name": "LayoutView",
            "grid_template_rows": null,
            "right": null,
            "justify_content": null,
            "_view_module": "@jupyter-widgets/base",
            "overflow": null,
            "_model_module_version": "1.2.0",
            "_view_count": null,
            "flex_flow": null,
            "width": null,
            "min_width": null,
            "border": null,
            "align_items": null,
            "bottom": null,
            "_model_module": "@jupyter-widgets/base",
            "top": null,
            "grid_column": null,
            "overflow_y": null,
            "overflow_x": null,
            "grid_auto_flow": null,
            "grid_area": null,
            "grid_template_columns": null,
            "flex": null,
            "_model_name": "LayoutModel",
            "justify_items": null,
            "grid_row": null,
            "max_height": null,
            "align_content": null,
            "visibility": null,
            "align_self": null,
            "height": null,
            "min_height": null,
            "padding": null,
            "grid_auto_rows": null,
            "grid_gap": null,
            "max_width": null,
            "order": null,
            "_view_module_version": "1.2.0",
            "grid_template_areas": null,
            "object_position": null,
            "object_fit": null,
            "grid_auto_columns": null,
            "margin": null,
            "display": null,
            "left": null
          }
        }
      }
    }
  },
  "nbformat": 4,
  "nbformat_minor": 0
}