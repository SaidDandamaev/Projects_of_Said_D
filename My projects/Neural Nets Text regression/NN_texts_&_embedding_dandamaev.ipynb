{
  "metadata": {
    "kernelspec": {
      "language": "python",
      "display_name": "Python 3",
      "name": "python3"
    },
    "language_info": {
      "name": "python",
      "version": "3.7.12",
      "mimetype": "text/x-python",
      "codemirror_mode": {
        "name": "ipython",
        "version": 3
      },
      "pygments_lexer": "ipython3",
      "nbconvert_exporter": "python",
      "file_extension": ".py"
    },
    "colab": {
      "name": "NN_texts_&_embedding_dandamaev.ipynb",
      "provenance": [],
      "collapsed_sections": []
    },
    "accelerator": "GPU"
  },
  "nbformat_minor": 0,
  "nbformat": 4,
  "cells": [
    {
      "cell_type": "markdown",
      "source": [
        "# Домашнее задание 3. \n",
        "\n",
        "## Предсказание пользовательской оценки отеля по тексту отзыва.\n",
        "\n",
        "В данном домашнем задании вам будет обучиться на данных с кэггла и заслать в [соревнование](https://www.kaggle.com/t/325e82797935464aa07c254b3cc3d8ad) предикт. Чтобы контест отображался, откройте и примите условия участия в контесте через ссылку-приглашение в телеграм-канале. По той же ссылке можете скачать данные."
      ],
      "metadata": {
        "id": "OCfOAvvpXHaH"
      }
    },
    {
      "cell_type": "markdown",
      "source": [
        "Мы собрали для вас отзывы по 1500 отелям из совершенно разных уголков мира. Что это за отели - секрет. Вам дан текст отзыва и пользовательская оценка отеля. Ваша задача - научиться предсказывать оценку отеля по отзыву."
      ],
      "metadata": {
        "id": "jz-JIchOXHaK"
      }
    },
    {
      "cell_type": "markdown",
      "source": [
        "Главная метрика - Mean Absolute Error (MAE). Во всех частях домашней работы вам нужно получить значение MAE не превышающее 0.92 на публичном лидерборде. В противном случае мы будем вынуждены не засчитать задание :( "
      ],
      "metadata": {
        "id": "7L3cOQLiXHaK"
      }
    },
    {
      "cell_type": "markdown",
      "source": [
        "#### Про данные:\n",
        "Каждое ревью состоит из двух текстов: positive и negative - плюсы и минусы отеля. В столбце score находится оценка пользователя - вещественное число 0 до 10. Вам нужно извлечь признаки из этих текстов и предсказать по ним оценку."
      ],
      "metadata": {
        "id": "qn7rLZ12XHaM"
      }
    },
    {
      "cell_type": "markdown",
      "source": [
        "Для локального тестирования используйте предоставленное разбиение на трейн и тест."
      ],
      "metadata": {
        "id": "N7N2muuMaGgF"
      }
    },
    {
      "cell_type": "markdown",
      "source": [
        "Good luck & have fun! 💪"
      ],
      "metadata": {
        "id": "zdKbQvpcXHaM"
      }
    },
    {
      "cell_type": "markdown",
      "source": [
        "#### Использовать любые данные для обучения кроме предоставленных организаторами строго запрещено. В последней части можно использовать предобученные модели из библиотеки `transformers`."
      ],
      "metadata": {
        "id": "T6Ej16t1XHaM"
      }
    },
    {
      "cell_type": "code",
      "source": [
        "PATH_TO_TRAIN_DATA = '/content/train.csv'\n",
        "PATH_TO_TEST_DATA = './test.csv'\n",
        "\n",
        "\n",
        "import pickle\n",
        "import pandas as pd\n",
        "import numpy as np\n",
        "from tqdm import tqdm\n",
        "from sklearn.model_selection import train_test_split\n"
      ],
      "metadata": {
        "id": "U4Gc4Go5XHaN",
        "execution": {
          "iopub.status.busy": "2021-12-20T21:27:08.100379Z",
          "iopub.execute_input": "2021-12-20T21:27:08.101354Z",
          "iopub.status.idle": "2021-12-20T21:27:08.461422Z",
          "shell.execute_reply.started": "2021-12-20T21:27:08.101229Z",
          "shell.execute_reply": "2021-12-20T21:27:08.460697Z"
        },
        "trusted": true
      },
      "execution_count": 5,
      "outputs": []
    },
    {
      "cell_type": "code",
      "source": [
        "! pip install gensim"
      ],
      "metadata": {
        "colab": {
          "base_uri": "https://localhost:8080/",
          "height": 0
        },
        "id": "1MMhzVCvCrse",
        "outputId": "7c7bbf22-a2ee-4f51-e4ae-29bf940d6e48"
      },
      "execution_count": 24,
      "outputs": [
        {
          "output_type": "stream",
          "name": "stdout",
          "text": [
            "Requirement already satisfied: gensim in /usr/local/lib/python3.7/dist-packages (3.6.0)\n",
            "Requirement already satisfied: six>=1.5.0 in /usr/local/lib/python3.7/dist-packages (from gensim) (1.15.0)\n",
            "Requirement already satisfied: numpy>=1.11.3 in /usr/local/lib/python3.7/dist-packages (from gensim) (1.21.5)\n",
            "Requirement already satisfied: scipy>=0.18.1 in /usr/local/lib/python3.7/dist-packages (from gensim) (1.4.1)\n",
            "Requirement already satisfied: smart-open>=1.2.1 in /usr/local/lib/python3.7/dist-packages (from gensim) (5.2.1)\n"
          ]
        }
      ]
    },
    {
      "cell_type": "code",
      "source": [
        "! pip install catboost"
      ],
      "metadata": {
        "colab": {
          "base_uri": "https://localhost:8080/",
          "height": 0
        },
        "id": "LeL8nHqNMqoH",
        "outputId": "b951e5ac-4508-41ad-a2f0-0d518614120e"
      },
      "execution_count": 74,
      "outputs": [
        {
          "output_type": "stream",
          "name": "stdout",
          "text": [
            "Collecting catboost\n",
            "  Downloading catboost-1.0.4-cp37-none-manylinux1_x86_64.whl (76.1 MB)\n",
            "\u001b[K     |████████████████████████████████| 76.1 MB 1.3 MB/s \n",
            "\u001b[?25hRequirement already satisfied: scipy in /usr/local/lib/python3.7/dist-packages (from catboost) (1.4.1)\n",
            "Requirement already satisfied: six in /usr/local/lib/python3.7/dist-packages (from catboost) (1.15.0)\n",
            "Requirement already satisfied: pandas>=0.24.0 in /usr/local/lib/python3.7/dist-packages (from catboost) (1.3.5)\n",
            "Requirement already satisfied: graphviz in /usr/local/lib/python3.7/dist-packages (from catboost) (0.10.1)\n",
            "Requirement already satisfied: plotly in /usr/local/lib/python3.7/dist-packages (from catboost) (5.5.0)\n",
            "Requirement already satisfied: matplotlib in /usr/local/lib/python3.7/dist-packages (from catboost) (3.2.2)\n",
            "Requirement already satisfied: numpy>=1.16.0 in /usr/local/lib/python3.7/dist-packages (from catboost) (1.21.5)\n",
            "Requirement already satisfied: pytz>=2017.3 in /usr/local/lib/python3.7/dist-packages (from pandas>=0.24.0->catboost) (2018.9)\n",
            "Requirement already satisfied: python-dateutil>=2.7.3 in /usr/local/lib/python3.7/dist-packages (from pandas>=0.24.0->catboost) (2.8.2)\n",
            "Requirement already satisfied: cycler>=0.10 in /usr/local/lib/python3.7/dist-packages (from matplotlib->catboost) (0.11.0)\n",
            "Requirement already satisfied: kiwisolver>=1.0.1 in /usr/local/lib/python3.7/dist-packages (from matplotlib->catboost) (1.3.2)\n",
            "Requirement already satisfied: pyparsing!=2.0.4,!=2.1.2,!=2.1.6,>=2.0.1 in /usr/local/lib/python3.7/dist-packages (from matplotlib->catboost) (3.0.7)\n",
            "Requirement already satisfied: tenacity>=6.2.0 in /usr/local/lib/python3.7/dist-packages (from plotly->catboost) (8.0.1)\n",
            "Installing collected packages: catboost\n",
            "Successfully installed catboost-1.0.4\n"
          ]
        }
      ]
    },
    {
      "cell_type": "code",
      "source": [
        "#! wget https://raw.githubusercontent.com/SaidDandamaev/Projects_of_Said_D/main/Work_files/train.csv"
      ],
      "metadata": {
        "id": "EAFMsnOjdSx-",
        "outputId": "f4fe7c18-dd3d-48c4-9a36-107f124c2a36",
        "execution": {
          "iopub.status.busy": "2021-12-20T21:27:08.463109Z",
          "iopub.execute_input": "2021-12-20T21:27:08.463368Z",
          "iopub.status.idle": "2021-12-20T21:27:09.824279Z",
          "shell.execute_reply.started": "2021-12-20T21:27:08.463320Z",
          "shell.execute_reply": "2021-12-20T21:27:09.823161Z"
        },
        "trusted": true,
        "colab": {
          "base_uri": "https://localhost:8080/",
          "height": 0
        }
      },
      "execution_count": 2,
      "outputs": [
        {
          "output_type": "stream",
          "name": "stdout",
          "text": [
            "--2022-03-17 08:30:10--  https://raw.githubusercontent.com/SaidDandamaev/Projects_of_Said_D/main/Work_files/train.csv\n",
            "Resolving raw.githubusercontent.com (raw.githubusercontent.com)... 185.199.108.133, 185.199.109.133, 185.199.110.133, ...\n",
            "Connecting to raw.githubusercontent.com (raw.githubusercontent.com)|185.199.108.133|:443... connected.\n",
            "HTTP request sent, awaiting response... 404 Not Found\n",
            "2022-03-17 08:30:10 ERROR 404: Not Found.\n",
            "\n"
          ]
        }
      ]
    },
    {
      "cell_type": "code",
      "source": [
        "#! wget https://raw.githubusercontent.com/SaidDandamaev/Projects_of_Said_D/main/Work_files/test.csv\n",
        "#! wget https://raw.githubusercontent.com/hse-ds/iad-deep-learning/master/2021/seminars/sem07/utils.py"
      ],
      "metadata": {
        "id": "20eJIbV48eRU",
        "outputId": "9e11199f-4566-4e76-8229-08e715ea1780",
        "execution": {
          "iopub.status.busy": "2021-12-20T21:27:09.826029Z",
          "iopub.execute_input": "2021-12-20T21:27:09.826333Z",
          "iopub.status.idle": "2021-12-20T21:27:11.773171Z",
          "shell.execute_reply.started": "2021-12-20T21:27:09.826305Z",
          "shell.execute_reply": "2021-12-20T21:27:11.772278Z"
        },
        "trusted": true,
        "colab": {
          "base_uri": "https://localhost:8080/",
          "height": 0
        }
      },
      "execution_count": 3,
      "outputs": [
        {
          "output_type": "stream",
          "name": "stdout",
          "text": [
            "--2022-03-17 08:30:10--  https://raw.githubusercontent.com/SaidDandamaev/Projects_of_Said_D/main/Work_files/test.csv\n",
            "Resolving raw.githubusercontent.com (raw.githubusercontent.com)... 185.199.109.133, 185.199.108.133, 185.199.111.133, ...\n",
            "Connecting to raw.githubusercontent.com (raw.githubusercontent.com)|185.199.109.133|:443... connected.\n",
            "HTTP request sent, awaiting response... 404 Not Found\n",
            "2022-03-17 08:30:10 ERROR 404: Not Found.\n",
            "\n",
            "--2022-03-17 08:30:11--  https://raw.githubusercontent.com/hse-ds/iad-deep-learning/master/2021/seminars/sem07/utils.py\n",
            "Resolving raw.githubusercontent.com (raw.githubusercontent.com)... 185.199.108.133, 185.199.109.133, 185.199.110.133, ...\n",
            "Connecting to raw.githubusercontent.com (raw.githubusercontent.com)|185.199.108.133|:443... connected.\n",
            "HTTP request sent, awaiting response... 200 OK\n",
            "Length: 1516 (1.5K) [text/plain]\n",
            "Saving to: ‘utils.py’\n",
            "\n",
            "utils.py            100%[===================>]   1.48K  --.-KB/s    in 0s      \n",
            "\n",
            "2022-03-17 08:30:11 (21.1 MB/s) - ‘utils.py’ saved [1516/1516]\n",
            "\n"
          ]
        }
      ]
    },
    {
      "cell_type": "code",
      "source": [
        "df = pd.read_csv(PATH_TO_TRAIN_DATA)[:20000]\n",
        "df.head()"
      ],
      "metadata": {
        "id": "6kJRM6ZUXHaO",
        "outputId": "abb12359-e063-4635-afe0-bb1f921323c3",
        "trusted": true,
        "colab": {
          "base_uri": "https://localhost:8080/",
          "height": 285
        }
      },
      "execution_count": 6,
      "outputs": [
        {
          "output_type": "execute_result",
          "data": {
            "text/plain": [
              "                          review_id  \\\n",
              "0  00003c6036f30f590c0ac435efb8739b   \n",
              "1  00004d18f186bf2489590dc415876f73   \n",
              "2  0000cf900cbb8667fad33a717e9b1cf4   \n",
              "3  0000df16edf19e7ad9dd8c5cd6f6925e   \n",
              "4  00025e1aa3ac32edb496db49e76bbd00   \n",
              "\n",
              "                                            negative  \\\n",
              "0         There were issues with the wifi connection   \n",
              "1                                     TV not working   \n",
              "2                                       More pillows   \n",
              "3                                      Very business   \n",
              "4   Rooms could do with a bit of a refurbishment ...   \n",
              "\n",
              "                                            positive  score  \n",
              "0                                        No Positive    7.1  \n",
              "1                                        No Positive    7.5  \n",
              "2        Beautiful room Great location Lovely staff    10.0  \n",
              "3                                           Location    5.4  \n",
              "4   Nice breakfast handy for Victoria train stati...    6.7  "
            ],
            "text/html": [
              "\n",
              "  <div id=\"df-a0040df8-3ef8-4e1c-be21-9030717fcf76\">\n",
              "    <div class=\"colab-df-container\">\n",
              "      <div>\n",
              "<style scoped>\n",
              "    .dataframe tbody tr th:only-of-type {\n",
              "        vertical-align: middle;\n",
              "    }\n",
              "\n",
              "    .dataframe tbody tr th {\n",
              "        vertical-align: top;\n",
              "    }\n",
              "\n",
              "    .dataframe thead th {\n",
              "        text-align: right;\n",
              "    }\n",
              "</style>\n",
              "<table border=\"1\" class=\"dataframe\">\n",
              "  <thead>\n",
              "    <tr style=\"text-align: right;\">\n",
              "      <th></th>\n",
              "      <th>review_id</th>\n",
              "      <th>negative</th>\n",
              "      <th>positive</th>\n",
              "      <th>score</th>\n",
              "    </tr>\n",
              "  </thead>\n",
              "  <tbody>\n",
              "    <tr>\n",
              "      <th>0</th>\n",
              "      <td>00003c6036f30f590c0ac435efb8739b</td>\n",
              "      <td>There were issues with the wifi connection</td>\n",
              "      <td>No Positive</td>\n",
              "      <td>7.1</td>\n",
              "    </tr>\n",
              "    <tr>\n",
              "      <th>1</th>\n",
              "      <td>00004d18f186bf2489590dc415876f73</td>\n",
              "      <td>TV not working</td>\n",
              "      <td>No Positive</td>\n",
              "      <td>7.5</td>\n",
              "    </tr>\n",
              "    <tr>\n",
              "      <th>2</th>\n",
              "      <td>0000cf900cbb8667fad33a717e9b1cf4</td>\n",
              "      <td>More pillows</td>\n",
              "      <td>Beautiful room Great location Lovely staff</td>\n",
              "      <td>10.0</td>\n",
              "    </tr>\n",
              "    <tr>\n",
              "      <th>3</th>\n",
              "      <td>0000df16edf19e7ad9dd8c5cd6f6925e</td>\n",
              "      <td>Very business</td>\n",
              "      <td>Location</td>\n",
              "      <td>5.4</td>\n",
              "    </tr>\n",
              "    <tr>\n",
              "      <th>4</th>\n",
              "      <td>00025e1aa3ac32edb496db49e76bbd00</td>\n",
              "      <td>Rooms could do with a bit of a refurbishment ...</td>\n",
              "      <td>Nice breakfast handy for Victoria train stati...</td>\n",
              "      <td>6.7</td>\n",
              "    </tr>\n",
              "  </tbody>\n",
              "</table>\n",
              "</div>\n",
              "      <button class=\"colab-df-convert\" onclick=\"convertToInteractive('df-a0040df8-3ef8-4e1c-be21-9030717fcf76')\"\n",
              "              title=\"Convert this dataframe to an interactive table.\"\n",
              "              style=\"display:none;\">\n",
              "        \n",
              "  <svg xmlns=\"http://www.w3.org/2000/svg\" height=\"24px\"viewBox=\"0 0 24 24\"\n",
              "       width=\"24px\">\n",
              "    <path d=\"M0 0h24v24H0V0z\" fill=\"none\"/>\n",
              "    <path d=\"M18.56 5.44l.94 2.06.94-2.06 2.06-.94-2.06-.94-.94-2.06-.94 2.06-2.06.94zm-11 1L8.5 8.5l.94-2.06 2.06-.94-2.06-.94L8.5 2.5l-.94 2.06-2.06.94zm10 10l.94 2.06.94-2.06 2.06-.94-2.06-.94-.94-2.06-.94 2.06-2.06.94z\"/><path d=\"M17.41 7.96l-1.37-1.37c-.4-.4-.92-.59-1.43-.59-.52 0-1.04.2-1.43.59L10.3 9.45l-7.72 7.72c-.78.78-.78 2.05 0 2.83L4 21.41c.39.39.9.59 1.41.59.51 0 1.02-.2 1.41-.59l7.78-7.78 2.81-2.81c.8-.78.8-2.07 0-2.86zM5.41 20L4 18.59l7.72-7.72 1.47 1.35L5.41 20z\"/>\n",
              "  </svg>\n",
              "      </button>\n",
              "      \n",
              "  <style>\n",
              "    .colab-df-container {\n",
              "      display:flex;\n",
              "      flex-wrap:wrap;\n",
              "      gap: 12px;\n",
              "    }\n",
              "\n",
              "    .colab-df-convert {\n",
              "      background-color: #E8F0FE;\n",
              "      border: none;\n",
              "      border-radius: 50%;\n",
              "      cursor: pointer;\n",
              "      display: none;\n",
              "      fill: #1967D2;\n",
              "      height: 32px;\n",
              "      padding: 0 0 0 0;\n",
              "      width: 32px;\n",
              "    }\n",
              "\n",
              "    .colab-df-convert:hover {\n",
              "      background-color: #E2EBFA;\n",
              "      box-shadow: 0px 1px 2px rgba(60, 64, 67, 0.3), 0px 1px 3px 1px rgba(60, 64, 67, 0.15);\n",
              "      fill: #174EA6;\n",
              "    }\n",
              "\n",
              "    [theme=dark] .colab-df-convert {\n",
              "      background-color: #3B4455;\n",
              "      fill: #D2E3FC;\n",
              "    }\n",
              "\n",
              "    [theme=dark] .colab-df-convert:hover {\n",
              "      background-color: #434B5C;\n",
              "      box-shadow: 0px 1px 3px 1px rgba(0, 0, 0, 0.15);\n",
              "      filter: drop-shadow(0px 1px 2px rgba(0, 0, 0, 0.3));\n",
              "      fill: #FFFFFF;\n",
              "    }\n",
              "  </style>\n",
              "\n",
              "      <script>\n",
              "        const buttonEl =\n",
              "          document.querySelector('#df-a0040df8-3ef8-4e1c-be21-9030717fcf76 button.colab-df-convert');\n",
              "        buttonEl.style.display =\n",
              "          google.colab.kernel.accessAllowed ? 'block' : 'none';\n",
              "\n",
              "        async function convertToInteractive(key) {\n",
              "          const element = document.querySelector('#df-a0040df8-3ef8-4e1c-be21-9030717fcf76');\n",
              "          const dataTable =\n",
              "            await google.colab.kernel.invokeFunction('convertToInteractive',\n",
              "                                                     [key], {});\n",
              "          if (!dataTable) return;\n",
              "\n",
              "          const docLinkHtml = 'Like what you see? Visit the ' +\n",
              "            '<a target=\"_blank\" href=https://colab.research.google.com/notebooks/data_table.ipynb>data table notebook</a>'\n",
              "            + ' to learn more about interactive tables.';\n",
              "          element.innerHTML = '';\n",
              "          dataTable['output_type'] = 'display_data';\n",
              "          await google.colab.output.renderOutput(dataTable, element);\n",
              "          const docLink = document.createElement('div');\n",
              "          docLink.innerHTML = docLinkHtml;\n",
              "          element.appendChild(docLink);\n",
              "        }\n",
              "      </script>\n",
              "    </div>\n",
              "  </div>\n",
              "  "
            ]
          },
          "metadata": {},
          "execution_count": 6
        }
      ]
    },
    {
      "cell_type": "code",
      "source": [
        "df.info()"
      ],
      "metadata": {
        "id": "w14Lkka7UZxF",
        "outputId": "3c2a5ab1-5280-4504-fefa-b6c919adb468",
        "trusted": true,
        "colab": {
          "base_uri": "https://localhost:8080/",
          "height": 0
        }
      },
      "execution_count": 7,
      "outputs": [
        {
          "output_type": "stream",
          "name": "stdout",
          "text": [
            "<class 'pandas.core.frame.DataFrame'>\n",
            "RangeIndex: 20000 entries, 0 to 19999\n",
            "Data columns (total 4 columns):\n",
            " #   Column     Non-Null Count  Dtype  \n",
            "---  ------     --------------  -----  \n",
            " 0   review_id  20000 non-null  object \n",
            " 1   negative   20000 non-null  object \n",
            " 2   positive   20000 non-null  object \n",
            " 3   score      20000 non-null  float64\n",
            "dtypes: float64(1), object(3)\n",
            "memory usage: 625.1+ KB\n"
          ]
        }
      ]
    },
    {
      "cell_type": "markdown",
      "source": [
        "\n",
        "Предобработка текста может сказываться на качестве вашей модели.\n",
        "\n",
        "Сделаем небольшой препроцессинг текстов: удалим знаки препинания, приведем все слова к нижнему регистру. \n",
        "Однако можно не ограничиваться этим набором преобразований. Подумайте, что еще можно сделать с текстами, чтобы помочь будущим моделям? Добавьте преобразования, которые могли бы помочь по вашему мнению."
      ],
      "metadata": {
        "id": "bpLk8dXBXHaP"
      }
    },
    {
      "cell_type": "markdown",
      "source": [
        "Также мы добавили разбиение текстов на токены. Теперь каждая строка-ревью стала массивом токенов. ( у меня для 1 задания это будет не массив а все та же строка)"
      ],
      "metadata": {
        "id": "SfkhII5AXHaP"
      }
    },
    {
      "cell_type": "code",
      "source": [
        "import string\n",
        "\n",
        "import nltk\n",
        "nltk.download('punkt')\n",
        "\n",
        "from nltk.tokenize import word_tokenize\n",
        "\n",
        "\n",
        "nltk.download('stopwords')\n",
        "from nltk.corpus import stopwords"
      ],
      "metadata": {
        "id": "tv-gbEKGXHaQ",
        "outputId": "d5d33ab2-6109-4e77-ddc8-ff0a19b09b97",
        "execution": {
          "iopub.status.busy": "2021-12-20T21:27:13.330901Z",
          "iopub.execute_input": "2021-12-20T21:27:13.331194Z",
          "iopub.status.idle": "2021-12-20T21:27:13.634128Z",
          "shell.execute_reply.started": "2021-12-20T21:27:13.331162Z",
          "shell.execute_reply": "2021-12-20T21:27:13.633344Z"
        },
        "trusted": true,
        "colab": {
          "base_uri": "https://localhost:8080/",
          "height": 0
        }
      },
      "execution_count": 8,
      "outputs": [
        {
          "output_type": "stream",
          "name": "stdout",
          "text": [
            "[nltk_data] Downloading package punkt to /root/nltk_data...\n",
            "[nltk_data]   Unzipping tokenizers/punkt.zip.\n",
            "[nltk_data] Downloading package stopwords to /root/nltk_data...\n",
            "[nltk_data]   Unzipping corpora/stopwords.zip.\n"
          ]
        }
      ]
    },
    {
      "cell_type": "code",
      "source": [
        "punctuation = string.punctuation \n",
        "\n",
        "noise = stopwords.words('english') + list(punctuation) + list('1234567890')\n",
        "#noise = list(punctuation) + list('1234567890')\n",
        "\n",
        "def process_text(text):\n",
        "    lst =  [word for word in word_tokenize(text.lower()) if (word not in noise)]\n",
        "    return ' '.join(lst)"
      ],
      "metadata": {
        "id": "t5dN8fO5gVtU",
        "execution": {
          "iopub.status.busy": "2021-12-20T21:27:13.635896Z",
          "iopub.execute_input": "2021-12-20T21:27:13.636367Z",
          "iopub.status.idle": "2021-12-20T21:27:13.643437Z",
          "shell.execute_reply.started": "2021-12-20T21:27:13.636320Z",
          "shell.execute_reply": "2021-12-20T21:27:13.642783Z"
        },
        "trusted": true
      },
      "execution_count": 9,
      "outputs": []
    },
    {
      "cell_type": "code",
      "source": [
        "df['negative'] = df['negative'].apply(process_text) # ячейка выполняется 30 сек\n",
        "df['positive'] = df['positive'].apply(process_text)"
      ],
      "metadata": {
        "id": "-X1bXhROXHaQ",
        "trusted": true
      },
      "execution_count": 10,
      "outputs": []
    },
    {
      "cell_type": "code",
      "source": [
        "df.head()"
      ],
      "metadata": {
        "id": "kGOmSMNAf-ew",
        "outputId": "8e69b08e-73df-40d9-a7e2-98e8b5746540",
        "trusted": true,
        "colab": {
          "base_uri": "https://localhost:8080/",
          "height": 267
        }
      },
      "execution_count": 11,
      "outputs": [
        {
          "output_type": "execute_result",
          "data": {
            "text/plain": [
              "                          review_id  \\\n",
              "0  00003c6036f30f590c0ac435efb8739b   \n",
              "1  00004d18f186bf2489590dc415876f73   \n",
              "2  0000cf900cbb8667fad33a717e9b1cf4   \n",
              "3  0000df16edf19e7ad9dd8c5cd6f6925e   \n",
              "4  00025e1aa3ac32edb496db49e76bbd00   \n",
              "\n",
              "                                            negative  \\\n",
              "0                             issues wifi connection   \n",
              "1                                         tv working   \n",
              "2                                            pillows   \n",
              "3                                           business   \n",
              "4  rooms could bit refurbishment could corridors ...   \n",
              "\n",
              "                                            positive  score  \n",
              "0                                           positive    7.1  \n",
              "1                                           positive    7.5  \n",
              "2         beautiful room great location lovely staff   10.0  \n",
              "3                                           location    5.4  \n",
              "4  nice breakfast handy victoria train station si...    6.7  "
            ],
            "text/html": [
              "\n",
              "  <div id=\"df-7494204d-ba93-41d3-ae82-51430f8ba949\">\n",
              "    <div class=\"colab-df-container\">\n",
              "      <div>\n",
              "<style scoped>\n",
              "    .dataframe tbody tr th:only-of-type {\n",
              "        vertical-align: middle;\n",
              "    }\n",
              "\n",
              "    .dataframe tbody tr th {\n",
              "        vertical-align: top;\n",
              "    }\n",
              "\n",
              "    .dataframe thead th {\n",
              "        text-align: right;\n",
              "    }\n",
              "</style>\n",
              "<table border=\"1\" class=\"dataframe\">\n",
              "  <thead>\n",
              "    <tr style=\"text-align: right;\">\n",
              "      <th></th>\n",
              "      <th>review_id</th>\n",
              "      <th>negative</th>\n",
              "      <th>positive</th>\n",
              "      <th>score</th>\n",
              "    </tr>\n",
              "  </thead>\n",
              "  <tbody>\n",
              "    <tr>\n",
              "      <th>0</th>\n",
              "      <td>00003c6036f30f590c0ac435efb8739b</td>\n",
              "      <td>issues wifi connection</td>\n",
              "      <td>positive</td>\n",
              "      <td>7.1</td>\n",
              "    </tr>\n",
              "    <tr>\n",
              "      <th>1</th>\n",
              "      <td>00004d18f186bf2489590dc415876f73</td>\n",
              "      <td>tv working</td>\n",
              "      <td>positive</td>\n",
              "      <td>7.5</td>\n",
              "    </tr>\n",
              "    <tr>\n",
              "      <th>2</th>\n",
              "      <td>0000cf900cbb8667fad33a717e9b1cf4</td>\n",
              "      <td>pillows</td>\n",
              "      <td>beautiful room great location lovely staff</td>\n",
              "      <td>10.0</td>\n",
              "    </tr>\n",
              "    <tr>\n",
              "      <th>3</th>\n",
              "      <td>0000df16edf19e7ad9dd8c5cd6f6925e</td>\n",
              "      <td>business</td>\n",
              "      <td>location</td>\n",
              "      <td>5.4</td>\n",
              "    </tr>\n",
              "    <tr>\n",
              "      <th>4</th>\n",
              "      <td>00025e1aa3ac32edb496db49e76bbd00</td>\n",
              "      <td>rooms could bit refurbishment could corridors ...</td>\n",
              "      <td>nice breakfast handy victoria train station si...</td>\n",
              "      <td>6.7</td>\n",
              "    </tr>\n",
              "  </tbody>\n",
              "</table>\n",
              "</div>\n",
              "      <button class=\"colab-df-convert\" onclick=\"convertToInteractive('df-7494204d-ba93-41d3-ae82-51430f8ba949')\"\n",
              "              title=\"Convert this dataframe to an interactive table.\"\n",
              "              style=\"display:none;\">\n",
              "        \n",
              "  <svg xmlns=\"http://www.w3.org/2000/svg\" height=\"24px\"viewBox=\"0 0 24 24\"\n",
              "       width=\"24px\">\n",
              "    <path d=\"M0 0h24v24H0V0z\" fill=\"none\"/>\n",
              "    <path d=\"M18.56 5.44l.94 2.06.94-2.06 2.06-.94-2.06-.94-.94-2.06-.94 2.06-2.06.94zm-11 1L8.5 8.5l.94-2.06 2.06-.94-2.06-.94L8.5 2.5l-.94 2.06-2.06.94zm10 10l.94 2.06.94-2.06 2.06-.94-2.06-.94-.94-2.06-.94 2.06-2.06.94z\"/><path d=\"M17.41 7.96l-1.37-1.37c-.4-.4-.92-.59-1.43-.59-.52 0-1.04.2-1.43.59L10.3 9.45l-7.72 7.72c-.78.78-.78 2.05 0 2.83L4 21.41c.39.39.9.59 1.41.59.51 0 1.02-.2 1.41-.59l7.78-7.78 2.81-2.81c.8-.78.8-2.07 0-2.86zM5.41 20L4 18.59l7.72-7.72 1.47 1.35L5.41 20z\"/>\n",
              "  </svg>\n",
              "      </button>\n",
              "      \n",
              "  <style>\n",
              "    .colab-df-container {\n",
              "      display:flex;\n",
              "      flex-wrap:wrap;\n",
              "      gap: 12px;\n",
              "    }\n",
              "\n",
              "    .colab-df-convert {\n",
              "      background-color: #E8F0FE;\n",
              "      border: none;\n",
              "      border-radius: 50%;\n",
              "      cursor: pointer;\n",
              "      display: none;\n",
              "      fill: #1967D2;\n",
              "      height: 32px;\n",
              "      padding: 0 0 0 0;\n",
              "      width: 32px;\n",
              "    }\n",
              "\n",
              "    .colab-df-convert:hover {\n",
              "      background-color: #E2EBFA;\n",
              "      box-shadow: 0px 1px 2px rgba(60, 64, 67, 0.3), 0px 1px 3px 1px rgba(60, 64, 67, 0.15);\n",
              "      fill: #174EA6;\n",
              "    }\n",
              "\n",
              "    [theme=dark] .colab-df-convert {\n",
              "      background-color: #3B4455;\n",
              "      fill: #D2E3FC;\n",
              "    }\n",
              "\n",
              "    [theme=dark] .colab-df-convert:hover {\n",
              "      background-color: #434B5C;\n",
              "      box-shadow: 0px 1px 3px 1px rgba(0, 0, 0, 0.15);\n",
              "      filter: drop-shadow(0px 1px 2px rgba(0, 0, 0, 0.3));\n",
              "      fill: #FFFFFF;\n",
              "    }\n",
              "  </style>\n",
              "\n",
              "      <script>\n",
              "        const buttonEl =\n",
              "          document.querySelector('#df-7494204d-ba93-41d3-ae82-51430f8ba949 button.colab-df-convert');\n",
              "        buttonEl.style.display =\n",
              "          google.colab.kernel.accessAllowed ? 'block' : 'none';\n",
              "\n",
              "        async function convertToInteractive(key) {\n",
              "          const element = document.querySelector('#df-7494204d-ba93-41d3-ae82-51430f8ba949');\n",
              "          const dataTable =\n",
              "            await google.colab.kernel.invokeFunction('convertToInteractive',\n",
              "                                                     [key], {});\n",
              "          if (!dataTable) return;\n",
              "\n",
              "          const docLinkHtml = 'Like what you see? Visit the ' +\n",
              "            '<a target=\"_blank\" href=https://colab.research.google.com/notebooks/data_table.ipynb>data table notebook</a>'\n",
              "            + ' to learn more about interactive tables.';\n",
              "          element.innerHTML = '';\n",
              "          dataTable['output_type'] = 'display_data';\n",
              "          await google.colab.output.renderOutput(dataTable, element);\n",
              "          const docLink = document.createElement('div');\n",
              "          docLink.innerHTML = docLinkHtml;\n",
              "          element.appendChild(docLink);\n",
              "        }\n",
              "      </script>\n",
              "    </div>\n",
              "  </div>\n",
              "  "
            ]
          },
          "metadata": {},
          "execution_count": 11
        }
      ]
    },
    {
      "cell_type": "code",
      "source": [
        "df.info()"
      ],
      "metadata": {
        "id": "qa5WNQk1WMjt",
        "outputId": "c8594bdd-5c91-4399-ddbc-982d98993994",
        "trusted": true,
        "colab": {
          "base_uri": "https://localhost:8080/",
          "height": 0
        }
      },
      "execution_count": 12,
      "outputs": [
        {
          "output_type": "stream",
          "name": "stdout",
          "text": [
            "<class 'pandas.core.frame.DataFrame'>\n",
            "RangeIndex: 20000 entries, 0 to 19999\n",
            "Data columns (total 4 columns):\n",
            " #   Column     Non-Null Count  Dtype  \n",
            "---  ------     --------------  -----  \n",
            " 0   review_id  20000 non-null  object \n",
            " 1   negative   20000 non-null  object \n",
            " 2   positive   20000 non-null  object \n",
            " 3   score      20000 non-null  float64\n",
            "dtypes: float64(1), object(3)\n",
            "memory usage: 625.1+ KB\n"
          ]
        }
      ]
    },
    {
      "cell_type": "code",
      "source": [
        "df_train, df_test = train_test_split(df, test_size=0.2, random_state=1412) # <- для локального тестирования"
      ],
      "metadata": {
        "id": "MewBIvp9XHaQ",
        "trusted": true
      },
      "execution_count": 13,
      "outputs": []
    },
    {
      "cell_type": "markdown",
      "source": [
        "### Часть 1. 1 балл"
      ],
      "metadata": {
        "id": "3gu1EIc3XHaR"
      }
    },
    {
      "cell_type": "markdown",
      "source": [
        "Обучите логистическую регрессию на TF-IDF векторах текстов."
      ],
      "metadata": {
        "id": "DM7ZD9gyXHaR"
      }
    },
    {
      "cell_type": "code",
      "source": [
        "from sklearn.feature_extraction.text import TfidfVectorizer\n",
        "from sklearn.linear_model import LogisticRegression, LinearRegression, SGDRegressor\n",
        "from sklearn.metrics import mean_absolute_error"
      ],
      "metadata": {
        "id": "2x4yCjh8XHaR",
        "trusted": true
      },
      "execution_count": 14,
      "outputs": []
    },
    {
      "cell_type": "code",
      "source": [
        "count_tf_idf_neg = TfidfVectorizer()#ngram_range=(2,2))\n",
        "count_tf_idf_pos = TfidfVectorizer()#ngram_range=(2,2))\n",
        "\n",
        "tf_idf_pos_train = count_tf_idf_pos.fit_transform(df_train['positive'])\n",
        "tf_idf_neg_train = count_tf_idf_neg.fit_transform(df_train['negative'])\n",
        "\n",
        "tf_idf_pos_test = count_tf_idf_pos.transform(df_test['positive'])\n",
        "tf_idf_neg_test = count_tf_idf_neg.transform(df_test['negative'])"
      ],
      "metadata": {
        "id": "GBNZelmNWPgc",
        "trusted": true
      },
      "execution_count": 15,
      "outputs": []
    },
    {
      "cell_type": "code",
      "source": [
        "X_train_pos = pd.DataFrame(tf_idf_pos_train.toarray(),columns=count_tf_idf_pos.get_feature_names())\n",
        "X_train_neg = pd.DataFrame(tf_idf_neg_train.toarray(),columns=count_tf_idf_neg.get_feature_names())\n",
        "X_train = pd.concat([X_train_neg.reset_index(drop=True), X_train_pos.reset_index(drop=True)], axis= 1)\n",
        "del X_train_pos, X_train_neg "
      ],
      "metadata": {
        "id": "ZU0BhucAXbt0",
        "outputId": "bd19fd02-afe9-460c-a987-8a1a5100574b",
        "trusted": true,
        "colab": {
          "base_uri": "https://localhost:8080/",
          "height": 0
        }
      },
      "execution_count": 16,
      "outputs": [
        {
          "output_type": "stream",
          "name": "stderr",
          "text": [
            "/usr/local/lib/python3.7/dist-packages/sklearn/utils/deprecation.py:87: FutureWarning: Function get_feature_names is deprecated; get_feature_names is deprecated in 1.0 and will be removed in 1.2. Please use get_feature_names_out instead.\n",
            "  warnings.warn(msg, category=FutureWarning)\n"
          ]
        }
      ]
    },
    {
      "cell_type": "code",
      "source": [
        "X_test_pos = pd.DataFrame(tf_idf_pos_test.toarray(),columns=count_tf_idf_pos.get_feature_names())\n",
        "X_test_neg = pd.DataFrame(tf_idf_neg_test.toarray(),columns=count_tf_idf_neg.get_feature_names())\n",
        "X_test = pd.concat([X_test_neg.reset_index(drop=True), X_test_pos.reset_index(drop=True)], axis= 1)\n",
        "del X_test_pos, X_test_neg "
      ],
      "metadata": {
        "id": "bkebC_C3i56M",
        "outputId": "04b2f883-c38b-4a64-f81d-2f7662a2c5bd",
        "trusted": true,
        "colab": {
          "base_uri": "https://localhost:8080/",
          "height": 0
        }
      },
      "execution_count": 17,
      "outputs": [
        {
          "output_type": "stream",
          "name": "stderr",
          "text": [
            "/usr/local/lib/python3.7/dist-packages/sklearn/utils/deprecation.py:87: FutureWarning: Function get_feature_names is deprecated; get_feature_names is deprecated in 1.0 and will be removed in 1.2. Please use get_feature_names_out instead.\n",
            "  warnings.warn(msg, category=FutureWarning)\n"
          ]
        }
      ]
    },
    {
      "cell_type": "code",
      "source": [
        "%%time\n",
        "model_1_log = SGDRegressor(max_iter=1000, random_state=1221) # r_s 1221 дает 0.9 на мае (выборка - 20000)\n",
        "model_1_log.fit(X_train, df_train['score'])\n",
        "mae_log = mean_absolute_error(df_test['score'], model_1_log.predict(X_test))\n",
        "print(f'On Linear regression with TF-IDF MAE = {mae_log:.4f}')"
      ],
      "metadata": {
        "id": "NXJR3IIsj0_2",
        "outputId": "2118ff85-9ff7-4f28-b400-cee835abd5a7",
        "trusted": true,
        "colab": {
          "base_uri": "https://localhost:8080/",
          "height": 0
        }
      },
      "execution_count": 18,
      "outputs": [
        {
          "output_type": "stream",
          "name": "stdout",
          "text": [
            "On Linear regression with TF-IDF MAE = 0.9062\n",
            "CPU times: user 1min 29s, sys: 874 ms, total: 1min 30s\n",
            "Wall time: 1min 44s\n"
          ]
        }
      ]
    },
    {
      "cell_type": "markdown",
      "source": [
        "Качество меньше 0.9 на всех выборках - great\n",
        "\n",
        "\n"
      ],
      "metadata": {
        "id": "GKr8Q8Os8eRl",
        "outputId": "f1f301e7-6378-4743-a31d-541b27744256"
      }
    },
    {
      "cell_type": "markdown",
      "source": [
        "Предскажите этой моделью тестовые данные из [соревнования](https://www.kaggle.com/t/325e82797935464aa07c254b3cc3d8ad) и сделайте сабмит. Какой у вас получился скор? Прикрепите скриншот из кэггла."
      ],
      "metadata": {
        "id": "0CufFcfHXhuo"
      }
    },
    {
      "cell_type": "markdown",
      "source": [
        "Score was about **0.89**"
      ],
      "metadata": {
        "id": "i85YeTkK8eRo"
      }
    },
    {
      "cell_type": "markdown",
      "source": [
        "[![image.png](attachment:5f4469fe-90e0-4d25-8e31-b81a025dcc0b.png)](http://)"
      ],
      "metadata": {
        "id": "vBEvkns78eRp"
      }
    },
    {
      "cell_type": "markdown",
      "source": [
        "### Часть 2. 2 балла"
      ],
      "metadata": {
        "id": "E-4Zve40XHaS"
      }
    },
    {
      "cell_type": "markdown",
      "source": [
        "Обучите линейную регрессию на усредненных **Word2Vec** векторах. \n"
      ],
      "metadata": {
        "id": "cYFL-5yFXHaS"
      }
    },
    {
      "cell_type": "code",
      "source": [
        "noise = list(punctuation) + list('1234567890')\n",
        "\n",
        "def process_text(text):\n",
        "    lst =  [word for word in word_tokenize(text.lower()) if (word not in noise)]\n",
        "    return ' '.join(lst)"
      ],
      "metadata": {
        "id": "oyKaZEKr8eRq",
        "trusted": true
      },
      "execution_count": 19,
      "outputs": []
    },
    {
      "cell_type": "code",
      "source": [
        "df = pd.read_csv(PATH_TO_TRAIN_DATA)[:50000] # заного читаю, чтоб взять бОльшую выборку\n",
        "\n",
        "df['negative'] = df['negative'].apply(process_text) # ячейка выполняется 30 сек\n",
        "df['positive'] = df['positive'].apply(process_text)"
      ],
      "metadata": {
        "id": "ojAMeY2M8eRr",
        "trusted": true
      },
      "execution_count": 20,
      "outputs": []
    },
    {
      "cell_type": "code",
      "source": [
        "df['positive'] = df['positive'].str.split()\n",
        "df['negative'] = df['negative'].str.split()"
      ],
      "metadata": {
        "id": "rndBuGhh8eRr",
        "trusted": true
      },
      "execution_count": 21,
      "outputs": []
    },
    {
      "cell_type": "code",
      "source": [
        "df.head(3)"
      ],
      "metadata": {
        "id": "7sDxTSvk8eRs",
        "outputId": "6f0c61ae-e5bb-43c1-985b-8ff7b9dc406c",
        "trusted": true,
        "colab": {
          "base_uri": "https://localhost:8080/",
          "height": 222
        }
      },
      "execution_count": 22,
      "outputs": [
        {
          "output_type": "execute_result",
          "data": {
            "text/plain": [
              "                          review_id  \\\n",
              "0  00003c6036f30f590c0ac435efb8739b   \n",
              "1  00004d18f186bf2489590dc415876f73   \n",
              "2  0000cf900cbb8667fad33a717e9b1cf4   \n",
              "\n",
              "                                            negative  \\\n",
              "0  [there, were, issues, with, the, wifi, connect...   \n",
              "1                                 [tv, not, working]   \n",
              "2                                    [more, pillows]   \n",
              "\n",
              "                                            positive  score  \n",
              "0                                     [no, positive]    7.1  \n",
              "1                                     [no, positive]    7.5  \n",
              "2  [beautiful, room, great, location, lovely, staff]   10.0  "
            ],
            "text/html": [
              "\n",
              "  <div id=\"df-7587d0de-0523-4ccb-a9ad-ef9e3ab2bbca\">\n",
              "    <div class=\"colab-df-container\">\n",
              "      <div>\n",
              "<style scoped>\n",
              "    .dataframe tbody tr th:only-of-type {\n",
              "        vertical-align: middle;\n",
              "    }\n",
              "\n",
              "    .dataframe tbody tr th {\n",
              "        vertical-align: top;\n",
              "    }\n",
              "\n",
              "    .dataframe thead th {\n",
              "        text-align: right;\n",
              "    }\n",
              "</style>\n",
              "<table border=\"1\" class=\"dataframe\">\n",
              "  <thead>\n",
              "    <tr style=\"text-align: right;\">\n",
              "      <th></th>\n",
              "      <th>review_id</th>\n",
              "      <th>negative</th>\n",
              "      <th>positive</th>\n",
              "      <th>score</th>\n",
              "    </tr>\n",
              "  </thead>\n",
              "  <tbody>\n",
              "    <tr>\n",
              "      <th>0</th>\n",
              "      <td>00003c6036f30f590c0ac435efb8739b</td>\n",
              "      <td>[there, were, issues, with, the, wifi, connect...</td>\n",
              "      <td>[no, positive]</td>\n",
              "      <td>7.1</td>\n",
              "    </tr>\n",
              "    <tr>\n",
              "      <th>1</th>\n",
              "      <td>00004d18f186bf2489590dc415876f73</td>\n",
              "      <td>[tv, not, working]</td>\n",
              "      <td>[no, positive]</td>\n",
              "      <td>7.5</td>\n",
              "    </tr>\n",
              "    <tr>\n",
              "      <th>2</th>\n",
              "      <td>0000cf900cbb8667fad33a717e9b1cf4</td>\n",
              "      <td>[more, pillows]</td>\n",
              "      <td>[beautiful, room, great, location, lovely, staff]</td>\n",
              "      <td>10.0</td>\n",
              "    </tr>\n",
              "  </tbody>\n",
              "</table>\n",
              "</div>\n",
              "      <button class=\"colab-df-convert\" onclick=\"convertToInteractive('df-7587d0de-0523-4ccb-a9ad-ef9e3ab2bbca')\"\n",
              "              title=\"Convert this dataframe to an interactive table.\"\n",
              "              style=\"display:none;\">\n",
              "        \n",
              "  <svg xmlns=\"http://www.w3.org/2000/svg\" height=\"24px\"viewBox=\"0 0 24 24\"\n",
              "       width=\"24px\">\n",
              "    <path d=\"M0 0h24v24H0V0z\" fill=\"none\"/>\n",
              "    <path d=\"M18.56 5.44l.94 2.06.94-2.06 2.06-.94-2.06-.94-.94-2.06-.94 2.06-2.06.94zm-11 1L8.5 8.5l.94-2.06 2.06-.94-2.06-.94L8.5 2.5l-.94 2.06-2.06.94zm10 10l.94 2.06.94-2.06 2.06-.94-2.06-.94-.94-2.06-.94 2.06-2.06.94z\"/><path d=\"M17.41 7.96l-1.37-1.37c-.4-.4-.92-.59-1.43-.59-.52 0-1.04.2-1.43.59L10.3 9.45l-7.72 7.72c-.78.78-.78 2.05 0 2.83L4 21.41c.39.39.9.59 1.41.59.51 0 1.02-.2 1.41-.59l7.78-7.78 2.81-2.81c.8-.78.8-2.07 0-2.86zM5.41 20L4 18.59l7.72-7.72 1.47 1.35L5.41 20z\"/>\n",
              "  </svg>\n",
              "      </button>\n",
              "      \n",
              "  <style>\n",
              "    .colab-df-container {\n",
              "      display:flex;\n",
              "      flex-wrap:wrap;\n",
              "      gap: 12px;\n",
              "    }\n",
              "\n",
              "    .colab-df-convert {\n",
              "      background-color: #E8F0FE;\n",
              "      border: none;\n",
              "      border-radius: 50%;\n",
              "      cursor: pointer;\n",
              "      display: none;\n",
              "      fill: #1967D2;\n",
              "      height: 32px;\n",
              "      padding: 0 0 0 0;\n",
              "      width: 32px;\n",
              "    }\n",
              "\n",
              "    .colab-df-convert:hover {\n",
              "      background-color: #E2EBFA;\n",
              "      box-shadow: 0px 1px 2px rgba(60, 64, 67, 0.3), 0px 1px 3px 1px rgba(60, 64, 67, 0.15);\n",
              "      fill: #174EA6;\n",
              "    }\n",
              "\n",
              "    [theme=dark] .colab-df-convert {\n",
              "      background-color: #3B4455;\n",
              "      fill: #D2E3FC;\n",
              "    }\n",
              "\n",
              "    [theme=dark] .colab-df-convert:hover {\n",
              "      background-color: #434B5C;\n",
              "      box-shadow: 0px 1px 3px 1px rgba(0, 0, 0, 0.15);\n",
              "      filter: drop-shadow(0px 1px 2px rgba(0, 0, 0, 0.3));\n",
              "      fill: #FFFFFF;\n",
              "    }\n",
              "  </style>\n",
              "\n",
              "      <script>\n",
              "        const buttonEl =\n",
              "          document.querySelector('#df-7587d0de-0523-4ccb-a9ad-ef9e3ab2bbca button.colab-df-convert');\n",
              "        buttonEl.style.display =\n",
              "          google.colab.kernel.accessAllowed ? 'block' : 'none';\n",
              "\n",
              "        async function convertToInteractive(key) {\n",
              "          const element = document.querySelector('#df-7587d0de-0523-4ccb-a9ad-ef9e3ab2bbca');\n",
              "          const dataTable =\n",
              "            await google.colab.kernel.invokeFunction('convertToInteractive',\n",
              "                                                     [key], {});\n",
              "          if (!dataTable) return;\n",
              "\n",
              "          const docLinkHtml = 'Like what you see? Visit the ' +\n",
              "            '<a target=\"_blank\" href=https://colab.research.google.com/notebooks/data_table.ipynb>data table notebook</a>'\n",
              "            + ' to learn more about interactive tables.';\n",
              "          element.innerHTML = '';\n",
              "          dataTable['output_type'] = 'display_data';\n",
              "          await google.colab.output.renderOutput(dataTable, element);\n",
              "          const docLink = document.createElement('div');\n",
              "          docLink.innerHTML = docLinkHtml;\n",
              "          element.appendChild(docLink);\n",
              "        }\n",
              "      </script>\n",
              "    </div>\n",
              "  </div>\n",
              "  "
            ]
          },
          "metadata": {},
          "execution_count": 22
        }
      ]
    },
    {
      "cell_type": "code",
      "source": [
        "df3 = df.copy()"
      ],
      "metadata": {
        "id": "ICSva4vy8eRs",
        "trusted": true
      },
      "execution_count": 23,
      "outputs": []
    },
    {
      "cell_type": "code",
      "source": [
        "# взято с сайта https://medium.com/analytics-vidhya/word2vector-using-gensim-e055d35f1cb4\n",
        "from gensim.models.word2vec import Word2Vec as w2v\n",
        "import multiprocessing\n",
        "\n",
        "emb_size = 200\n",
        "\n",
        "\n",
        "arr_emb_size = []\n",
        "arr_score_no_idf = []\n",
        "arr_score_yes_idf = []\n",
        "\n",
        "cpu_c = multiprocessing.cpu_count()\n",
        "word_2_vec_model_pos = w2v(df['positive'], min_count=4, window=4, size=emb_size, workers=cpu_c)\n",
        "word_2_vec_model_neg = w2v(df['negative'], min_count=4, window=4, size=emb_size, workers=cpu_c)"
      ],
      "metadata": {
        "id": "ZSeqR-Kt8eRt",
        "trusted": true
      },
      "execution_count": 27,
      "outputs": []
    },
    {
      "cell_type": "code",
      "source": [
        "def make_arrays_for_text_pos(value):\n",
        "    out_array = np.zeros(emb_size) \n",
        "    count = 0\n",
        "    for el in value:\n",
        "        try:\n",
        "            out_array += word_2_vec_model_pos.wv[el]\n",
        "            count += 1\n",
        "        except:\n",
        "            continue\n",
        "    return out_array / count\n",
        "# усредняем. Идею именно этой ячейки подсказал друг, но реализовал сам\n",
        "\n",
        "def make_arrays_for_text_neg(value):\n",
        "    out_array = np.zeros(emb_size) \n",
        "    count = 0\n",
        "    for el in value:\n",
        "        try:\n",
        "            out_array += word_2_vec_model_neg.wv[el]\n",
        "            count += 1\n",
        "        except:\n",
        "            continue\n",
        "    return out_array / count"
      ],
      "metadata": {
        "id": "dAUTfnSI8eRu",
        "trusted": true
      },
      "execution_count": 28,
      "outputs": []
    },
    {
      "cell_type": "code",
      "source": [
        "df2 = df.copy()\n",
        "df['positive_vector'] = df['positive'].apply(make_arrays_for_text_pos)\n",
        "df['negative_vector'] = df['negative'].apply(make_arrays_for_text_neg)"
      ],
      "metadata": {
        "id": "cslCPgl_8eRu",
        "trusted": true
      },
      "execution_count": 29,
      "outputs": []
    },
    {
      "cell_type": "code",
      "source": [
        "X_features = pd.DataFrame(np.hstack((np.array(list(df.iloc[:, 4].values)), \n",
        "                                     np.array(list(df.iloc[:, 5].values)))))"
      ],
      "metadata": {
        "id": "HSWc0JsW8eRv",
        "trusted": true
      },
      "execution_count": 30,
      "outputs": []
    },
    {
      "cell_type": "code",
      "source": [
        "X_features['score'] = df['score']\n",
        "X_features = X_features.fillna(0)\n",
        "train, test = train_test_split(X_features, test_size=0.2, random_state = 1412)"
      ],
      "metadata": {
        "id": "jMUjxPeE8eRv",
        "trusted": true
      },
      "execution_count": 31,
      "outputs": []
    },
    {
      "cell_type": "code",
      "source": [
        "model_2 = LinearRegression()\n",
        "model_2.fit(train.drop('score', axis=1), train['score'])\n",
        "no_idf_score = mean_absolute_error(model_2.predict(test.drop('score', axis=1)), test['score'])"
      ],
      "metadata": {
        "id": "1C8Auc0Q8eRw",
        "trusted": true
      },
      "execution_count": 32,
      "outputs": []
    },
    {
      "cell_type": "code",
      "source": [
        "print(f'MAE with Word2Vec medium = {no_idf_score:.4f}')"
      ],
      "metadata": {
        "id": "BPr-fR3L8eRw",
        "trusted": true,
        "colab": {
          "base_uri": "https://localhost:8080/",
          "height": 0
        },
        "outputId": "7bd3803e-2d3e-4767-e446-c2141e418226"
      },
      "execution_count": 33,
      "outputs": [
        {
          "output_type": "stream",
          "name": "stdout",
          "text": [
            "MAE with Word2Vec medium = 0.9465\n"
          ]
        }
      ]
    },
    {
      "cell_type": "markdown",
      "source": [
        "Усредняя w2v вектора, мы предполагаем, что каждое слово имеет равноценный вклад в смысл предложения, однако это может быть не совсем так. Теперь попробуйте воспользоваться другой концепцией и перевзвесить слова при получении итогового эмбеддинга текста. В качестве весов используйте IDF (Inverse document frequency)"
      ],
      "metadata": {
        "id": "KWrIciGxXHaS"
      }
    },
    {
      "cell_type": "code",
      "source": [
        "def calc_idf(needed_tf_idf):\n",
        "    return dict(zip(needed_tf_idf.get_feature_names(), needed_tf_idf.idf_))"
      ],
      "metadata": {
        "id": "cDJULYWA8eRx",
        "trusted": true
      },
      "execution_count": 34,
      "outputs": []
    },
    {
      "cell_type": "code",
      "source": [
        "count_tf_idf_neg = TfidfVectorizer()\n",
        "count_tf_idf_pos = TfidfVectorizer()\n",
        "\n",
        "tf_idf_pos_train = count_tf_idf_pos.fit_transform(df_train['positive'])\n",
        "tf_idf_neg_train = count_tf_idf_neg.fit_transform(df_train['negative'])\n",
        "\n",
        "pos_dict_idf = calc_idf(count_tf_idf_pos)\n",
        "neg_dict_idf = calc_idf(count_tf_idf_neg)"
      ],
      "metadata": {
        "id": "AoeWLbMl8eRx",
        "trusted": true,
        "colab": {
          "base_uri": "https://localhost:8080/",
          "height": 0
        },
        "outputId": "2a57eeb1-41b0-45ba-9c1d-639fee2ea5e7"
      },
      "execution_count": 35,
      "outputs": [
        {
          "output_type": "stream",
          "name": "stderr",
          "text": [
            "/usr/local/lib/python3.7/dist-packages/sklearn/utils/deprecation.py:87: FutureWarning: Function get_feature_names is deprecated; get_feature_names is deprecated in 1.0 and will be removed in 1.2. Please use get_feature_names_out instead.\n",
            "  warnings.warn(msg, category=FutureWarning)\n",
            "/usr/local/lib/python3.7/dist-packages/sklearn/utils/deprecation.py:87: FutureWarning: Function get_feature_names is deprecated; get_feature_names is deprecated in 1.0 and will be removed in 1.2. Please use get_feature_names_out instead.\n",
            "  warnings.warn(msg, category=FutureWarning)\n"
          ]
        }
      ]
    },
    {
      "cell_type": "code",
      "source": [
        "def make_arrays_for_text_pos_idf(value):\n",
        "    out_array = np.zeros(emb_size) \n",
        "    for el in value:\n",
        "        try:\n",
        "            out_array += word_2_vec_model_pos.wv[el] * pos_dict_idf[el]\n",
        "        except:\n",
        "            continue\n",
        "    return out_array\n",
        "# усредняем. Идею именно этой ячейки подсказал друг, но реализовал сам\n",
        "\n",
        "def make_arrays_for_text_neg_idf(value):\n",
        "    out_array = np.zeros(emb_size) \n",
        "    for el in value:\n",
        "        try:\n",
        "            out_array += word_2_vec_model_neg.wv[el] * neg_dict_idf[el]\n",
        "        except:\n",
        "            continue\n",
        "    return out_array"
      ],
      "metadata": {
        "id": "vTT80x3J8eRy",
        "trusted": true
      },
      "execution_count": 36,
      "outputs": []
    },
    {
      "cell_type": "code",
      "source": [
        "df2['positive_vector'] = df2['positive'].apply(make_arrays_for_text_pos_idf)\n",
        "df2['negative_vector'] = df2['negative'].apply(make_arrays_for_text_neg_idf)"
      ],
      "metadata": {
        "id": "xpOfBYUK8eRy",
        "trusted": true
      },
      "execution_count": 37,
      "outputs": []
    },
    {
      "cell_type": "code",
      "source": [
        "df2.head()"
      ],
      "metadata": {
        "id": "Pfw2FwFg8eRz",
        "trusted": true,
        "colab": {
          "base_uri": "https://localhost:8080/",
          "height": 493
        },
        "outputId": "4590b4c3-ea7b-4d4a-eae8-2260676b700b"
      },
      "execution_count": 38,
      "outputs": [
        {
          "output_type": "execute_result",
          "data": {
            "text/plain": [
              "                          review_id  \\\n",
              "0  00003c6036f30f590c0ac435efb8739b   \n",
              "1  00004d18f186bf2489590dc415876f73   \n",
              "2  0000cf900cbb8667fad33a717e9b1cf4   \n",
              "3  0000df16edf19e7ad9dd8c5cd6f6925e   \n",
              "4  00025e1aa3ac32edb496db49e76bbd00   \n",
              "\n",
              "                                            negative  \\\n",
              "0  [there, were, issues, with, the, wifi, connect...   \n",
              "1                                 [tv, not, working]   \n",
              "2                                    [more, pillows]   \n",
              "3                                   [very, business]   \n",
              "4  [rooms, could, do, with, a, bit, of, a, refurb...   \n",
              "\n",
              "                                            positive  score  \\\n",
              "0                                     [no, positive]    7.1   \n",
              "1                                     [no, positive]    7.5   \n",
              "2  [beautiful, room, great, location, lovely, staff]   10.0   \n",
              "3                                         [location]    5.4   \n",
              "4  [nice, breakfast, handy, for, victoria, train,...    6.7   \n",
              "\n",
              "                                     positive_vector  \\\n",
              "0  [2.596295118331909, -0.6114968061447144, -0.98...   \n",
              "1  [2.596295118331909, -0.6114968061447144, -0.98...   \n",
              "2  [3.0791450248798355, 11.11297756433487, 6.5525...   \n",
              "3  [0.6067295670509338, 0.6622955799102783, 0.132...   \n",
              "4  [1.8140106333885342, 21.551151582971215, -11.0...   \n",
              "\n",
              "                                     negative_vector  \n",
              "0  [-1.4462829232215881, 3.3961369395256042, 2.09...  \n",
              "1  [0.005304940044879913, 3.0429797172546387, 7.4...  \n",
              "2  [5.964325904846191, 0.9176493287086487, 4.6178...  \n",
              "3  [0.39854106307029724, -1.3071905374526978, -2....  \n",
              "4  [52.57218062132597, 10.658519186079502, 12.589...  "
            ],
            "text/html": [
              "\n",
              "  <div id=\"df-4b80945a-90f1-4573-b35d-f3aa338f5688\">\n",
              "    <div class=\"colab-df-container\">\n",
              "      <div>\n",
              "<style scoped>\n",
              "    .dataframe tbody tr th:only-of-type {\n",
              "        vertical-align: middle;\n",
              "    }\n",
              "\n",
              "    .dataframe tbody tr th {\n",
              "        vertical-align: top;\n",
              "    }\n",
              "\n",
              "    .dataframe thead th {\n",
              "        text-align: right;\n",
              "    }\n",
              "</style>\n",
              "<table border=\"1\" class=\"dataframe\">\n",
              "  <thead>\n",
              "    <tr style=\"text-align: right;\">\n",
              "      <th></th>\n",
              "      <th>review_id</th>\n",
              "      <th>negative</th>\n",
              "      <th>positive</th>\n",
              "      <th>score</th>\n",
              "      <th>positive_vector</th>\n",
              "      <th>negative_vector</th>\n",
              "    </tr>\n",
              "  </thead>\n",
              "  <tbody>\n",
              "    <tr>\n",
              "      <th>0</th>\n",
              "      <td>00003c6036f30f590c0ac435efb8739b</td>\n",
              "      <td>[there, were, issues, with, the, wifi, connect...</td>\n",
              "      <td>[no, positive]</td>\n",
              "      <td>7.1</td>\n",
              "      <td>[2.596295118331909, -0.6114968061447144, -0.98...</td>\n",
              "      <td>[-1.4462829232215881, 3.3961369395256042, 2.09...</td>\n",
              "    </tr>\n",
              "    <tr>\n",
              "      <th>1</th>\n",
              "      <td>00004d18f186bf2489590dc415876f73</td>\n",
              "      <td>[tv, not, working]</td>\n",
              "      <td>[no, positive]</td>\n",
              "      <td>7.5</td>\n",
              "      <td>[2.596295118331909, -0.6114968061447144, -0.98...</td>\n",
              "      <td>[0.005304940044879913, 3.0429797172546387, 7.4...</td>\n",
              "    </tr>\n",
              "    <tr>\n",
              "      <th>2</th>\n",
              "      <td>0000cf900cbb8667fad33a717e9b1cf4</td>\n",
              "      <td>[more, pillows]</td>\n",
              "      <td>[beautiful, room, great, location, lovely, staff]</td>\n",
              "      <td>10.0</td>\n",
              "      <td>[3.0791450248798355, 11.11297756433487, 6.5525...</td>\n",
              "      <td>[5.964325904846191, 0.9176493287086487, 4.6178...</td>\n",
              "    </tr>\n",
              "    <tr>\n",
              "      <th>3</th>\n",
              "      <td>0000df16edf19e7ad9dd8c5cd6f6925e</td>\n",
              "      <td>[very, business]</td>\n",
              "      <td>[location]</td>\n",
              "      <td>5.4</td>\n",
              "      <td>[0.6067295670509338, 0.6622955799102783, 0.132...</td>\n",
              "      <td>[0.39854106307029724, -1.3071905374526978, -2....</td>\n",
              "    </tr>\n",
              "    <tr>\n",
              "      <th>4</th>\n",
              "      <td>00025e1aa3ac32edb496db49e76bbd00</td>\n",
              "      <td>[rooms, could, do, with, a, bit, of, a, refurb...</td>\n",
              "      <td>[nice, breakfast, handy, for, victoria, train,...</td>\n",
              "      <td>6.7</td>\n",
              "      <td>[1.8140106333885342, 21.551151582971215, -11.0...</td>\n",
              "      <td>[52.57218062132597, 10.658519186079502, 12.589...</td>\n",
              "    </tr>\n",
              "  </tbody>\n",
              "</table>\n",
              "</div>\n",
              "      <button class=\"colab-df-convert\" onclick=\"convertToInteractive('df-4b80945a-90f1-4573-b35d-f3aa338f5688')\"\n",
              "              title=\"Convert this dataframe to an interactive table.\"\n",
              "              style=\"display:none;\">\n",
              "        \n",
              "  <svg xmlns=\"http://www.w3.org/2000/svg\" height=\"24px\"viewBox=\"0 0 24 24\"\n",
              "       width=\"24px\">\n",
              "    <path d=\"M0 0h24v24H0V0z\" fill=\"none\"/>\n",
              "    <path d=\"M18.56 5.44l.94 2.06.94-2.06 2.06-.94-2.06-.94-.94-2.06-.94 2.06-2.06.94zm-11 1L8.5 8.5l.94-2.06 2.06-.94-2.06-.94L8.5 2.5l-.94 2.06-2.06.94zm10 10l.94 2.06.94-2.06 2.06-.94-2.06-.94-.94-2.06-.94 2.06-2.06.94z\"/><path d=\"M17.41 7.96l-1.37-1.37c-.4-.4-.92-.59-1.43-.59-.52 0-1.04.2-1.43.59L10.3 9.45l-7.72 7.72c-.78.78-.78 2.05 0 2.83L4 21.41c.39.39.9.59 1.41.59.51 0 1.02-.2 1.41-.59l7.78-7.78 2.81-2.81c.8-.78.8-2.07 0-2.86zM5.41 20L4 18.59l7.72-7.72 1.47 1.35L5.41 20z\"/>\n",
              "  </svg>\n",
              "      </button>\n",
              "      \n",
              "  <style>\n",
              "    .colab-df-container {\n",
              "      display:flex;\n",
              "      flex-wrap:wrap;\n",
              "      gap: 12px;\n",
              "    }\n",
              "\n",
              "    .colab-df-convert {\n",
              "      background-color: #E8F0FE;\n",
              "      border: none;\n",
              "      border-radius: 50%;\n",
              "      cursor: pointer;\n",
              "      display: none;\n",
              "      fill: #1967D2;\n",
              "      height: 32px;\n",
              "      padding: 0 0 0 0;\n",
              "      width: 32px;\n",
              "    }\n",
              "\n",
              "    .colab-df-convert:hover {\n",
              "      background-color: #E2EBFA;\n",
              "      box-shadow: 0px 1px 2px rgba(60, 64, 67, 0.3), 0px 1px 3px 1px rgba(60, 64, 67, 0.15);\n",
              "      fill: #174EA6;\n",
              "    }\n",
              "\n",
              "    [theme=dark] .colab-df-convert {\n",
              "      background-color: #3B4455;\n",
              "      fill: #D2E3FC;\n",
              "    }\n",
              "\n",
              "    [theme=dark] .colab-df-convert:hover {\n",
              "      background-color: #434B5C;\n",
              "      box-shadow: 0px 1px 3px 1px rgba(0, 0, 0, 0.15);\n",
              "      filter: drop-shadow(0px 1px 2px rgba(0, 0, 0, 0.3));\n",
              "      fill: #FFFFFF;\n",
              "    }\n",
              "  </style>\n",
              "\n",
              "      <script>\n",
              "        const buttonEl =\n",
              "          document.querySelector('#df-4b80945a-90f1-4573-b35d-f3aa338f5688 button.colab-df-convert');\n",
              "        buttonEl.style.display =\n",
              "          google.colab.kernel.accessAllowed ? 'block' : 'none';\n",
              "\n",
              "        async function convertToInteractive(key) {\n",
              "          const element = document.querySelector('#df-4b80945a-90f1-4573-b35d-f3aa338f5688');\n",
              "          const dataTable =\n",
              "            await google.colab.kernel.invokeFunction('convertToInteractive',\n",
              "                                                     [key], {});\n",
              "          if (!dataTable) return;\n",
              "\n",
              "          const docLinkHtml = 'Like what you see? Visit the ' +\n",
              "            '<a target=\"_blank\" href=https://colab.research.google.com/notebooks/data_table.ipynb>data table notebook</a>'\n",
              "            + ' to learn more about interactive tables.';\n",
              "          element.innerHTML = '';\n",
              "          dataTable['output_type'] = 'display_data';\n",
              "          await google.colab.output.renderOutput(dataTable, element);\n",
              "          const docLink = document.createElement('div');\n",
              "          docLink.innerHTML = docLinkHtml;\n",
              "          element.appendChild(docLink);\n",
              "        }\n",
              "      </script>\n",
              "    </div>\n",
              "  </div>\n",
              "  "
            ]
          },
          "metadata": {},
          "execution_count": 38
        }
      ]
    },
    {
      "cell_type": "code",
      "source": [
        "X_features = pd.DataFrame(np.hstack((np.array(list(df2.iloc[:, 4].values)), \n",
        "                                     np.array(list(df2.iloc[:, 5].values)))))"
      ],
      "metadata": {
        "id": "ECBzTKkQ8eRz",
        "trusted": true
      },
      "execution_count": 39,
      "outputs": []
    },
    {
      "cell_type": "code",
      "source": [
        "X_features['score'] = df2['score']\n",
        "X_features = X_features.fillna(0)\n",
        "train2, test2 = train_test_split(X_features, test_size=0.3, random_state = 1412)"
      ],
      "metadata": {
        "id": "pVYvDYAl8eR0",
        "trusted": true
      },
      "execution_count": 40,
      "outputs": []
    },
    {
      "cell_type": "code",
      "source": [
        "model_3 = LinearRegression()\n",
        "model_3.fit(train2.drop('score', axis=1), train2['score'])\n",
        "idf_score = mean_absolute_error(test2['score'], model_3.predict(test2.drop('score', axis=1)))"
      ],
      "metadata": {
        "id": "BUKRp-9Z8eR0",
        "trusted": true
      },
      "execution_count": 41,
      "outputs": []
    },
    {
      "cell_type": "code",
      "source": [
        "print(f'MAE with Word2Vec IDF = {idf_score:.4f}')"
      ],
      "metadata": {
        "id": "C97iBaX68eR1",
        "trusted": true,
        "colab": {
          "base_uri": "https://localhost:8080/",
          "height": 0
        },
        "outputId": "5a027f41-64b4-4daa-9bd5-1d822590ee31"
      },
      "execution_count": 42,
      "outputs": [
        {
          "output_type": "stream",
          "name": "stdout",
          "text": [
            "MAE with Word2Vec IDF = 0.9300\n"
          ]
        }
      ]
    },
    {
      "cell_type": "markdown",
      "source": [
        ""
      ],
      "metadata": {
        "id": "Vm9W6SQW_wii"
      }
    },
    {
      "cell_type": "markdown",
      "source": [
        "Проведите эксперименты с размерностью эмбеддинга. Для каждого из двух методов постройте график зависимости качества модели от размерности эмбеддинга. \n",
        "\n",
        "#### Сделайте выводы:"
      ],
      "metadata": {
        "id": "4s-6HQo0XHaT"
      }
    },
    {
      "cell_type": "markdown",
      "source": [
        "Поиском по сетке найдем лучшую модель"
      ],
      "metadata": {
        "id": "goUepX2a_wij"
      }
    },
    {
      "cell_type": "code",
      "source": [
        "import time\n",
        "start_time = time.time()\n",
        "\n",
        "arr_emb_size = []\n",
        "arr_score_no_idf = []\n",
        "arr_score_yes_idf = []\n",
        "for emb_size in tqdm(range(300, 701, 100)):\n",
        "    \n",
        "    arr_emb_size.append(emb_size)\n",
        "\n",
        "    cpu_c = multiprocessing.cpu_count()\n",
        "    word_2_vec_model_pos = w2v(df['positive'], min_count=4, window=4, size=emb_size, workers=cpu_c, \n",
        "                               iter=15)\n",
        "    word_2_vec_model_neg = w2v(df['negative'], min_count=4, window=4, size=emb_size, workers=cpu_c, \n",
        "                               iter=15)\n",
        "    df = df3.copy()\n",
        "    df2 = df.copy()\n",
        "    df['positive_vector'] = df['positive'].apply(make_arrays_for_text_pos)\n",
        "    df['negative_vector'] = df['negative'].apply(make_arrays_for_text_neg)\n",
        "    X_features = pd.DataFrame(np.hstack((np.array(list(df.iloc[:, 4].values)), \n",
        "                                     np.array(list(df.iloc[:, 5].values)))))\n",
        "    X_features['score'] = df['score']\n",
        "    X_features = X_features.fillna(0)\n",
        "    train, test = train_test_split(X_features, test_size=0.2, random_state = 1412)\n",
        "    \n",
        "    model_2 = LinearRegression()\n",
        "    model_2.fit(train.drop('score', axis=1), train['score'])\n",
        "    no_idf_score = mean_absolute_error(model_2.predict(test.drop('score', axis=1)), test['score'])\n",
        "    \n",
        "    arr_score_no_idf.append(no_idf_score)\n",
        "    \n",
        "    df2['positive_vector'] = df2['positive'].apply(make_arrays_for_text_pos_idf)\n",
        "    df2['negative_vector'] = df2['negative'].apply(make_arrays_for_text_neg_idf)\n",
        "    \n",
        "    X_features = pd.DataFrame(np.hstack((np.array(list(df2.iloc[:, 4].values)), \n",
        "                                     np.array(list(df2.iloc[:, 5].values)))))\n",
        "    \n",
        "    X_features['score'] = df2['score']\n",
        "    X_features = X_features.fillna(0)\n",
        "    train2, test2 = train_test_split(X_features, test_size=0.3, random_state = 1412)\n",
        "    \n",
        "    model_3 = LinearRegression()\n",
        "    model_3.fit(train2.drop('score', axis=1), train2['score'])\n",
        "    idf_score = mean_absolute_error(test2['score'], model_3.predict(test2.drop('score', axis=1)))\n",
        "    \n",
        "    arr_score_yes_idf.append(idf_score)\n",
        "    \n",
        "print(\"--- %s seconds ---\" % (round(time.time() - start_time, 4)))"
      ],
      "metadata": {
        "id": "pog1JiCa8eR1",
        "trusted": true,
        "colab": {
          "base_uri": "https://localhost:8080/",
          "height": 0
        },
        "outputId": "67676e56-77ac-4a5b-b574-1ad441986f46"
      },
      "execution_count": 46,
      "outputs": [
        {
          "output_type": "stream",
          "name": "stderr",
          "text": [
            "100%|██████████| 5/5 [07:40<00:00, 92.20s/it]"
          ]
        },
        {
          "output_type": "stream",
          "name": "stdout",
          "text": [
            "--- 461.0058 seconds ---\n"
          ]
        },
        {
          "output_type": "stream",
          "name": "stderr",
          "text": [
            "\n"
          ]
        }
      ]
    },
    {
      "cell_type": "code",
      "source": [
        "import matplotlib.pyplot as plt\n",
        "\n",
        "fig = plt.figure(figsize=(9,9))\n",
        "\n",
        "plt.plot(arr_emb_size, arr_score_no_idf, label = \"No_idf_word2vec\")\n",
        "plt.plot(arr_emb_size, arr_score_yes_idf, label = \"Idf_word2vec\")\n",
        "fig.suptitle('MAE and Embedding Size', fontsize=20)\n",
        "plt.xlabel('Emb_size', fontsize=18)\n",
        "plt.ylabel('MAE', fontsize=18)\n",
        "plt.legend()\n",
        "plt.grid()\n",
        "plt.show()"
      ],
      "metadata": {
        "id": "VTnNGvms8eR2",
        "trusted": true,
        "colab": {
          "base_uri": "https://localhost:8080/",
          "height": 624
        },
        "outputId": "08ac732d-72d8-4642-c12e-83db215dffae"
      },
      "execution_count": 47,
      "outputs": [
        {
          "output_type": "display_data",
          "data": {
            "text/plain": [
              "<Figure size 648x648 with 1 Axes>"
            ],
            "image/png": "[encoded data removed]"
          },
          "metadata": {
            "needs_background": "light"
          }
        }
      ]
    },
    {
      "cell_type": "markdown",
      "source": [
        "лучший эмбеддинг при emb_size = 500"
      ],
      "metadata": {
        "id": "VnEd6HHf8eR3"
      }
    },
    {
      "cell_type": "code",
      "source": [
        "import time\n",
        "start_time = time.time()\n",
        "\n",
        "best_min_count = 0\n",
        "best_window = 0\n",
        "best_res = 11\n",
        "arr_score_no_idf = []\n",
        "\n",
        "\n",
        "best_min_count_idf = 0\n",
        "best_window_idf = 0\n",
        "best_res_idf = 11\n",
        "best_mod_no_idf = None\n",
        "\n",
        "\n",
        "arr_score_idf = []\n",
        "best_model_idf = None\n",
        "best_w_2_v_pos = None\n",
        "best_w_2_v_neg = None\n",
        "\n",
        "#arr_score_yes_idf = []\n",
        "for windows in tqdm([7, 8]):\n",
        "    for min_count in tqdm([ 5, 6]):\n",
        "        emb_size = 500\n",
        "        \n",
        "        \n",
        "        cpu_c = multiprocessing.cpu_count()\n",
        "        word_2_vec_model_pos = w2v(df['positive'], min_count=min_count, \n",
        "                                   window=windows, size=emb_size, workers=cpu_c, seed=122, iter=15)\n",
        "        word_2_vec_model_neg = w2v(df['negative'], min_count=min_count, \n",
        "                                   window=windows, size=emb_size, workers=cpu_c, seed=1223, iter=15)\n",
        "        df = df3.copy()\n",
        "        df2 = df.copy()\n",
        "        df['positive_vector'] = df['positive'].apply(make_arrays_for_text_pos)\n",
        "        df['negative_vector'] = df['negative'].apply(make_arrays_for_text_neg)\n",
        "        X_features = pd.DataFrame(np.hstack((np.array(list(df.iloc[:, 4].values)), \n",
        "                                         np.array(list(df.iloc[:, 5].values)))))\n",
        "        X_features['score'] = df['score']\n",
        "        X_features = X_features.fillna(0)\n",
        "        train, test = train_test_split(X_features, test_size=0.2, random_state = 1412)\n",
        "\n",
        "        model_2 = LinearRegression()\n",
        "        model_2.fit(train.drop('score', axis=1), train['score'])\n",
        "        no_idf_score = mean_absolute_error(model_2.predict(test.drop('score', axis=1)), test['score'])\n",
        "\n",
        "        arr_score_no_idf.append(no_idf_score)\n",
        "        \n",
        "        if no_idf_score < best_res:\n",
        "            best_res = no_idf_score\n",
        "            best_window = windows\n",
        "            best_min_count = min_count\n",
        "            best_mod_no_idf = model_2\n",
        "        \n",
        "        df2['positive_vector'] = df2['positive'].apply(make_arrays_for_text_pos_idf)\n",
        "        df2['negative_vector'] = df2['negative'].apply(make_arrays_for_text_neg_idf)\n",
        "\n",
        "        X_features = pd.DataFrame(np.hstack((np.array(list(df2.iloc[:, 4].values)), \n",
        "                                         np.array(list(df2.iloc[:, 5].values)))))\n",
        "\n",
        "        X_features['score'] = df2['score']\n",
        "        X_features = X_features.fillna(0)\n",
        "        print(X_features.shape)\n",
        "        train2, test2 = train_test_split(X_features, test_size=0.2, random_state = 1412)\n",
        "\n",
        "        model_3 = LinearRegression()\n",
        "        model_3.fit(train2.drop('score', axis=1), train2['score'])\n",
        "        idf_score = mean_absolute_error(test2['score'], model_3.predict(test2.drop('score', axis=1)))\n",
        "        \n",
        "        if idf_score < best_res_idf:\n",
        "            best_res_idf = idf_score\n",
        "            best_window_idf = windows\n",
        "            best_min_count_idf = min_count\n",
        "            best_model_idf = model_3\n",
        "            best_w_2_v_pos = word_2_vec_model_pos\n",
        "            best_w_2_v_neg = word_2_vec_model_neg\n",
        "            \n",
        "\n",
        "    \n",
        "print(\"--- %s seconds ---\" % (round(time.time() - start_time, 4)))"
      ],
      "metadata": {
        "id": "RwAMkdhg8eR3",
        "trusted": true,
        "colab": {
          "base_uri": "https://localhost:8080/",
          "height": 0
        },
        "outputId": "b41f0c1f-fe5c-405a-c12f-47c770231377"
      },
      "execution_count": 49,
      "outputs": [
        {
          "output_type": "stream",
          "name": "stderr",
          "text": [
            "  0%|          | 0/2 [00:00<?, ?it/s]\n",
            "  0%|          | 0/2 [00:00<?, ?it/s]\u001b[A"
          ]
        },
        {
          "output_type": "stream",
          "name": "stdout",
          "text": [
            "(50000, 1001)\n"
          ]
        },
        {
          "output_type": "stream",
          "name": "stderr",
          "text": [
            "\n",
            " 50%|█████     | 1/2 [01:39<01:39, 99.67s/it]\u001b[A"
          ]
        },
        {
          "output_type": "stream",
          "name": "stdout",
          "text": [
            "(50000, 1001)\n"
          ]
        },
        {
          "output_type": "stream",
          "name": "stderr",
          "text": [
            "\n",
            "100%|██████████| 2/2 [03:11<00:00, 95.86s/it]\n",
            " 50%|█████     | 1/2 [03:11<03:11, 191.73s/it]\n",
            "  0%|          | 0/2 [00:00<?, ?it/s]\u001b[A"
          ]
        },
        {
          "output_type": "stream",
          "name": "stdout",
          "text": [
            "(50000, 1001)\n"
          ]
        },
        {
          "output_type": "stream",
          "name": "stderr",
          "text": [
            "\n",
            " 50%|█████     | 1/2 [01:36<01:36, 96.08s/it]\u001b[A"
          ]
        },
        {
          "output_type": "stream",
          "name": "stdout",
          "text": [
            "(50000, 1001)\n"
          ]
        },
        {
          "output_type": "stream",
          "name": "stderr",
          "text": [
            "\n",
            "100%|██████████| 2/2 [03:11<00:00, 95.53s/it]\n",
            "100%|██████████| 2/2 [06:22<00:00, 191.40s/it]"
          ]
        },
        {
          "output_type": "stream",
          "name": "stdout",
          "text": [
            "--- 382.8225 seconds ---\n"
          ]
        },
        {
          "output_type": "stream",
          "name": "stderr",
          "text": [
            "\n"
          ]
        }
      ]
    },
    {
      "cell_type": "code",
      "source": [
        "print('Without IDF best res = {}, parameters = {} and {}'.format(best_res, best_window, best_min_count))\n",
        "print('With IDF best res = {}, parameters = {} and {}'.format(best_res_idf, best_window_idf, best_min_count_idf))"
      ],
      "metadata": {
        "id": "jZ88LtgB8eR4",
        "trusted": true,
        "colab": {
          "base_uri": "https://localhost:8080/",
          "height": 0
        },
        "outputId": "e296ddd1-f34c-4f7d-ab88-ae64ff861ec4"
      },
      "execution_count": 50,
      "outputs": [
        {
          "output_type": "stream",
          "name": "stdout",
          "text": [
            "Without IDF best res = 0.9268714831873073, parameters = 8 and 5\n",
            "With IDF best res = 0.9119240812649141, parameters = 7 and 5\n"
          ]
        }
      ]
    },
    {
      "cell_type": "markdown",
      "source": [
        "Теперь попробуйте обучить логистическую регрессию на любых других эмбеддингах размерности 300 и сравните качество с Word2Vec.\n",
        "#### Выводы:\n",
        "Я выбил нужное качество - **менее 0.92**! В итоге надо было не убирать Стоп-слова, и тогда ворд2век контекст лучше понимает\n"
      ],
      "metadata": {
        "id": "f29vizrmXHaT"
      }
    },
    {
      "cell_type": "code",
      "source": [
        "def make_arrays_for_text_pos_idf_fast_text(value):\n",
        "    out_array = np.zeros(emb_size)\n",
        "    count = 0\n",
        "    for el in value:\n",
        "        try:\n",
        "            out_array += fast_text_model_pos.wv[el]\n",
        "            count += 1\n",
        "        except:\n",
        "            continue\n",
        "    return out_array / count\n",
        "# усредняем. Идею именно этой ячейки подсказал друг, но реализовал сам\n",
        "\n",
        "def make_arrays_for_text_neg_idf_fast_text(value):\n",
        "    out_array = np.zeros(emb_size) \n",
        "    count = 0\n",
        "    for el in value:\n",
        "        try:\n",
        "            out_array += fast_text_model_neg.wv[el] \n",
        "            count += 1\n",
        "        except:\n",
        "            continue\n",
        "    return out_array / count"
      ],
      "metadata": {
        "id": "Jp0CrX-a8eR5",
        "trusted": true
      },
      "execution_count": 51,
      "outputs": []
    },
    {
      "cell_type": "code",
      "source": [
        "def make_arrays_for_text_pos_idf(value):\n",
        "    out_array = np.zeros(emb_size) \n",
        "    for el in value:\n",
        "        try:\n",
        "            out_array += best_w_2_v_pos.wv[el] * pos_dict_idf[el]\n",
        "        except:\n",
        "            continue\n",
        "    return out_array\n",
        "# усредняем. Идею именно этой ячейки подсказал друг, но реализовал сам\n",
        "\n",
        "def make_arrays_for_text_neg_idf(value):\n",
        "    out_array = np.zeros(emb_size) \n",
        "    for el in value:\n",
        "        try:\n",
        "            out_array += best_w_2_v_neg.wv[el] * neg_dict_idf[el]\n",
        "        except:\n",
        "            continue\n",
        "    return out_array"
      ],
      "metadata": {
        "id": "UFm1KQ768eR6",
        "trusted": true
      },
      "execution_count": 52,
      "outputs": []
    },
    {
      "cell_type": "code",
      "source": [
        "from gensim.models.fasttext import FastText as FT\n",
        "\n",
        "fast_text_model_pos = FT(df['positive'], size=300, workers=cpu_c, sg=1, seed=3, iter=20)\n",
        "fast_text_model_neg = FT(df['negative'], size=300, workers=cpu_c, sg=1, seed=3, iter=20)\n",
        "print('Going well')\n",
        "\n",
        "df = df3.copy()\n",
        "df2 = df.copy()\n",
        "df2['positive_vector'] = df2['positive'].apply(make_arrays_for_text_pos_idf_fast_text)\n",
        "df2['negative_vector'] = df2['negative'].apply(make_arrays_for_text_neg_idf_fast_text)\n",
        "\n",
        "X_features = pd.DataFrame(np.hstack((np.array(list(df2.iloc[:, 4].values)), \n",
        "                                 np.array(list(df2.iloc[:, 5].values)))))\n",
        "\n",
        "X_features['score'] = df2['score']\n",
        "X_features = X_features.fillna(0)\n",
        "train2, test2 = train_test_split(X_features, test_size=0.3, random_state = 1412)\n",
        "\n",
        "model_4 = LinearRegression()\n",
        "model_4.fit(train2.drop('score', axis=1), train2['score'])\n",
        "mean_absolute_error(test2['score'], model_4.predict(test2.drop('score', axis=1)))"
      ],
      "metadata": {
        "id": "ooVVp9CZ8eR6",
        "trusted": true,
        "colab": {
          "base_uri": "https://localhost:8080/",
          "height": 0
        },
        "outputId": "0f798e37-7248-463a-f970-73eae0f6a629"
      },
      "execution_count": 54,
      "outputs": [
        {
          "output_type": "stream",
          "name": "stdout",
          "text": [
            "Going well\n"
          ]
        },
        {
          "output_type": "execute_result",
          "data": {
            "text/plain": [
              "1.3115023481904762"
            ]
          },
          "metadata": {},
          "execution_count": 54
        }
      ]
    },
    {
      "cell_type": "code",
      "source": [
        "# data_test = pd.read_csv(PATH_TO_TEST_DATA)\n",
        "# data_test['negative'] = data_test['negative'].apply(process_text) # ячейка выполняется 30 сек\n",
        "# data_test['positive'] = data_test['positive'].apply(process_text)\n",
        "\n",
        "# data_test['positive'] = data_test['positive'].str.split()\n",
        "# data_test['negative'] = data_test['negative'].str.split()\n",
        "\n",
        "# data_test['positive_vector'] = data_test['positive'].apply(make_arrays_for_text_pos_idf)\n",
        "# data_test['negative_vector'] = data_test['negative'].apply(make_arrays_for_text_neg_idf)\n",
        "\n",
        "# X_featurest = pd.DataFrame(np.hstack((np.array(list(data_test.loc[:, 'positive_vector'].values)), \n",
        "#                                          np.array(list(data_test.loc[:, 'negative_vector'].values)))))\n",
        "\n",
        "# X_featurest = X_featurest.fillna(0)\n",
        "\n",
        "\n",
        "# pred = best_model_idf.predict(X_featurest)\n",
        "\n",
        "# pd.DataFrame({'review_id': data_test['review_id'], 'score': pred}).to_csv('My_sub2.3.csv',index=False)"
      ],
      "metadata": {
        "id": "YsNZVKOV8eR7",
        "trusted": true
      },
      "execution_count": null,
      "outputs": []
    },
    {
      "cell_type": "markdown",
      "source": [
        "Предскажите вашей лучшей моделью из этого задания тестовые данные из [соревнования](https://www.kaggle.com/t/325e82797935464aa07c254b3cc3d8ad) и сделайте сабмит. Какой у вас получился скор? Прикрепите скриншот из кэггла."
      ],
      "metadata": {
        "id": "9AjabHMsXXBu"
      }
    },
    {
      "cell_type": "markdown",
      "source": [
        "[![image.png](attachment:3b195f8d-cc6c-41d9-8fc5-0323e89db542.png)](http://)"
      ],
      "metadata": {
        "id": "tr7cWfsf8eR8"
      }
    },
    {
      "cell_type": "markdown",
      "source": [
        "Я сделал модель, которая у меня в разбиение набирает нужные 0.91, а в кэгле это очень близко к этому. Ворд 2 век показал неплохо себя, хоть и хуже tf-idf, fasttext у меня плоховато сработал"
      ],
      "metadata": {
        "id": "qinhVz-y_win"
      }
    },
    {
      "cell_type": "markdown",
      "source": [
        "### Часть 3. 4 балла"
      ],
      "metadata": {
        "id": "EO5TZriLXHaT"
      }
    },
    {
      "cell_type": "markdown",
      "source": [
        "Теперь давайте воспользуемся более продвинутыми методами обработки текстовых данных, которые мы проходили в нашем курсе. Обучите RNN/Transformer для предсказания пользовательской оценки. Получите ошибку меньше, чем во всех вышеперечисленных методах."
      ],
      "metadata": {
        "id": "5RNngNdWXHaT"
      }
    },
    {
      "cell_type": "markdown",
      "source": [
        "Если будете обучать RNN, попробуйте ограничить максимальную длину предложения. Некоторые отзывы могут быть слишком длинные относительно остальных.\n",
        "\n",
        "Чтобы пользоваться DataLoader, все его элементы должны быть одинаковой размерности. Для этого вы можете добавить нулевой паддинг ко всем предложениям (см пример pad_sequence)"
      ],
      "metadata": {
        "id": "_8YdTedQXHaT"
      }
    },
    {
      "cell_type": "code",
      "source": [
        "import torch\n",
        "from torch import nn\n",
        "from torch.nn import functional as F\n",
        "import random"
      ],
      "metadata": {
        "id": "89Y9wsViXHaU",
        "execution": {
          "iopub.status.busy": "2021-12-20T21:27:20.141624Z",
          "iopub.execute_input": "2021-12-20T21:27:20.142224Z",
          "iopub.status.idle": "2021-12-20T21:27:20.674049Z",
          "shell.execute_reply.started": "2021-12-20T21:27:20.142183Z",
          "shell.execute_reply": "2021-12-20T21:27:20.673243Z"
        },
        "trusted": true
      },
      "execution_count": 55,
      "outputs": []
    },
    {
      "cell_type": "code",
      "source": [
        "df_rnn = pd.read_csv(PATH_TO_TRAIN_DATA)[:50000]\n",
        "df_rnn.head(3)"
      ],
      "metadata": {
        "id": "VKGkQ9pS8eR-",
        "execution": {
          "iopub.status.busy": "2021-12-20T21:27:20.675943Z",
          "iopub.execute_input": "2021-12-20T21:27:20.676174Z",
          "iopub.status.idle": "2021-12-20T21:27:21.010457Z",
          "shell.execute_reply.started": "2021-12-20T21:27:20.676142Z",
          "shell.execute_reply": "2021-12-20T21:27:21.009705Z"
        },
        "trusted": true,
        "colab": {
          "base_uri": "https://localhost:8080/",
          "height": 187
        },
        "outputId": "aff19aa0-f8ab-422b-b24c-77674626b6b7"
      },
      "execution_count": 56,
      "outputs": [
        {
          "output_type": "execute_result",
          "data": {
            "text/plain": [
              "                          review_id  \\\n",
              "0  00003c6036f30f590c0ac435efb8739b   \n",
              "1  00004d18f186bf2489590dc415876f73   \n",
              "2  0000cf900cbb8667fad33a717e9b1cf4   \n",
              "\n",
              "                                      negative  \\\n",
              "0   There were issues with the wifi connection   \n",
              "1                               TV not working   \n",
              "2                                 More pillows   \n",
              "\n",
              "                                       positive  score  \n",
              "0                                   No Positive    7.1  \n",
              "1                                   No Positive    7.5  \n",
              "2   Beautiful room Great location Lovely staff    10.0  "
            ],
            "text/html": [
              "\n",
              "  <div id=\"df-0bf69c34-24fd-4cca-9a5e-be8f7b5b59c7\">\n",
              "    <div class=\"colab-df-container\">\n",
              "      <div>\n",
              "<style scoped>\n",
              "    .dataframe tbody tr th:only-of-type {\n",
              "        vertical-align: middle;\n",
              "    }\n",
              "\n",
              "    .dataframe tbody tr th {\n",
              "        vertical-align: top;\n",
              "    }\n",
              "\n",
              "    .dataframe thead th {\n",
              "        text-align: right;\n",
              "    }\n",
              "</style>\n",
              "<table border=\"1\" class=\"dataframe\">\n",
              "  <thead>\n",
              "    <tr style=\"text-align: right;\">\n",
              "      <th></th>\n",
              "      <th>review_id</th>\n",
              "      <th>negative</th>\n",
              "      <th>positive</th>\n",
              "      <th>score</th>\n",
              "    </tr>\n",
              "  </thead>\n",
              "  <tbody>\n",
              "    <tr>\n",
              "      <th>0</th>\n",
              "      <td>00003c6036f30f590c0ac435efb8739b</td>\n",
              "      <td>There were issues with the wifi connection</td>\n",
              "      <td>No Positive</td>\n",
              "      <td>7.1</td>\n",
              "    </tr>\n",
              "    <tr>\n",
              "      <th>1</th>\n",
              "      <td>00004d18f186bf2489590dc415876f73</td>\n",
              "      <td>TV not working</td>\n",
              "      <td>No Positive</td>\n",
              "      <td>7.5</td>\n",
              "    </tr>\n",
              "    <tr>\n",
              "      <th>2</th>\n",
              "      <td>0000cf900cbb8667fad33a717e9b1cf4</td>\n",
              "      <td>More pillows</td>\n",
              "      <td>Beautiful room Great location Lovely staff</td>\n",
              "      <td>10.0</td>\n",
              "    </tr>\n",
              "  </tbody>\n",
              "</table>\n",
              "</div>\n",
              "      <button class=\"colab-df-convert\" onclick=\"convertToInteractive('df-0bf69c34-24fd-4cca-9a5e-be8f7b5b59c7')\"\n",
              "              title=\"Convert this dataframe to an interactive table.\"\n",
              "              style=\"display:none;\">\n",
              "        \n",
              "  <svg xmlns=\"http://www.w3.org/2000/svg\" height=\"24px\"viewBox=\"0 0 24 24\"\n",
              "       width=\"24px\">\n",
              "    <path d=\"M0 0h24v24H0V0z\" fill=\"none\"/>\n",
              "    <path d=\"M18.56 5.44l.94 2.06.94-2.06 2.06-.94-2.06-.94-.94-2.06-.94 2.06-2.06.94zm-11 1L8.5 8.5l.94-2.06 2.06-.94-2.06-.94L8.5 2.5l-.94 2.06-2.06.94zm10 10l.94 2.06.94-2.06 2.06-.94-2.06-.94-.94-2.06-.94 2.06-2.06.94z\"/><path d=\"M17.41 7.96l-1.37-1.37c-.4-.4-.92-.59-1.43-.59-.52 0-1.04.2-1.43.59L10.3 9.45l-7.72 7.72c-.78.78-.78 2.05 0 2.83L4 21.41c.39.39.9.59 1.41.59.51 0 1.02-.2 1.41-.59l7.78-7.78 2.81-2.81c.8-.78.8-2.07 0-2.86zM5.41 20L4 18.59l7.72-7.72 1.47 1.35L5.41 20z\"/>\n",
              "  </svg>\n",
              "      </button>\n",
              "      \n",
              "  <style>\n",
              "    .colab-df-container {\n",
              "      display:flex;\n",
              "      flex-wrap:wrap;\n",
              "      gap: 12px;\n",
              "    }\n",
              "\n",
              "    .colab-df-convert {\n",
              "      background-color: #E8F0FE;\n",
              "      border: none;\n",
              "      border-radius: 50%;\n",
              "      cursor: pointer;\n",
              "      display: none;\n",
              "      fill: #1967D2;\n",
              "      height: 32px;\n",
              "      padding: 0 0 0 0;\n",
              "      width: 32px;\n",
              "    }\n",
              "\n",
              "    .colab-df-convert:hover {\n",
              "      background-color: #E2EBFA;\n",
              "      box-shadow: 0px 1px 2px rgba(60, 64, 67, 0.3), 0px 1px 3px 1px rgba(60, 64, 67, 0.15);\n",
              "      fill: #174EA6;\n",
              "    }\n",
              "\n",
              "    [theme=dark] .colab-df-convert {\n",
              "      background-color: #3B4455;\n",
              "      fill: #D2E3FC;\n",
              "    }\n",
              "\n",
              "    [theme=dark] .colab-df-convert:hover {\n",
              "      background-color: #434B5C;\n",
              "      box-shadow: 0px 1px 3px 1px rgba(0, 0, 0, 0.15);\n",
              "      filter: drop-shadow(0px 1px 2px rgba(0, 0, 0, 0.3));\n",
              "      fill: #FFFFFF;\n",
              "    }\n",
              "  </style>\n",
              "\n",
              "      <script>\n",
              "        const buttonEl =\n",
              "          document.querySelector('#df-0bf69c34-24fd-4cca-9a5e-be8f7b5b59c7 button.colab-df-convert');\n",
              "        buttonEl.style.display =\n",
              "          google.colab.kernel.accessAllowed ? 'block' : 'none';\n",
              "\n",
              "        async function convertToInteractive(key) {\n",
              "          const element = document.querySelector('#df-0bf69c34-24fd-4cca-9a5e-be8f7b5b59c7');\n",
              "          const dataTable =\n",
              "            await google.colab.kernel.invokeFunction('convertToInteractive',\n",
              "                                                     [key], {});\n",
              "          if (!dataTable) return;\n",
              "\n",
              "          const docLinkHtml = 'Like what you see? Visit the ' +\n",
              "            '<a target=\"_blank\" href=https://colab.research.google.com/notebooks/data_table.ipynb>data table notebook</a>'\n",
              "            + ' to learn more about interactive tables.';\n",
              "          element.innerHTML = '';\n",
              "          dataTable['output_type'] = 'display_data';\n",
              "          await google.colab.output.renderOutput(dataTable, element);\n",
              "          const docLink = document.createElement('div');\n",
              "          docLink.innerHTML = docLinkHtml;\n",
              "          element.appendChild(docLink);\n",
              "        }\n",
              "      </script>\n",
              "    </div>\n",
              "  </div>\n",
              "  "
            ]
          },
          "metadata": {},
          "execution_count": 56
        }
      ]
    },
    {
      "cell_type": "code",
      "source": [
        "noise = stopwords.words('english') + list(punctuation) + list('1234567890')\n",
        "#noise = list(punctuation) + list('1234567890')\n",
        "\n",
        "def process_text(text):\n",
        "    lst =  [word for word in word_tokenize(text.lower()) if (word not in noise)]\n",
        "    return lst\n",
        "\n",
        "df_rnn['positive'] = df_rnn['positive'].apply(process_text)\n",
        "df_rnn['negative'] = df_rnn['negative'].apply(process_text)\n",
        "df_rnn.head()"
      ],
      "metadata": {
        "id": "H5bIN1XN8eR_",
        "execution": {
          "iopub.status.busy": "2021-12-20T21:27:21.011928Z",
          "iopub.execute_input": "2021-12-20T21:27:21.012181Z",
          "iopub.status.idle": "2021-12-20T21:27:43.552374Z",
          "shell.execute_reply.started": "2021-12-20T21:27:21.012146Z",
          "shell.execute_reply": "2021-12-20T21:27:43.551670Z"
        },
        "trusted": true,
        "colab": {
          "base_uri": "https://localhost:8080/",
          "height": 285
        },
        "outputId": "2a68d36e-7c5c-4ebc-d9d5-0ca12d9ff6c2"
      },
      "execution_count": 57,
      "outputs": [
        {
          "output_type": "execute_result",
          "data": {
            "text/plain": [
              "                          review_id  \\\n",
              "0  00003c6036f30f590c0ac435efb8739b   \n",
              "1  00004d18f186bf2489590dc415876f73   \n",
              "2  0000cf900cbb8667fad33a717e9b1cf4   \n",
              "3  0000df16edf19e7ad9dd8c5cd6f6925e   \n",
              "4  00025e1aa3ac32edb496db49e76bbd00   \n",
              "\n",
              "                                            negative  \\\n",
              "0                         [issues, wifi, connection]   \n",
              "1                                      [tv, working]   \n",
              "2                                          [pillows]   \n",
              "3                                         [business]   \n",
              "4  [rooms, could, bit, refurbishment, could, corr...   \n",
              "\n",
              "                                            positive  score  \n",
              "0                                         [positive]    7.1  \n",
              "1                                         [positive]    7.5  \n",
              "2  [beautiful, room, great, location, lovely, staff]   10.0  \n",
              "3                                         [location]    5.4  \n",
              "4  [nice, breakfast, handy, victoria, train, stat...    6.7  "
            ],
            "text/html": [
              "\n",
              "  <div id=\"df-1ece6330-bac0-42a0-8024-6cd6f755a0c1\">\n",
              "    <div class=\"colab-df-container\">\n",
              "      <div>\n",
              "<style scoped>\n",
              "    .dataframe tbody tr th:only-of-type {\n",
              "        vertical-align: middle;\n",
              "    }\n",
              "\n",
              "    .dataframe tbody tr th {\n",
              "        vertical-align: top;\n",
              "    }\n",
              "\n",
              "    .dataframe thead th {\n",
              "        text-align: right;\n",
              "    }\n",
              "</style>\n",
              "<table border=\"1\" class=\"dataframe\">\n",
              "  <thead>\n",
              "    <tr style=\"text-align: right;\">\n",
              "      <th></th>\n",
              "      <th>review_id</th>\n",
              "      <th>negative</th>\n",
              "      <th>positive</th>\n",
              "      <th>score</th>\n",
              "    </tr>\n",
              "  </thead>\n",
              "  <tbody>\n",
              "    <tr>\n",
              "      <th>0</th>\n",
              "      <td>00003c6036f30f590c0ac435efb8739b</td>\n",
              "      <td>[issues, wifi, connection]</td>\n",
              "      <td>[positive]</td>\n",
              "      <td>7.1</td>\n",
              "    </tr>\n",
              "    <tr>\n",
              "      <th>1</th>\n",
              "      <td>00004d18f186bf2489590dc415876f73</td>\n",
              "      <td>[tv, working]</td>\n",
              "      <td>[positive]</td>\n",
              "      <td>7.5</td>\n",
              "    </tr>\n",
              "    <tr>\n",
              "      <th>2</th>\n",
              "      <td>0000cf900cbb8667fad33a717e9b1cf4</td>\n",
              "      <td>[pillows]</td>\n",
              "      <td>[beautiful, room, great, location, lovely, staff]</td>\n",
              "      <td>10.0</td>\n",
              "    </tr>\n",
              "    <tr>\n",
              "      <th>3</th>\n",
              "      <td>0000df16edf19e7ad9dd8c5cd6f6925e</td>\n",
              "      <td>[business]</td>\n",
              "      <td>[location]</td>\n",
              "      <td>5.4</td>\n",
              "    </tr>\n",
              "    <tr>\n",
              "      <th>4</th>\n",
              "      <td>00025e1aa3ac32edb496db49e76bbd00</td>\n",
              "      <td>[rooms, could, bit, refurbishment, could, corr...</td>\n",
              "      <td>[nice, breakfast, handy, victoria, train, stat...</td>\n",
              "      <td>6.7</td>\n",
              "    </tr>\n",
              "  </tbody>\n",
              "</table>\n",
              "</div>\n",
              "      <button class=\"colab-df-convert\" onclick=\"convertToInteractive('df-1ece6330-bac0-42a0-8024-6cd6f755a0c1')\"\n",
              "              title=\"Convert this dataframe to an interactive table.\"\n",
              "              style=\"display:none;\">\n",
              "        \n",
              "  <svg xmlns=\"http://www.w3.org/2000/svg\" height=\"24px\"viewBox=\"0 0 24 24\"\n",
              "       width=\"24px\">\n",
              "    <path d=\"M0 0h24v24H0V0z\" fill=\"none\"/>\n",
              "    <path d=\"M18.56 5.44l.94 2.06.94-2.06 2.06-.94-2.06-.94-.94-2.06-.94 2.06-2.06.94zm-11 1L8.5 8.5l.94-2.06 2.06-.94-2.06-.94L8.5 2.5l-.94 2.06-2.06.94zm10 10l.94 2.06.94-2.06 2.06-.94-2.06-.94-.94-2.06-.94 2.06-2.06.94z\"/><path d=\"M17.41 7.96l-1.37-1.37c-.4-.4-.92-.59-1.43-.59-.52 0-1.04.2-1.43.59L10.3 9.45l-7.72 7.72c-.78.78-.78 2.05 0 2.83L4 21.41c.39.39.9.59 1.41.59.51 0 1.02-.2 1.41-.59l7.78-7.78 2.81-2.81c.8-.78.8-2.07 0-2.86zM5.41 20L4 18.59l7.72-7.72 1.47 1.35L5.41 20z\"/>\n",
              "  </svg>\n",
              "      </button>\n",
              "      \n",
              "  <style>\n",
              "    .colab-df-container {\n",
              "      display:flex;\n",
              "      flex-wrap:wrap;\n",
              "      gap: 12px;\n",
              "    }\n",
              "\n",
              "    .colab-df-convert {\n",
              "      background-color: #E8F0FE;\n",
              "      border: none;\n",
              "      border-radius: 50%;\n",
              "      cursor: pointer;\n",
              "      display: none;\n",
              "      fill: #1967D2;\n",
              "      height: 32px;\n",
              "      padding: 0 0 0 0;\n",
              "      width: 32px;\n",
              "    }\n",
              "\n",
              "    .colab-df-convert:hover {\n",
              "      background-color: #E2EBFA;\n",
              "      box-shadow: 0px 1px 2px rgba(60, 64, 67, 0.3), 0px 1px 3px 1px rgba(60, 64, 67, 0.15);\n",
              "      fill: #174EA6;\n",
              "    }\n",
              "\n",
              "    [theme=dark] .colab-df-convert {\n",
              "      background-color: #3B4455;\n",
              "      fill: #D2E3FC;\n",
              "    }\n",
              "\n",
              "    [theme=dark] .colab-df-convert:hover {\n",
              "      background-color: #434B5C;\n",
              "      box-shadow: 0px 1px 3px 1px rgba(0, 0, 0, 0.15);\n",
              "      filter: drop-shadow(0px 1px 2px rgba(0, 0, 0, 0.3));\n",
              "      fill: #FFFFFF;\n",
              "    }\n",
              "  </style>\n",
              "\n",
              "      <script>\n",
              "        const buttonEl =\n",
              "          document.querySelector('#df-1ece6330-bac0-42a0-8024-6cd6f755a0c1 button.colab-df-convert');\n",
              "        buttonEl.style.display =\n",
              "          google.colab.kernel.accessAllowed ? 'block' : 'none';\n",
              "\n",
              "        async function convertToInteractive(key) {\n",
              "          const element = document.querySelector('#df-1ece6330-bac0-42a0-8024-6cd6f755a0c1');\n",
              "          const dataTable =\n",
              "            await google.colab.kernel.invokeFunction('convertToInteractive',\n",
              "                                                     [key], {});\n",
              "          if (!dataTable) return;\n",
              "\n",
              "          const docLinkHtml = 'Like what you see? Visit the ' +\n",
              "            '<a target=\"_blank\" href=https://colab.research.google.com/notebooks/data_table.ipynb>data table notebook</a>'\n",
              "            + ' to learn more about interactive tables.';\n",
              "          element.innerHTML = '';\n",
              "          dataTable['output_type'] = 'display_data';\n",
              "          await google.colab.output.renderOutput(dataTable, element);\n",
              "          const docLink = document.createElement('div');\n",
              "          docLink.innerHTML = docLinkHtml;\n",
              "          element.appendChild(docLink);\n",
              "        }\n",
              "      </script>\n",
              "    </div>\n",
              "  </div>\n",
              "  "
            ]
          },
          "metadata": {},
          "execution_count": 57
        }
      ]
    },
    {
      "cell_type": "code",
      "source": [
        "WORDS = set()\n",
        "for sent in list(df_rnn['positive']):\n",
        "    for w in sent:\n",
        "        WORDS.add(w)\n",
        "        \n",
        "for sent in list(df_rnn['negative']):\n",
        "    for w in sent:\n",
        "        WORDS.add(w)"
      ],
      "metadata": {
        "id": "dPOjSwwwXHaU",
        "execution": {
          "iopub.status.busy": "2021-12-20T21:27:43.554406Z",
          "iopub.execute_input": "2021-12-20T21:27:43.554671Z",
          "iopub.status.idle": "2021-12-20T21:27:43.756842Z",
          "shell.execute_reply.started": "2021-12-20T21:27:43.554636Z",
          "shell.execute_reply": "2021-12-20T21:27:43.755956Z"
        },
        "trusted": true
      },
      "execution_count": 58,
      "outputs": []
    },
    {
      "cell_type": "code",
      "source": [
        "int2word = dict(enumerate(tuple(WORDS)))\n",
        "word2int = {w: ii for ii, w in int2word.items()}"
      ],
      "metadata": {
        "id": "EMQ-cVxGXHaU",
        "execution": {
          "iopub.status.busy": "2021-12-20T21:27:43.758139Z",
          "iopub.execute_input": "2021-12-20T21:27:43.758393Z",
          "iopub.status.idle": "2021-12-20T21:27:43.775928Z",
          "shell.execute_reply.started": "2021-12-20T21:27:43.758360Z",
          "shell.execute_reply": "2021-12-20T21:27:43.775241Z"
        },
        "trusted": true
      },
      "execution_count": 59,
      "outputs": []
    },
    {
      "cell_type": "code",
      "source": [
        "len(WORDS)"
      ],
      "metadata": {
        "id": "56FbMnfv8eSA",
        "execution": {
          "iopub.status.busy": "2021-12-20T21:27:43.777394Z",
          "iopub.execute_input": "2021-12-20T21:27:43.777768Z",
          "iopub.status.idle": "2021-12-20T21:27:43.786135Z",
          "shell.execute_reply.started": "2021-12-20T21:27:43.777729Z",
          "shell.execute_reply": "2021-12-20T21:27:43.785417Z"
        },
        "trusted": true,
        "colab": {
          "base_uri": "https://localhost:8080/",
          "height": 0
        },
        "outputId": "827603ca-612d-4d8e-e333-1cc3d52508b5"
      },
      "execution_count": 60,
      "outputs": [
        {
          "output_type": "execute_result",
          "data": {
            "text/plain": [
              "24544"
            ]
          },
          "metadata": {},
          "execution_count": 60
        }
      ]
    },
    {
      "cell_type": "code",
      "source": [
        "MAX_LEN = max(max(df_rnn['positive'].apply(len)), max(df_rnn['negative'].apply(len)))"
      ],
      "metadata": {
        "id": "GiKyqKIWXHaU",
        "execution": {
          "iopub.status.busy": "2021-12-20T21:27:43.787139Z",
          "iopub.execute_input": "2021-12-20T21:27:43.787746Z",
          "iopub.status.idle": "2021-12-20T21:27:43.847003Z",
          "shell.execute_reply.started": "2021-12-20T21:27:43.787706Z",
          "shell.execute_reply": "2021-12-20T21:27:43.846263Z"
        },
        "trusted": true
      },
      "execution_count": 61,
      "outputs": []
    },
    {
      "cell_type": "code",
      "source": [
        "device = 'cuda:0'\n",
        "\n",
        "MAX_LEN"
      ],
      "metadata": {
        "id": "81o6S3_AXHaU",
        "execution": {
          "iopub.status.busy": "2021-12-20T21:27:43.848396Z",
          "iopub.execute_input": "2021-12-20T21:27:43.848651Z",
          "iopub.status.idle": "2021-12-20T21:27:43.855093Z",
          "shell.execute_reply.started": "2021-12-20T21:27:43.848617Z",
          "shell.execute_reply": "2021-12-20T21:27:43.854322Z"
        },
        "trusted": true,
        "colab": {
          "base_uri": "https://localhost:8080/",
          "height": 0
        },
        "outputId": "ed96cd7f-5929-4d1c-b605-c9e5f7730a39"
      },
      "execution_count": 62,
      "outputs": [
        {
          "output_type": "execute_result",
          "data": {
            "text/plain": [
              "210"
            ]
          },
          "metadata": {},
          "execution_count": 62
        }
      ]
    },
    {
      "cell_type": "code",
      "source": [
        "from torch.nn.utils.rnn import pad_sequence\n",
        "\n",
        "df_train, df_test = train_test_split(df_rnn, test_size=0.2, random_state=1412) # <- для локального тестирования\n",
        "\n",
        "\n",
        "train_pos_pad = pad_sequence([torch.as_tensor([word2int[w] for w in seq][:int(MAX_LEN - 0.15* MAX_LEN)]) for seq in df_train['positive']], \n",
        "                           batch_first=True)\n",
        "train_neg_pad = pad_sequence([torch.as_tensor([word2int[w] for w in seq][:int(MAX_LEN - 0.15* MAX_LEN)]) for seq in df_train['negative']], \n",
        "                           batch_first=True)"
      ],
      "metadata": {
        "id": "PQI2EGzbXHaV",
        "execution": {
          "iopub.status.busy": "2021-12-20T21:27:43.857780Z",
          "iopub.execute_input": "2021-12-20T21:27:43.858324Z",
          "iopub.status.idle": "2021-12-20T21:27:44.886829Z",
          "shell.execute_reply.started": "2021-12-20T21:27:43.858286Z",
          "shell.execute_reply": "2021-12-20T21:27:44.886026Z"
        },
        "trusted": true
      },
      "execution_count": 63,
      "outputs": []
    },
    {
      "cell_type": "code",
      "source": [
        "train_pad = torch.cat([train_pos_pad,train_neg_pad ], 1)"
      ],
      "metadata": {
        "id": "IIsc49cj8eSB",
        "execution": {
          "iopub.status.busy": "2021-12-20T21:27:44.888124Z",
          "iopub.execute_input": "2021-12-20T21:27:44.888415Z",
          "iopub.status.idle": "2021-12-20T21:27:44.972216Z",
          "shell.execute_reply.started": "2021-12-20T21:27:44.888378Z",
          "shell.execute_reply": "2021-12-20T21:27:44.971438Z"
        },
        "trusted": true
      },
      "execution_count": 64,
      "outputs": []
    },
    {
      "cell_type": "code",
      "source": [
        "class ReviewsDataset(torch.utils.data.Dataset):\n",
        "    def __init__(self, X, y):\n",
        "        try:\n",
        "            self.X = X.numpy()\n",
        "            self.y = y.to_numpy()\n",
        "        except:\n",
        "            self.X = X.numpy()\n",
        "            self.y = y\n",
        "        \n",
        "    def __len__(self):\n",
        "        return len(self.y)\n",
        "    \n",
        "    def __getitem__(self, idx):\n",
        "        return self.X[idx], self.y[idx]\n",
        "\n",
        "def set_random_seed(seed):\n",
        "    torch.backends.cudnn.deterministic = True\n",
        "    torch.manual_seed(seed)\n",
        "    torch.cuda.manual_seed(seed)\n",
        "    np.random.seed(seed)\n",
        "    random.seed(seed)\n",
        "\n",
        "set_random_seed(752979) "
      ],
      "metadata": {
        "id": "76PDJ4yTXHaV",
        "execution": {
          "iopub.status.busy": "2021-12-20T21:39:40.194996Z",
          "iopub.execute_input": "2021-12-20T21:39:40.195643Z",
          "iopub.status.idle": "2021-12-20T21:39:40.202839Z",
          "shell.execute_reply.started": "2021-12-20T21:39:40.195602Z",
          "shell.execute_reply": "2021-12-20T21:39:40.202156Z"
        },
        "trusted": true
      },
      "execution_count": 65,
      "outputs": []
    },
    {
      "cell_type": "code",
      "source": [
        "BATCH_SIZE = 170\n",
        "\n",
        "features_train, features_test, y_train, y_test = train_test_split(train_pad, df_train['score'],\n",
        "                                                                 test_size=0.2, random_state=1312125)\n",
        "\n",
        "train_dataset = ReviewsDataset(features_train, y_train)\n",
        "test_dataset = ReviewsDataset(features_test, y_test)\n",
        "\n",
        "train_dataloader = torch.utils.data.DataLoader(train_dataset, batch_size=BATCH_SIZE)\n",
        "test_dataloader = torch.utils.data.DataLoader(test_dataset, batch_size=BATCH_SIZE, shuffle=False)"
      ],
      "metadata": {
        "id": "m8jxX9B2XHaV",
        "execution": {
          "iopub.status.busy": "2021-12-20T21:27:44.983241Z",
          "iopub.execute_input": "2021-12-20T21:27:44.983646Z",
          "iopub.status.idle": "2021-12-20T21:27:45.079664Z",
          "shell.execute_reply.started": "2021-12-20T21:27:44.983607Z",
          "shell.execute_reply": "2021-12-20T21:27:45.078875Z"
        },
        "trusted": true
      },
      "execution_count": 66,
      "outputs": []
    },
    {
      "cell_type": "code",
      "source": [
        "class LSTMRegressor(nn.Module):\n",
        "    def __init__(self, hidden_dim, label_size, num_emb = len(WORDS), embedding_dim=600, bidirectional = True):\n",
        "        super(LSTMRegressor, self).__init__()\n",
        "        \n",
        "        self.emb = nn.Embedding(num_emb, embedding_dim)\n",
        "        self.lstm = nn.LSTM(embedding_dim, hidden_dim,\n",
        "                            bidirectional = bidirectional,batch_first=True)\n",
        "        if bidirectional:\n",
        "            self.layers = nn.Sequential(\n",
        "            nn.Linear(hidden_dim*2, 200),\n",
        "            nn.Dropout(p=0.2),\n",
        "                nn.LeakyReLU(),\n",
        "\n",
        "    \n",
        "           \n",
        "            nn.Linear(200, label_size)\n",
        "            )\n",
        "        else:\n",
        "            self.fc = nn.Linear(hidden_dim, label_size)\n",
        "        self.act1 = nn.ReLU()\n",
        " \n",
        "    def forward(self, x):\n",
        "        embeds = self.emb(x)\n",
        " \n",
        "        packed_outputs, (hidden,cell) = self.lstm(embeds)\n",
        "        hidden = torch.cat((hidden[-2,:,:], hidden[-1,:,:]), dim = 1)\n",
        "         \n",
        "        output = self.layers(hidden)\n",
        "        return output.squeeze()"
      ],
      "metadata": {
        "id": "nurXruO18eSC",
        "execution": {
          "iopub.status.busy": "2021-12-20T21:27:45.081018Z",
          "iopub.execute_input": "2021-12-20T21:27:45.081260Z",
          "iopub.status.idle": "2021-12-20T21:27:45.090344Z",
          "shell.execute_reply.started": "2021-12-20T21:27:45.081228Z",
          "shell.execute_reply": "2021-12-20T21:27:45.089414Z"
        },
        "trusted": true
      },
      "execution_count": 68,
      "outputs": []
    },
    {
      "cell_type": "code",
      "source": [
        "def train_epoch(\n",
        "    model,\n",
        "    data_loader,\n",
        "    optimizer,\n",
        "    criterion,\n",
        "    return_losses=False,\n",
        "    device=\"cuda:0\",\n",
        "):\n",
        "    model = model.to(device).train()\n",
        "    total_loss = 0\n",
        "    num_batches = 0\n",
        "    all_losses = []\n",
        "    total_predictions = np.array([])#.reshape((0, ))\n",
        "    total_labels = np.array([])#.reshape((0, ))\n",
        "    for item in data_loader:\n",
        "        images = item[0]\n",
        "        labels = item[1]\n",
        "\n",
        "        # Move Batch to GPU\n",
        "        images = images.to(device)\n",
        "        labels = labels.to(device)\n",
        "        predicted = model(images.long())\n",
        "        predicted[predicted > 10] = 10\n",
        "        predicted[predicted < 0] = 0\n",
        "        loss = criterion(predicted.float(), labels)\n",
        "        # Update weights\n",
        "        loss.backward()\n",
        "        optimizer.step()\n",
        "        optimizer.zero_grad()\n",
        "        # Update descirption for tqdm\n",
        "        total_loss += loss.item()\n",
        "        num_batches += 1\n",
        "        all_losses.append(loss.detach().item())\n",
        "    metrics = {\"loss\": total_loss / num_batches}\n",
        "    return model\n",
        "\n",
        "\n",
        "def validate(model, data_loader, criterion, device=\"cuda:0\"):\n",
        "    model = model.eval()\n",
        "    total_loss = 0\n",
        "    num_batches = 0\n",
        "    predicts = np.array([])\n",
        "    total_predictions = np.array([])\n",
        "    total_labels = np.array([])\n",
        "    for images, labels in data_loader:\n",
        "        images = images.to(device)\n",
        "        labels = labels.to(device)\n",
        "        predicted = model(images.long())\n",
        "        predicted[predicted > 10] = 10\n",
        "        predicted[predicted < 0] = 0\n",
        "        loss = criterion(predicted.float(), labels)\n",
        "        predicts = np.append(predicts, predicted.cpu().detach().numpy())\n",
        "        total_loss += loss.item()\n",
        "        num_batches += 1\n",
        "    metrics = {\"loss\": total_loss / num_batches, 'answers': predicts}\n",
        "    return metrics"
      ],
      "metadata": {
        "id": "dCX3X4tP8eSD",
        "execution": {
          "iopub.status.busy": "2021-12-20T21:27:45.091972Z",
          "iopub.execute_input": "2021-12-20T21:27:45.092782Z",
          "iopub.status.idle": "2021-12-20T21:27:45.105867Z",
          "shell.execute_reply.started": "2021-12-20T21:27:45.092742Z",
          "shell.execute_reply": "2021-12-20T21:27:45.104998Z"
        },
        "trusted": true
      },
      "execution_count": 69,
      "outputs": []
    },
    {
      "cell_type": "code",
      "source": [
        "model = LSTMRegressor(hidden_dim=120, label_size=1)\n",
        "\n",
        "optimizer = torch.optim.Adam(model.parameters(), lr = 0.0001)\n",
        "scheduler = torch.optim.lr_scheduler.MultiplicativeLR(optimizer, lr_lambda = lambda epoch: 0.95) \n",
        "loss_function = nn.L1Loss()"
      ],
      "metadata": {
        "id": "95JMe_m98eSD",
        "execution": {
          "iopub.status.busy": "2021-12-20T21:27:45.106803Z",
          "iopub.execute_input": "2021-12-20T21:27:45.108753Z",
          "iopub.status.idle": "2021-12-20T21:27:45.256625Z",
          "shell.execute_reply.started": "2021-12-20T21:27:45.108719Z",
          "shell.execute_reply": "2021-12-20T21:27:45.255874Z"
        },
        "trusted": true
      },
      "execution_count": 70,
      "outputs": []
    },
    {
      "cell_type": "code",
      "source": [
        "NUM_EPOCHS = 14\n",
        "\n",
        "def train_epochs(model,\n",
        "    data_loader_train,\n",
        "    data_loader_test,\n",
        "    optimizer,\n",
        "    criterion,scheduler,\n",
        "    return_losses=False,\n",
        "    device=\"cuda:0\", epochs = NUM_EPOCHS):\n",
        "    for jj in tqdm(range(NUM_EPOCHS)):\n",
        "        model = train_epoch(model, data_loader_train, optimizer, criterion, return_losses=False, device=\"cuda:0\")\n",
        "\n",
        "        metrics = validate(model, data_loader_test, criterion)\n",
        "        print('On epoch {} MAE = {:.4f}'.format(jj + 1,metrics['loss']))\n",
        "        scheduler.step()\n",
        "    \n",
        "    return model\n",
        "      \n",
        "model = train_epochs(model, train_dataloader, test_dataloader, optimizer, loss_function, scheduler)\n",
        "print()"
      ],
      "metadata": {
        "id": "0f6EmAuJXHaV",
        "execution": {
          "iopub.status.busy": "2021-12-20T21:27:45.258224Z",
          "iopub.execute_input": "2021-12-20T21:27:45.258490Z",
          "iopub.status.idle": "2021-12-20T21:37:10.890292Z",
          "shell.execute_reply.started": "2021-12-20T21:27:45.258454Z",
          "shell.execute_reply": "2021-12-20T21:37:10.888773Z"
        },
        "trusted": true,
        "colab": {
          "base_uri": "https://localhost:8080/",
          "height": 0
        },
        "outputId": "ad4e1842-7dad-4617-d682-85278adbd9fa"
      },
      "execution_count": 71,
      "outputs": [
        {
          "output_type": "stream",
          "name": "stderr",
          "text": [
            "  7%|▋         | 1/14 [01:00<13:02, 60.20s/it]"
          ]
        },
        {
          "output_type": "stream",
          "name": "stdout",
          "text": [
            "On epoch 1 MAE = 1.1547\n"
          ]
        },
        {
          "output_type": "stream",
          "name": "stderr",
          "text": [
            "\r 14%|█▍        | 2/14 [01:51<11:02, 55.18s/it]"
          ]
        },
        {
          "output_type": "stream",
          "name": "stdout",
          "text": [
            "On epoch 2 MAE = 1.0570\n"
          ]
        },
        {
          "output_type": "stream",
          "name": "stderr",
          "text": [
            "\r 21%|██▏       | 3/14 [02:43<09:49, 53.55s/it]"
          ]
        },
        {
          "output_type": "stream",
          "name": "stdout",
          "text": [
            "On epoch 3 MAE = 0.9999\n"
          ]
        },
        {
          "output_type": "stream",
          "name": "stderr",
          "text": [
            "\r 29%|██▊       | 4/14 [03:35<08:47, 52.75s/it]"
          ]
        },
        {
          "output_type": "stream",
          "name": "stdout",
          "text": [
            "On epoch 4 MAE = 0.9446\n"
          ]
        },
        {
          "output_type": "stream",
          "name": "stderr",
          "text": [
            "\r 36%|███▌      | 5/14 [04:26<07:50, 52.27s/it]"
          ]
        },
        {
          "output_type": "stream",
          "name": "stdout",
          "text": [
            "On epoch 5 MAE = 0.8947\n"
          ]
        },
        {
          "output_type": "stream",
          "name": "stderr",
          "text": [
            "\r 43%|████▎     | 6/14 [05:17<06:55, 51.99s/it]"
          ]
        },
        {
          "output_type": "stream",
          "name": "stdout",
          "text": [
            "On epoch 6 MAE = 0.8721\n"
          ]
        },
        {
          "output_type": "stream",
          "name": "stderr",
          "text": [
            "\r 50%|█████     | 7/14 [06:09<06:02, 51.78s/it]"
          ]
        },
        {
          "output_type": "stream",
          "name": "stdout",
          "text": [
            "On epoch 7 MAE = 0.8648\n"
          ]
        },
        {
          "output_type": "stream",
          "name": "stderr",
          "text": [
            "\r 57%|█████▋    | 8/14 [07:00<05:09, 51.66s/it]"
          ]
        },
        {
          "output_type": "stream",
          "name": "stdout",
          "text": [
            "On epoch 8 MAE = 0.8584\n"
          ]
        },
        {
          "output_type": "stream",
          "name": "stderr",
          "text": [
            "\r 64%|██████▍   | 9/14 [07:52<04:17, 51.59s/it]"
          ]
        },
        {
          "output_type": "stream",
          "name": "stdout",
          "text": [
            "On epoch 9 MAE = 0.8576\n"
          ]
        },
        {
          "output_type": "stream",
          "name": "stderr",
          "text": [
            "\r 71%|███████▏  | 10/14 [08:43<03:26, 51.54s/it]"
          ]
        },
        {
          "output_type": "stream",
          "name": "stdout",
          "text": [
            "On epoch 10 MAE = 0.8577\n"
          ]
        },
        {
          "output_type": "stream",
          "name": "stderr",
          "text": [
            "\r 79%|███████▊  | 11/14 [09:34<02:34, 51.52s/it]"
          ]
        },
        {
          "output_type": "stream",
          "name": "stdout",
          "text": [
            "On epoch 11 MAE = 0.8584\n"
          ]
        },
        {
          "output_type": "stream",
          "name": "stderr",
          "text": [
            "\r 86%|████████▌ | 12/14 [10:26<01:42, 51.49s/it]"
          ]
        },
        {
          "output_type": "stream",
          "name": "stdout",
          "text": [
            "On epoch 12 MAE = 0.8560\n"
          ]
        },
        {
          "output_type": "stream",
          "name": "stderr",
          "text": [
            "\r 93%|█████████▎| 13/14 [11:17<00:51, 51.41s/it]"
          ]
        },
        {
          "output_type": "stream",
          "name": "stdout",
          "text": [
            "On epoch 13 MAE = 0.8638\n"
          ]
        },
        {
          "output_type": "stream",
          "name": "stderr",
          "text": [
            "100%|██████████| 14/14 [12:08<00:00, 52.07s/it]"
          ]
        },
        {
          "output_type": "stream",
          "name": "stdout",
          "text": [
            "On epoch 14 MAE = 0.8504\n",
            "\n"
          ]
        },
        {
          "output_type": "stream",
          "name": "stderr",
          "text": [
            "\n"
          ]
        }
      ]
    },
    {
      "cell_type": "markdown",
      "source": [
        "Итого, нейронная сеть дала нам лучшее  качество - 0.85!"
      ],
      "metadata": {
        "id": "hPn-FqvS_wiv"
      }
    },
    {
      "cell_type": "markdown",
      "source": [
        "### Контест (до 3 баллов)\n",
        "\n",
        "По итогам всех ваших экспериментов выберите модель, которую считаете лучшей. Сделайте сабмит в контест. В зависимости от вашего скора на публичном лидерборде, мы начислим вам баллы:\n",
        "\n",
        " - <0.77 - 3 балла\n",
        " - [0.77; 0.78) - 2 балла\n",
        " - [0.78; 0.8) - 1 балл"
      ],
      "metadata": {
        "id": "n3OeNQkoXHaW"
      }
    },
    {
      "cell_type": "markdown",
      "source": [
        "Тут я решил взять Градиентный бустинг на ворд2веке применить все это друг на друга. Удалось выбить 0.79 на внутреннем разбиении"
      ],
      "metadata": {
        "id": "jfORFaucXHaW"
      }
    },
    {
      "cell_type": "code",
      "source": [
        "def make_arrays_for_text_pos_idf(value):\n",
        "    out_array = np.zeros(emb_size) \n",
        "    for el in value:\n",
        "        try:\n",
        "            out_array += best_w_2_v_pos.wv[el] * pos_dict_idf[el]\n",
        "        except:\n",
        "            continue\n",
        "    return out_array\n",
        "# усредняем. Идею именно этой ячейки подсказал друг, но реализовал сам\n",
        "\n",
        "def make_arrays_for_text_neg_idf(value):\n",
        "    out_array = np.zeros(emb_size) \n",
        "    for el in value:\n",
        "        try:\n",
        "            out_array += best_w_2_v_neg.wv[el] * neg_dict_idf[el]\n",
        "        except:\n",
        "            continue\n",
        "    return out_array"
      ],
      "metadata": {
        "id": "diOvWj23Wqzy",
        "trusted": true
      },
      "execution_count": 72,
      "outputs": []
    },
    {
      "cell_type": "code",
      "source": [
        "df = df3.copy()\n",
        "df2 = df.copy()\n",
        "df2['positive_vector'] = df2['positive'].apply(make_arrays_for_text_pos_idf)\n",
        "df2['negative_vector'] = df2['negative'].apply(make_arrays_for_text_neg_idf)\n",
        "\n",
        "X_features = pd.DataFrame(np.hstack((np.array(list(df2.iloc[:, 4].values)), \n",
        "                                         np.array(list(df2.iloc[:, 5].values)))))\n",
        "\n",
        "X_features['score'] = df2['score']\n",
        "X_features = X_features.fillna(0)\n",
        "print(X_features.shape)\n",
        "train2, test2 = train_test_split(X_features, test_size=0.2, random_state = 1412)\n"
      ],
      "metadata": {
        "id": "0YAZ0CO68eSK",
        "trusted": true,
        "colab": {
          "base_uri": "https://localhost:8080/",
          "height": 0
        },
        "outputId": "8f75c8a8-443f-4175-8da9-59bbbaa8b655"
      },
      "execution_count": 73,
      "outputs": [
        {
          "output_type": "stream",
          "name": "stdout",
          "text": [
            "(50000, 1001)\n"
          ]
        }
      ]
    },
    {
      "cell_type": "code",
      "source": [
        "from catboost import CatBoostRegressor\n",
        "model_gb = CatBoostRegressor(iterations=1000,\n",
        "                          learning_rate=0.05,\n",
        "                          depth=7, random_state=200, silent=True, loss_function='MAE')"
      ],
      "metadata": {
        "id": "004nuqRp8eSL",
        "trusted": true
      },
      "execution_count": 75,
      "outputs": []
    },
    {
      "cell_type": "code",
      "source": [
        "%%time\n",
        "model_gb.fit(train2.drop('score', axis=1), train2['score'])\n",
        "mean_absolute_error(test2['score'], model_gb.predict(test2.drop('score', axis=1)))"
      ],
      "metadata": {
        "id": "b3eq8SvB8eSL",
        "trusted": true,
        "colab": {
          "base_uri": "https://localhost:8080/",
          "height": 0
        },
        "outputId": "72abdadd-635c-49df-af49-386bc5c0915d"
      },
      "execution_count": 76,
      "outputs": [
        {
          "output_type": "stream",
          "name": "stdout",
          "text": [
            "CPU times: user 20min 32s, sys: 5.11 s, total: 20min 37s\n",
            "Wall time: 11min 24s\n"
          ]
        }
      ]
    },
    {
      "cell_type": "code",
      "source": [
        "mean_absolute_error(test2['score'], model_gb.predict(test2.drop('score', axis=1)))"
      ],
      "metadata": {
        "colab": {
          "base_uri": "https://localhost:8080/",
          "height": 0
        },
        "id": "fniyVfJsPiD7",
        "outputId": "5e06ad6a-bb5c-4764-cddf-600cd0ef6530"
      },
      "execution_count": 77,
      "outputs": [
        {
          "output_type": "execute_result",
          "data": {
            "text/plain": [
              "0.7923591316258195"
            ]
          },
          "metadata": {},
          "execution_count": 77
        }
      ]
    },
    {
      "cell_type": "markdown",
      "source": [
        "Final score = `0.79`"
      ],
      "metadata": {
        "id": "hdfio9ZcM5tz"
      }
    },
    {
      "cell_type": "code",
      "source": [
        ""
      ],
      "metadata": {
        "id": "9W7Zfaxy8eSN"
      },
      "execution_count": null,
      "outputs": []
    }
  ]
}