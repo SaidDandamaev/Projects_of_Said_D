{
 "cells": [
  {
   "cell_type": "markdown",
   "metadata": {},
   "source": [
    "## Исследование надёжности заёмщиков\n",
    "\n",
    "Заказчик — кредитный отдел банка. Нужно разобраться, влияет ли семейное положение и количество детей клиента на факт погашения кредита в срок. Входные данные от банка — статистика о платёжеспособности клиентов.\n",
    "\n",
    "Результаты исследования будут учтены при построении модели **кредитного скоринга** — специальной системы, которая оценивает способность потенциального заёмщика вернуть кредит банку."
   ]
  },
  {
   "cell_type": "markdown",
   "metadata": {},
   "source": [
    "### Шаг 1. Откройте файл с данными и изучите общую информацию. "
   ]
  },
  {
   "cell_type": "code",
   "execution_count": 1,
   "metadata": {},
   "outputs": [
    {
     "name": "stdout",
     "output_type": "stream",
     "text": [
      "<class 'pandas.core.frame.DataFrame'>\n",
      "RangeIndex: 21525 entries, 0 to 21524\n",
      "Data columns (total 12 columns):\n",
      "children            21525 non-null int64\n",
      "days_employed       19351 non-null float64\n",
      "dob_years           21525 non-null int64\n",
      "education           21525 non-null object\n",
      "education_id        21525 non-null int64\n",
      "family_status       21525 non-null object\n",
      "family_status_id    21525 non-null int64\n",
      "gender              21525 non-null object\n",
      "income_type         21525 non-null object\n",
      "debt                21525 non-null int64\n",
      "total_income        19351 non-null float64\n",
      "purpose             21525 non-null object\n",
      "dtypes: float64(2), int64(5), object(5)\n",
      "memory usage: 2.0+ MB\n"
     ]
    }
   ],
   "source": [
    "import pandas as pd\n",
    "data = pd.read_csv('/datasets/data.csv')\n",
    "#data.head(30)\n",
    "data.info() #файл прочитан и выведена инфа о нем"
   ]
  },
  {
   "cell_type": "markdown",
   "metadata": {},
   "source": [
    "### Вывод"
   ]
  },
  {
   "cell_type": "markdown",
   "metadata": {},
   "source": [
    "Как видно из данных, некоторые значения в столбцах \"days_employed\" и \"total_income\" пропущены, что говорит о каких-либо ошибок при занесении или передачи данных. Также прослеживаются отрицательные значения в столбце days_employed, что также противоречит здравому смыслу"
   ]
  },
  {
   "cell_type": "markdown",
   "metadata": {},
   "source": [
    "### Шаг 2. Предобработка данных"
   ]
  },
  {
   "cell_type": "markdown",
   "metadata": {},
   "source": [
    "### Обработка пропусков"
   ]
  },
  {
   "cell_type": "code",
   "execution_count": 2,
   "metadata": {},
   "outputs": [
    {
     "data": {
      "text/html": [
       "<div>\n",
       "<style scoped>\n",
       "    .dataframe tbody tr th:only-of-type {\n",
       "        vertical-align: middle;\n",
       "    }\n",
       "\n",
       "    .dataframe tbody tr th {\n",
       "        vertical-align: top;\n",
       "    }\n",
       "\n",
       "    .dataframe thead th {\n",
       "        text-align: right;\n",
       "    }\n",
       "</style>\n",
       "<table border=\"1\" class=\"dataframe\">\n",
       "  <thead>\n",
       "    <tr style=\"text-align: right;\">\n",
       "      <th></th>\n",
       "      <th>children</th>\n",
       "      <th>days_employed</th>\n",
       "      <th>dob_years</th>\n",
       "      <th>education</th>\n",
       "      <th>education_id</th>\n",
       "      <th>family_status</th>\n",
       "      <th>family_status_id</th>\n",
       "      <th>gender</th>\n",
       "      <th>income_type</th>\n",
       "      <th>debt</th>\n",
       "      <th>total_income</th>\n",
       "      <th>purpose</th>\n",
       "    </tr>\n",
       "  </thead>\n",
       "  <tbody>\n",
       "    <tr>\n",
       "      <td>0</td>\n",
       "      <td>1</td>\n",
       "      <td>-8437.673028</td>\n",
       "      <td>42</td>\n",
       "      <td>высшее</td>\n",
       "      <td>0</td>\n",
       "      <td>женат / замужем</td>\n",
       "      <td>0</td>\n",
       "      <td>F</td>\n",
       "      <td>сотрудник</td>\n",
       "      <td>0</td>\n",
       "      <td>253875.639453</td>\n",
       "      <td>покупка жилья</td>\n",
       "    </tr>\n",
       "    <tr>\n",
       "      <td>1</td>\n",
       "      <td>1</td>\n",
       "      <td>-4024.803754</td>\n",
       "      <td>36</td>\n",
       "      <td>среднее</td>\n",
       "      <td>1</td>\n",
       "      <td>женат / замужем</td>\n",
       "      <td>0</td>\n",
       "      <td>F</td>\n",
       "      <td>сотрудник</td>\n",
       "      <td>0</td>\n",
       "      <td>112080.014102</td>\n",
       "      <td>приобретение автомобиля</td>\n",
       "    </tr>\n",
       "    <tr>\n",
       "      <td>2</td>\n",
       "      <td>0</td>\n",
       "      <td>-5623.422610</td>\n",
       "      <td>33</td>\n",
       "      <td>Среднее</td>\n",
       "      <td>1</td>\n",
       "      <td>женат / замужем</td>\n",
       "      <td>0</td>\n",
       "      <td>M</td>\n",
       "      <td>сотрудник</td>\n",
       "      <td>0</td>\n",
       "      <td>145885.952297</td>\n",
       "      <td>покупка жилья</td>\n",
       "    </tr>\n",
       "    <tr>\n",
       "      <td>3</td>\n",
       "      <td>3</td>\n",
       "      <td>-4124.747207</td>\n",
       "      <td>32</td>\n",
       "      <td>среднее</td>\n",
       "      <td>1</td>\n",
       "      <td>женат / замужем</td>\n",
       "      <td>0</td>\n",
       "      <td>M</td>\n",
       "      <td>сотрудник</td>\n",
       "      <td>0</td>\n",
       "      <td>267628.550329</td>\n",
       "      <td>дополнительное образование</td>\n",
       "    </tr>\n",
       "    <tr>\n",
       "      <td>4</td>\n",
       "      <td>0</td>\n",
       "      <td>340266.072047</td>\n",
       "      <td>53</td>\n",
       "      <td>среднее</td>\n",
       "      <td>1</td>\n",
       "      <td>гражданский брак</td>\n",
       "      <td>1</td>\n",
       "      <td>F</td>\n",
       "      <td>пенсионер</td>\n",
       "      <td>0</td>\n",
       "      <td>158616.077870</td>\n",
       "      <td>сыграть свадьбу</td>\n",
       "    </tr>\n",
       "  </tbody>\n",
       "</table>\n",
       "</div>"
      ],
      "text/plain": [
       "   children  days_employed  dob_years education  education_id  \\\n",
       "0         1   -8437.673028         42    высшее             0   \n",
       "1         1   -4024.803754         36   среднее             1   \n",
       "2         0   -5623.422610         33   Среднее             1   \n",
       "3         3   -4124.747207         32   среднее             1   \n",
       "4         0  340266.072047         53   среднее             1   \n",
       "\n",
       "      family_status  family_status_id gender income_type  debt   total_income  \\\n",
       "0   женат / замужем                 0      F   сотрудник     0  253875.639453   \n",
       "1   женат / замужем                 0      F   сотрудник     0  112080.014102   \n",
       "2   женат / замужем                 0      M   сотрудник     0  145885.952297   \n",
       "3   женат / замужем                 0      M   сотрудник     0  267628.550329   \n",
       "4  гражданский брак                 1      F   пенсионер     0  158616.077870   \n",
       "\n",
       "                      purpose  \n",
       "0               покупка жилья  \n",
       "1     приобретение автомобиля  \n",
       "2               покупка жилья  \n",
       "3  дополнительное образование  \n",
       "4             сыграть свадьбу  "
      ]
     },
     "execution_count": 2,
     "metadata": {},
     "output_type": "execute_result"
    }
   ],
   "source": [
    "import numpy as np\n",
    "w_avr = {}\n",
    "# создаю словарь с медианными значениями зарплат для каждой категории\n",
    "\n",
    "for i in data.income_type.value_counts().index:\n",
    "    sotrudnik_avr = data.loc[(data['income_type']== i), :].total_income.mean()\n",
    "    w_avr[i] = sotrudnik_avr\n",
    "    \n",
    "# с помощью функции и метода aplly заменяю пустые значения на медианные\n",
    "def fill_income(row):\n",
    "    key = row['income_type']\n",
    "    if pd.isnull(row['total_income']):\n",
    "        return w_avr[key]\n",
    "    else:\n",
    "        return row['total_income']\n",
    "data['total_income'] = data.apply(fill_income, axis=1)\n",
    "data.head()"
   ]
  },
  {
   "cell_type": "code",
   "execution_count": 3,
   "metadata": {},
   "outputs": [
    {
     "data": {
      "text/html": [
       "<div>\n",
       "<style scoped>\n",
       "    .dataframe tbody tr th:only-of-type {\n",
       "        vertical-align: middle;\n",
       "    }\n",
       "\n",
       "    .dataframe tbody tr th {\n",
       "        vertical-align: top;\n",
       "    }\n",
       "\n",
       "    .dataframe thead th {\n",
       "        text-align: right;\n",
       "    }\n",
       "</style>\n",
       "<table border=\"1\" class=\"dataframe\">\n",
       "  <thead>\n",
       "    <tr style=\"text-align: right;\">\n",
       "      <th></th>\n",
       "      <th>children</th>\n",
       "      <th>days_employed</th>\n",
       "      <th>dob_years</th>\n",
       "      <th>education</th>\n",
       "      <th>education_id</th>\n",
       "      <th>family_status</th>\n",
       "      <th>family_status_id</th>\n",
       "      <th>gender</th>\n",
       "      <th>income_type</th>\n",
       "      <th>debt</th>\n",
       "      <th>total_income</th>\n",
       "      <th>purpose</th>\n",
       "    </tr>\n",
       "  </thead>\n",
       "  <tbody>\n",
       "    <tr>\n",
       "      <td>0</td>\n",
       "      <td>1</td>\n",
       "      <td>8437.673028</td>\n",
       "      <td>42</td>\n",
       "      <td>высшее</td>\n",
       "      <td>0</td>\n",
       "      <td>женат / замужем</td>\n",
       "      <td>0</td>\n",
       "      <td>F</td>\n",
       "      <td>сотрудник</td>\n",
       "      <td>0</td>\n",
       "      <td>253875.639453</td>\n",
       "      <td>покупка жилья</td>\n",
       "    </tr>\n",
       "    <tr>\n",
       "      <td>1</td>\n",
       "      <td>1</td>\n",
       "      <td>4024.803754</td>\n",
       "      <td>36</td>\n",
       "      <td>среднее</td>\n",
       "      <td>1</td>\n",
       "      <td>женат / замужем</td>\n",
       "      <td>0</td>\n",
       "      <td>F</td>\n",
       "      <td>сотрудник</td>\n",
       "      <td>0</td>\n",
       "      <td>112080.014102</td>\n",
       "      <td>приобретение автомобиля</td>\n",
       "    </tr>\n",
       "    <tr>\n",
       "      <td>2</td>\n",
       "      <td>0</td>\n",
       "      <td>5623.422610</td>\n",
       "      <td>33</td>\n",
       "      <td>Среднее</td>\n",
       "      <td>1</td>\n",
       "      <td>женат / замужем</td>\n",
       "      <td>0</td>\n",
       "      <td>M</td>\n",
       "      <td>сотрудник</td>\n",
       "      <td>0</td>\n",
       "      <td>145885.952297</td>\n",
       "      <td>покупка жилья</td>\n",
       "    </tr>\n",
       "    <tr>\n",
       "      <td>3</td>\n",
       "      <td>3</td>\n",
       "      <td>4124.747207</td>\n",
       "      <td>32</td>\n",
       "      <td>среднее</td>\n",
       "      <td>1</td>\n",
       "      <td>женат / замужем</td>\n",
       "      <td>0</td>\n",
       "      <td>M</td>\n",
       "      <td>сотрудник</td>\n",
       "      <td>0</td>\n",
       "      <td>267628.550329</td>\n",
       "      <td>дополнительное образование</td>\n",
       "    </tr>\n",
       "    <tr>\n",
       "      <td>4</td>\n",
       "      <td>0</td>\n",
       "      <td>340266.072047</td>\n",
       "      <td>53</td>\n",
       "      <td>среднее</td>\n",
       "      <td>1</td>\n",
       "      <td>гражданский брак</td>\n",
       "      <td>1</td>\n",
       "      <td>F</td>\n",
       "      <td>пенсионер</td>\n",
       "      <td>0</td>\n",
       "      <td>158616.077870</td>\n",
       "      <td>сыграть свадьбу</td>\n",
       "    </tr>\n",
       "  </tbody>\n",
       "</table>\n",
       "</div>"
      ],
      "text/plain": [
       "   children  days_employed  dob_years education  education_id  \\\n",
       "0         1    8437.673028         42    высшее             0   \n",
       "1         1    4024.803754         36   среднее             1   \n",
       "2         0    5623.422610         33   Среднее             1   \n",
       "3         3    4124.747207         32   среднее             1   \n",
       "4         0  340266.072047         53   среднее             1   \n",
       "\n",
       "      family_status  family_status_id gender income_type  debt   total_income  \\\n",
       "0   женат / замужем                 0      F   сотрудник     0  253875.639453   \n",
       "1   женат / замужем                 0      F   сотрудник     0  112080.014102   \n",
       "2   женат / замужем                 0      M   сотрудник     0  145885.952297   \n",
       "3   женат / замужем                 0      M   сотрудник     0  267628.550329   \n",
       "4  гражданский брак                 1      F   пенсионер     0  158616.077870   \n",
       "\n",
       "                      purpose  \n",
       "0               покупка жилья  \n",
       "1     приобретение автомобиля  \n",
       "2               покупка жилья  \n",
       "3  дополнительное образование  \n",
       "4             сыграть свадьбу  "
      ]
     },
     "execution_count": 3,
     "metadata": {},
     "output_type": "execute_result"
    }
   ],
   "source": [
    "data.days_employed = data.days_employed.apply(abs)\n",
    "days_avr = {}\n",
    "# создаю словарь с медианными значениями стажа для каждой категории\n",
    "\n",
    "for i in data.income_type.value_counts().index:\n",
    "    days_med = data.loc[(data['income_type']== i), :].days_employed.mean()\n",
    "    days_avr[i] = days_med\n",
    "    \n",
    "# с помощью функции и метода aplly заменяю пустые значения на медианные\n",
    "def fill_days(row):\n",
    "    key = row['income_type']\n",
    "    if pd.isnull(row['days_employed']):\n",
    "        return days_avr[key]\n",
    "    else:\n",
    "        return row['days_employed']\n",
    "    \n",
    "data['days_employed'] = data.apply(fill_days, axis=1)\n",
    "data.head()"
   ]
  },
  {
   "cell_type": "code",
   "execution_count": 4,
   "metadata": {},
   "outputs": [
    {
     "name": "stdout",
     "output_type": "stream",
     "text": [
      "<class 'pandas.core.frame.DataFrame'>\n",
      "RangeIndex: 21525 entries, 0 to 21524\n",
      "Data columns (total 12 columns):\n",
      "children            21525 non-null int64\n",
      "days_employed       21525 non-null float64\n",
      "dob_years           21525 non-null int64\n",
      "education           21525 non-null object\n",
      "education_id        21525 non-null int64\n",
      "family_status       21525 non-null object\n",
      "family_status_id    21525 non-null int64\n",
      "gender              21525 non-null object\n",
      "income_type         21525 non-null object\n",
      "debt                21525 non-null int64\n",
      "total_income        21525 non-null float64\n",
      "purpose             21525 non-null object\n",
      "dtypes: float64(2), int64(5), object(5)\n",
      "memory usage: 2.0+ MB\n"
     ]
    }
   ],
   "source": [
    "data.info()"
   ]
  },
  {
   "cell_type": "markdown",
   "metadata": {},
   "source": [
    "<div class=\"alert alert-block alert-info\">Я теперь создал словари со средними значениями по каждой категории по столбцам 'total_income' и 'days_employed' и заполнил данные с помощью этих значений. Конечно, данных подход немного занижает средние цифры (ведь учитывались и пропущенные строки), но этим можно пренебречь ради времени и эффективности.</div>\n"
   ]
  },
  {
   "cell_type": "markdown",
   "metadata": {},
   "source": [
    "### Вывод"
   ]
  },
  {
   "cell_type": "markdown",
   "metadata": {},
   "source": [
    "<div class=\"alert alert-block alert-info\">Были обнаружены пустые значения в столбцах total_income и days_employed. Я взял за основу столбец 'income_type', и далее нашел медианные значения каждой категории для столюцов 'total_income' and 'days_employed'. Данной подход поможет нам заполнить пустые значения наиболее оптимальными средними значениями для именно той категории, где пропущеннно значение. Так мы сможем восстановить данные наиболее корректно. </div>"
   ]
  },
  {
   "cell_type": "markdown",
   "metadata": {},
   "source": [
    "### Замена типа данных"
   ]
  },
  {
   "cell_type": "code",
   "execution_count": 5,
   "metadata": {},
   "outputs": [
    {
     "data": {
      "text/html": [
       "<div>\n",
       "<style scoped>\n",
       "    .dataframe tbody tr th:only-of-type {\n",
       "        vertical-align: middle;\n",
       "    }\n",
       "\n",
       "    .dataframe tbody tr th {\n",
       "        vertical-align: top;\n",
       "    }\n",
       "\n",
       "    .dataframe thead th {\n",
       "        text-align: right;\n",
       "    }\n",
       "</style>\n",
       "<table border=\"1\" class=\"dataframe\">\n",
       "  <thead>\n",
       "    <tr style=\"text-align: right;\">\n",
       "      <th></th>\n",
       "      <th>children</th>\n",
       "      <th>days_employed</th>\n",
       "      <th>dob_years</th>\n",
       "      <th>education</th>\n",
       "      <th>education_id</th>\n",
       "      <th>family_status</th>\n",
       "      <th>family_status_id</th>\n",
       "      <th>gender</th>\n",
       "      <th>income_type</th>\n",
       "      <th>debt</th>\n",
       "      <th>total_income</th>\n",
       "      <th>purpose</th>\n",
       "    </tr>\n",
       "  </thead>\n",
       "  <tbody>\n",
       "    <tr>\n",
       "      <td>0</td>\n",
       "      <td>1</td>\n",
       "      <td>8438</td>\n",
       "      <td>42</td>\n",
       "      <td>высшее</td>\n",
       "      <td>0</td>\n",
       "      <td>женат / замужем</td>\n",
       "      <td>0</td>\n",
       "      <td>F</td>\n",
       "      <td>сотрудник</td>\n",
       "      <td>0</td>\n",
       "      <td>253876</td>\n",
       "      <td>покупка жилья</td>\n",
       "    </tr>\n",
       "    <tr>\n",
       "      <td>1</td>\n",
       "      <td>1</td>\n",
       "      <td>4025</td>\n",
       "      <td>36</td>\n",
       "      <td>среднее</td>\n",
       "      <td>1</td>\n",
       "      <td>женат / замужем</td>\n",
       "      <td>0</td>\n",
       "      <td>F</td>\n",
       "      <td>сотрудник</td>\n",
       "      <td>0</td>\n",
       "      <td>112080</td>\n",
       "      <td>приобретение автомобиля</td>\n",
       "    </tr>\n",
       "    <tr>\n",
       "      <td>2</td>\n",
       "      <td>0</td>\n",
       "      <td>5623</td>\n",
       "      <td>33</td>\n",
       "      <td>Среднее</td>\n",
       "      <td>1</td>\n",
       "      <td>женат / замужем</td>\n",
       "      <td>0</td>\n",
       "      <td>M</td>\n",
       "      <td>сотрудник</td>\n",
       "      <td>0</td>\n",
       "      <td>145886</td>\n",
       "      <td>покупка жилья</td>\n",
       "    </tr>\n",
       "    <tr>\n",
       "      <td>3</td>\n",
       "      <td>3</td>\n",
       "      <td>4125</td>\n",
       "      <td>32</td>\n",
       "      <td>среднее</td>\n",
       "      <td>1</td>\n",
       "      <td>женат / замужем</td>\n",
       "      <td>0</td>\n",
       "      <td>M</td>\n",
       "      <td>сотрудник</td>\n",
       "      <td>0</td>\n",
       "      <td>267629</td>\n",
       "      <td>дополнительное образование</td>\n",
       "    </tr>\n",
       "    <tr>\n",
       "      <td>4</td>\n",
       "      <td>0</td>\n",
       "      <td>340266</td>\n",
       "      <td>53</td>\n",
       "      <td>среднее</td>\n",
       "      <td>1</td>\n",
       "      <td>гражданский брак</td>\n",
       "      <td>1</td>\n",
       "      <td>F</td>\n",
       "      <td>пенсионер</td>\n",
       "      <td>0</td>\n",
       "      <td>158616</td>\n",
       "      <td>сыграть свадьбу</td>\n",
       "    </tr>\n",
       "  </tbody>\n",
       "</table>\n",
       "</div>"
      ],
      "text/plain": [
       "   children  days_employed  dob_years education  education_id  \\\n",
       "0         1           8438         42    высшее             0   \n",
       "1         1           4025         36   среднее             1   \n",
       "2         0           5623         33   Среднее             1   \n",
       "3         3           4125         32   среднее             1   \n",
       "4         0         340266         53   среднее             1   \n",
       "\n",
       "      family_status  family_status_id gender income_type  debt  total_income  \\\n",
       "0   женат / замужем                 0      F   сотрудник     0        253876   \n",
       "1   женат / замужем                 0      F   сотрудник     0        112080   \n",
       "2   женат / замужем                 0      M   сотрудник     0        145886   \n",
       "3   женат / замужем                 0      M   сотрудник     0        267629   \n",
       "4  гражданский брак                 1      F   пенсионер     0        158616   \n",
       "\n",
       "                      purpose  \n",
       "0               покупка жилья  \n",
       "1     приобретение автомобиля  \n",
       "2               покупка жилья  \n",
       "3  дополнительное образование  \n",
       "4             сыграть свадьбу  "
      ]
     },
     "execution_count": 5,
     "metadata": {},
     "output_type": "execute_result"
    }
   ],
   "source": [
    "data.days_employed = data.days_employed.round() # округляем стаж до целых жней\n",
    "data.total_income = data.total_income.round() # округляем доход до целых единиц, так как копейки - очень \n",
    "#несущественная величина в данном исследовании\n",
    "data.total_income = data.total_income.astype('int')\n",
    "data.days_employed = data.days_employed.astype('int')\n",
    "data.head()"
   ]
  },
  {
   "cell_type": "markdown",
   "metadata": {},
   "source": [
    "### Вывод"
   ]
  },
  {
   "cell_type": "markdown",
   "metadata": {},
   "source": [
    "<div class=\"alert alert-block alert-info\">Сначала округлил значения days_employed и total_income и далее привел их к целому формату числа. В случае с total_income это, мне кажется, логично, ведь сотые доли рубля (да даже доллара) не играют важную роль в данном вопросе(исследование кредитоспособности, учитывая инфляцию рубля)</div>"
   ]
  },
  {
   "cell_type": "markdown",
   "metadata": {},
   "source": [
    "Теперь, опять же, надо заменить тип float на int. Так как тип данных float используется в столбцах total_income и days_employed, то изменим их тип. Также заметим, что в столбце days_employed есть отрицательные значения, скорее всего перепутались знаки. Поэтому применим функцию модуля к ним (сделал в предыдущем пункте)."
   ]
  },
  {
   "cell_type": "markdown",
   "metadata": {},
   "source": [
    "### Обработка дубликатов"
   ]
  },
  {
   "cell_type": "code",
   "execution_count": 6,
   "metadata": {},
   "outputs": [
    {
     "data": {
      "text/plain": [
       "0"
      ]
     },
     "execution_count": 6,
     "metadata": {},
     "output_type": "execute_result"
    }
   ],
   "source": [
    "data['education'] = data['education'].str.lower() #приводим значения столбца к единому регистру\n",
    "data['family_status'] = data['family_status'].str.lower()\n",
    "\n",
    "def correct_education(value):\n",
    "    if value in ['высшее', \"ученая степень\"] :\n",
    "        return \"есть высшее образование\"\n",
    "    return \"нет высшего образования\"\n",
    "    \n",
    "data.education = data.education.apply(correct_education)\n",
    "\n",
    "data.duplicated().sum() #есть 71 дупликатов, удалим строки - дубликаты\n",
    "data = data.drop_duplicates().reset_index(drop=True)\n",
    "data.duplicated().sum() # теперь нет дупликатов"
   ]
  },
  {
   "cell_type": "markdown",
   "metadata": {},
   "source": [
    "### Вывод"
   ]
  },
  {
   "cell_type": "markdown",
   "metadata": {},
   "source": [
    "<div class=\"alert alert-block alert-info\">В данном датасете я решил категоризировать образование на 'есть высшее образование' и \"нет высшего образования\", так как, по-моему мнению, в условиях выдачи кредита именно эти две категории играют ключевые роли. А какая именно степень у тебя - это вторичные категории и могут успользоваться только для более глубокого ML при написании алгоритма определения кредитоспособности.</div>\n",
    "<div><font size=\"3\" color=\"orange\" face=\"Times New Roman\">До этого я привел все к единому регистру и далее посмотрел на кол-во дупликатов. И обнаружилось 71 дупликатов, которые я успешно удалил</font></div>"
   ]
  },
  {
   "cell_type": "markdown",
   "metadata": {},
   "source": [
    "### Лемматизация"
   ]
  },
  {
   "cell_type": "code",
   "execution_count": 7,
   "metadata": {},
   "outputs": [
    {
     "name": "stdout",
     "output_type": "stream",
     "text": [
      "Counter({'недвижимость': 6351, 'жилье': 4460, 'автомобиль': 4306, 'образование': 4013, 'с': 2918, 'свадьба': 2324, 'свой': 2230, 'на': 2222, 'строительство': 1878, 'высокий': 1374, 'получение': 1314, 'коммерческий': 1311, 'для': 1289, 'жилой': 1230, 'сделка': 941, 'дополнительный': 906, 'заниматься': 904, 'проведение': 768, 'сыграть': 765, 'сдача': 651, 'семья': 638, 'собственный': 635, 'со': 627, 'ремонт': 607, 'подержанный': 486, 'подержать': 478, 'профильный': 436})\n"
     ]
    }
   ],
   "source": [
    "from pymystem3 import Mystem\n",
    "from collections import Counter\n",
    "all_purposes = []\n",
    "all_purposes_2 = []\n",
    "m = Mystem()\n",
    "lemmas = data['purpose'].apply(m.lemmatize)\n",
    "for i in lemmas:\n",
    "    for b in i:\n",
    "        all_purposes.append(b) # закинул все лемматизированные слова в один список\n",
    "for el in all_purposes:\n",
    "    if el !='покупка' and el != 'приобретение' and el not in ['операция', '\\n', ' ']: # убираю все бесполезные слова, которые не передают суть кредита\n",
    "        all_purposes_2.append(el)\n",
    "print(Counter(all_purposes_2)) # считаю кол-во каждого лемматизированного слова "
   ]
  },
  {
   "cell_type": "markdown",
   "metadata": {},
   "source": [
    "### Вывод"
   ]
  },
  {
   "cell_type": "markdown",
   "metadata": {},
   "source": [
    "Как видно из анализа целей кредита, большинству людей нужные кредиты для следующих целей: жилье, автомобиль, образование, семья. Эти категории мы и выделим в след пункте"
   ]
  },
  {
   "cell_type": "markdown",
   "metadata": {},
   "source": [
    "### Категоризация данных"
   ]
  },
  {
   "cell_type": "code",
   "execution_count": 8,
   "metadata": {},
   "outputs": [
    {
     "name": "stdout",
     "output_type": "stream",
     "text": [
      "<class 'pandas.core.frame.DataFrame'>\n",
      "RangeIndex: 21454 entries, 0 to 21453\n",
      "Data columns (total 13 columns):\n",
      "children            21454 non-null int64\n",
      "days_employed       21454 non-null int64\n",
      "dob_years           21454 non-null int64\n",
      "education           21454 non-null object\n",
      "education_id        21454 non-null int64\n",
      "family_status       21454 non-null object\n",
      "family_status_id    21454 non-null int64\n",
      "gender              21454 non-null object\n",
      "income_type         21454 non-null object\n",
      "debt                21454 non-null int64\n",
      "total_income        21454 non-null int64\n",
      "purpose             21454 non-null object\n",
      "purp_category       21454 non-null object\n",
      "dtypes: int64(7), object(6)\n",
      "memory usage: 2.1+ MB\n"
     ]
    }
   ],
   "source": [
    "def make_target(val):\n",
    "    var = m.lemmatize(val)\n",
    "    if 'недвижимость'in var or \"жилье\" in var or'строительство' in var or 'жилой' in var or 'ремонт' in var:\n",
    "        return 'жилье'\n",
    "    elif \"автомобиль\" in var or \"поддержанный\" in var:\n",
    "        return \"автомобиль\"\n",
    "    elif \"образование\" in var:\n",
    "        return \"образование\"\n",
    "    elif \"семья\" in var or 'свадьба' in var:\n",
    "        return \"семья\"\n",
    "\n",
    "data['purp_category'] = data['purpose'].apply(make_target)\n",
    "data.info() # Добавил категории по целям, и с помощью функции и метода apply применил эту функцию к столбццу purpose\n",
    "# нет пропущенных значений, значит все успешно"
   ]
  },
  {
   "cell_type": "markdown",
   "metadata": {},
   "source": [
    "### Вывод"
   ]
  },
  {
   "cell_type": "markdown",
   "metadata": {},
   "source": [
    "Ну тут я просто уже применил выделенные категории к датасету."
   ]
  },
  {
   "cell_type": "markdown",
   "metadata": {},
   "source": [
    "### Шаг 3. Ответьте на вопросы"
   ]
  },
  {
   "cell_type": "markdown",
   "metadata": {},
   "source": [
    "- Есть ли зависимость между наличием детей и возвратом кредита в срок?"
   ]
  },
  {
   "cell_type": "code",
   "execution_count": 9,
   "metadata": {},
   "outputs": [
    {
     "data": {
      "text/plain": [
       " 0     14091\n",
       " 1      4808\n",
       " 2      2052\n",
       " 3       330\n",
       " 20       76\n",
       "-1        47\n",
       " 4        41\n",
       " 5         9\n",
       "Name: children, dtype: int64"
      ]
     },
     "execution_count": 9,
     "metadata": {},
     "output_type": "execute_result"
    }
   ],
   "source": [
    "data.children.value_counts()"
   ]
  },
  {
   "cell_type": "code",
   "execution_count": 10,
   "metadata": {},
   "outputs": [
    {
     "data": {
      "text/plain": [
       "0    14091\n",
       "1     4855\n",
       "2     2128\n",
       "3      330\n",
       "4       41\n",
       "5        9\n",
       "Name: children, dtype: int64"
      ]
     },
     "execution_count": 10,
     "metadata": {},
     "output_type": "execute_result"
    }
   ],
   "source": [
    "def correct_children(privet):\n",
    "    if privet < 0:\n",
    "        return -privet\n",
    "    elif privet == 20:\n",
    "        return 2\n",
    "    else:\n",
    "        return privet\n",
    "\n",
    "data.children = data.children.apply(correct_children)\n",
    "data.children.value_counts()"
   ]
  },
  {
   "cell_type": "markdown",
   "metadata": {},
   "source": [
    "<div class=\"alert alert-block alert-info\">Как видно, были пару артефактов. Во-первых, отрицательные значения. Можно предположить, что данная ошибка была вызвана случайной постановкой знака минус, поэтому я просто взял модуль данного значения. Также в некоторых случаях было значения 20, что также противоречит здравому смыслу (у нас же не ОАЭ). Поэтому, я предположу, что была случайная постановка знака 0 в конце и я искоренил данную проблему, убрав 0</div>"
   ]
  },
  {
   "cell_type": "code",
   "execution_count": 11,
   "metadata": {},
   "outputs": [
    {
     "name": "stdout",
     "output_type": "stream",
     "text": [
      "Процент должников среди тех,у которых нет детей 0.08\n",
      "Процент должников среди тех, у которых 1-2 детей 0.09\n",
      "Процент должников среди тех, у которых больше 3 детей 0.08\n"
     ]
    }
   ],
   "source": [
    "# посчитаем эту зависимость так: будем смотреть отношения тех, у кого есть долги к общему количеству людей в определенной категории\n",
    "# эти категории считаем так: 0 детей, 1-2 детей и 3+ детей\n",
    "freechild= len(data.loc[data['children']==0, :].index)\n",
    "in_debt_freechild = len(data.loc[(data['children']==0) & data.debt == 1, :].index)\n",
    "few_child= len(data.loc[(data['children']<3) & (data['children']>0), :].index)\n",
    "in_debt_few_child = len(data.loc[((data['children']<3) & (data['children']>0)) & data.debt == 1, :].index)\n",
    "many_child= len(data.loc[data['children']>2, :].index)\n",
    "in_debt_many_child = len(data.loc[(data['children']>2) & data.debt == 1, :].index)\n",
    "print(\"Процент должников среди тех,у которых нет детей\", \"{:.2f}\".format(in_debt_freechild/freechild))\n",
    "print(\"Процент должников среди тех, у которых 1-2 детей\", \"{:.2f}\".format(in_debt_few_child/few_child))\n",
    "print(\"Процент должников среди тех, у которых больше 3 детей\", \"{:.2f}\".format(in_debt_many_child/many_child))"
   ]
  },
  {
   "cell_type": "code",
   "execution_count": 12,
   "metadata": {},
   "outputs": [
    {
     "data": {
      "text/plain": [
       "debt\n",
       "0    0.475016\n",
       "1    0.543366\n",
       "Name: children, dtype: float64"
      ]
     },
     "execution_count": 12,
     "metadata": {},
     "output_type": "execute_result"
    }
   ],
   "source": [
    "data.groupby('debt').children.mean()"
   ]
  },
  {
   "cell_type": "markdown",
   "metadata": {},
   "source": [
    "### Вывод"
   ]
  },
  {
   "cell_type": "markdown",
   "metadata": {},
   "source": [
    "Как можно наблюдать, есть зависиомсть между непогашением долга в срок и кол-вом детей нет. А именно, можно сказать, что те, у кого нет детей, чуть более кредитоплатежны, чем те, у кого они есть."
   ]
  },
  {
   "cell_type": "markdown",
   "metadata": {},
   "source": [
    "- Есть ли зависимость между семейным положением и возвратом кредита в срок?"
   ]
  },
  {
   "cell_type": "code",
   "execution_count": 13,
   "metadata": {
    "scrolled": true
   },
   "outputs": [],
   "source": [
    "data_2 = data.groupby('family_status').debt.value_counts() #мультииндексная таблица, отражающая данные о семейном статусе и кол-ве должников"
   ]
  },
  {
   "cell_type": "code",
   "execution_count": 14,
   "metadata": {},
   "outputs": [
    {
     "data": {
      "text/plain": [
       "family_status          debt\n",
       "в разводе              0        1110\n",
       "                       1          85\n",
       "вдовец / вдова         0         896\n",
       "                       1          63\n",
       "гражданский брак       0        3763\n",
       "                       1         388\n",
       "женат / замужем        0       11408\n",
       "                       1         931\n",
       "не женат / не замужем  0        2536\n",
       "                       1         274\n",
       "Name: debt, dtype: int64"
      ]
     },
     "execution_count": 14,
     "metadata": {},
     "output_type": "execute_result"
    }
   ],
   "source": [
    "data_2"
   ]
  },
  {
   "cell_type": "code",
   "execution_count": 15,
   "metadata": {},
   "outputs": [
    {
     "data": {
      "text/html": [
       "<div>\n",
       "<style scoped>\n",
       "    .dataframe tbody tr th:only-of-type {\n",
       "        vertical-align: middle;\n",
       "    }\n",
       "\n",
       "    .dataframe tbody tr th {\n",
       "        vertical-align: top;\n",
       "    }\n",
       "\n",
       "    .dataframe thead th {\n",
       "        text-align: right;\n",
       "    }\n",
       "</style>\n",
       "<table border=\"1\" class=\"dataframe\">\n",
       "  <thead>\n",
       "    <tr style=\"text-align: right;\">\n",
       "      <th></th>\n",
       "      <th>в разводе</th>\n",
       "      <th>вдовец / вдова</th>\n",
       "      <th>гражданский брак</th>\n",
       "      <th>женат / замужем</th>\n",
       "      <th>не женат / не замужем</th>\n",
       "    </tr>\n",
       "  </thead>\n",
       "  <tbody>\n",
       "    <tr>\n",
       "      <td>0</td>\n",
       "      <td>0.071</td>\n",
       "      <td>0.066</td>\n",
       "      <td>0.093</td>\n",
       "      <td>0.075</td>\n",
       "      <td>0.098</td>\n",
       "    </tr>\n",
       "  </tbody>\n",
       "</table>\n",
       "</div>"
      ],
      "text/plain": [
       "   в разводе  вдовец / вдова  гражданский брак  женат / замужем  \\\n",
       "0      0.071           0.066             0.093            0.075   \n",
       "\n",
       "   не женат / не замужем  \n",
       "0                  0.098  "
      ]
     },
     "execution_count": 15,
     "metadata": {},
     "output_type": "execute_result"
    }
   ],
   "source": [
    "percent_of_debetors= [round(data_2[i]/(data_2[i]+data_2[i-1]), 3) for i in range(1,10,2)]\n",
    "table_of_debetors= pd.DataFrame({'в разводе': [percent_of_debetors[0]], 'вдовец / вдова':[percent_of_debetors[1]], 'гражданский брак': [percent_of_debetors[2]], 'женат / замужем': [percent_of_debetors[3]],'не женат / не замужем': [percent_of_debetors[4]]})\n",
    "table_of_debetors"
   ]
  },
  {
   "cell_type": "markdown",
   "metadata": {},
   "source": [
    "### Вывод"
   ]
  },
  {
   "cell_type": "markdown",
   "metadata": {},
   "source": [
    "<div class=\"alert alert-block alert-info\">Как видно из преведенный выше таблице, самый высокий процент должников у холостяков. Самый низкий - это у тех, кто потерял своего супруга. Возможно, холостяки более беспечны к обязательствам, именно поэтому не так внимательно следят за пунктуальностью платежей по кредиту. \n",
    "Также можно заметить, что люди в браке более внимательны к кредиту, нежели люди в гражданском браке. Это может быть связано с тем, что люди в легальном браке помогают друг другу закрывать кредиты в срок, в то время как люди в гражданском браке, возмлжно, меньше взаимопомогают друг другу (возможно, просто проживают вместе, без взаимной ответственности).\n",
    "Низник процент в людей, супруг которых умер, можно объяснить тем, что эти люди пережили много событий, в том числе трагических, и они более ответственны за свою жизнь.</div>"
   ]
  },
  {
   "cell_type": "markdown",
   "metadata": {},
   "source": [
    "- Есть ли зависимость между уровнем дохода и возвратом кредита в срок?"
   ]
  },
  {
   "cell_type": "code",
   "execution_count": 16,
   "metadata": {},
   "outputs": [
    {
     "data": {
      "text/plain": [
       "debt\n",
       "0    167806.617359\n",
       "1    163190.697300\n",
       "Name: total_income, dtype: float64"
      ]
     },
     "execution_count": 16,
     "metadata": {},
     "output_type": "execute_result"
    }
   ],
   "source": [
    "data.groupby('debt').total_income.mean()"
   ]
  },
  {
   "cell_type": "code",
   "execution_count": 17,
   "metadata": {
    "scrolled": true
   },
   "outputs": [
    {
     "name": "stdout",
     "output_type": "stream",
     "text": [
      "Процент должников у низшего класса равен 9.09%\n",
      "Процент должников у среднего класса равен 5.99%\n",
      "Процент должников у среднего состоятельного равен 8.34%\n",
      "Процент должников у богатого класса равен 8.16%\n"
     ]
    }
   ],
   "source": [
    "# Разделим людей на категории: низнший класс- менее 30000 руб/мес, средний класс - от 30 000 до 60 000\n",
    "#состоятельный средний - от 60 до 100 тыс руб, и богатые от 100 000 руб\n",
    "#делал это на основе данных https://www.drive2.ru/b/2393127/ , немного подкорректировал под собственные взгляды\n",
    "# и в каждом классе посмотрим на отношение должников к общему кол-ву людей в классе (в процентах)\n",
    "low_income = data.loc[data['total_income']<30000, :].count()[0]\n",
    "debt_low_income = data.loc[(data['total_income']<30000) & (data['debt'] == 1), :].count()[0]\n",
    "\n",
    "medium_income = data.loc[(data['total_income']>=30000)&(data['total_income']<=60000), :].count()[0]\n",
    "debt_medium_income = data.loc[((data['total_income']>=30000)&(data['total_income']<=60000)) & (data['debt'] == 1), :].count()[0]\n",
    "\n",
    "high_income = data.loc[(data['total_income']>60000)&(data['total_income']<=100000), :].count()[0]\n",
    "debt_high_income = data.loc[((data['total_income']>60000)&(data['total_income']<=100000)) & (data['debt'] == 1), :].count()[0]\n",
    "\n",
    "very_high_income = data.loc[data['total_income']>100000, :].count()[0]\n",
    "very_high_debt_income = data.loc[(data['total_income']>100000) & (data['debt'] == 1), :].count()[0]\n",
    "print('Процент должников у низшего класса равен {:.2%}'.format(debt_low_income/low_income))\n",
    "print('Процент должников у среднего класса равен {:.2%}'.format(debt_medium_income/medium_income))\n",
    "print('Процент должников у среднего состоятельного равен {:.2%}'.format(debt_high_income/high_income))\n",
    "print('Процент должников у богатого класса равен {:.2%}'.format(very_high_debt_income/very_high_income))"
   ]
  },
  {
   "cell_type": "markdown",
   "metadata": {},
   "source": [
    "### Вывод"
   ]
  },
  {
   "cell_type": "markdown",
   "metadata": {},
   "source": [
    "<div class=\"alert alert-block alert-info\">Как видно из вышеперечисленных данных, можно сказать следующее. Так, однозначно можно сказать, что бедный класс (менее 30 тыс в мес) - самые не кредитоплатежный. Средний класс (от 30 до 60 тыс руб в мес) - самый отвественный в плане погашения кредита. Далее - идет более состоятельный слой населения, и там процент должников подскакивает. Думаю, это связанно с тем, что данные классы, имея существенные (по меркам РФ) доходы, взяли на себя кредиты, переоценив свою платежеспособность. Но опять же, платежеспособность - это сочетания фин грамотности и ответственности. И эти способности не коррелируют с уровнем дохода, именно поэтому, на мой взгляд, не правильно ставить какую-либо зависимость между уровнем дохода и платежеспоссобностью (Данное утверждение применимо лишь к среднему и высшим классам)</div>"
   ]
  },
  {
   "cell_type": "markdown",
   "metadata": {},
   "source": [
    "- Как разные цели кредита влияют на его возврат в срок?"
   ]
  },
  {
   "cell_type": "code",
   "execution_count": 18,
   "metadata": {},
   "outputs": [
    {
     "data": {
      "text/plain": [
       "purp_category  debt\n",
       "автомобиль     0        3903\n",
       "               1         403\n",
       "жилье          0       10029\n",
       "               1         782\n",
       "образование    0        3643\n",
       "               1         370\n",
       "семья          0        2138\n",
       "               1         186\n",
       "Name: debt, dtype: int64"
      ]
     },
     "execution_count": 18,
     "metadata": {},
     "output_type": "execute_result"
    }
   ],
   "source": [
    "data_3 = data.groupby('purp_category').debt.value_counts()\n",
    "data_3"
   ]
  },
  {
   "cell_type": "code",
   "execution_count": 19,
   "metadata": {},
   "outputs": [
    {
     "data": {
      "text/plain": [
       "автомобиль     9.359\n",
       "жилье          7.233\n",
       "образование    9.220\n",
       "семья          8.003\n",
       "dtype: float64"
      ]
     },
     "execution_count": 19,
     "metadata": {},
     "output_type": "execute_result"
    }
   ],
   "source": [
    "percent_of_debetors_by_purp= [round(100*data_3[i]/(data_3[i]+data_3[i-1]), 3) for i in range(1,8,2)]\n",
    "table_of_debetors_by_purp = pd.Series({'автомобиль': percent_of_debetors_by_purp[0], 'жилье':percent_of_debetors_by_purp[1],'образование':percent_of_debetors_by_purp[2],'семья':percent_of_debetors_by_purp[3]})\n",
    "table_of_debetors_by_purp"
   ]
  },
  {
   "cell_type": "markdown",
   "metadata": {},
   "source": [
    "### Вывод"
   ]
  },
  {
   "cell_type": "markdown",
   "metadata": {},
   "source": [
    "<div class=\"alert alert-block alert-info\">Наибольший невозврат кредитов есть в категориях \"образования\" и \"автомобиль\", в то время как процент должников в таких категориях, как \"жилье\" и \"семья\" примерно одинаков\n",
    "Возможно, это связнно с тем, что кредиты на Образование и Машины более рискованные, так как 1)На кредит берут обычно статусную машину, которую человек не может себе позволить. И эта статусность зачастую не подтверждается фактически, отсюда и проблемы с долгами\n",
    "    2) Кредит на образование - это риск, где ты либо можешь стать востребованным специалистом, либо не сможешь достаточно хорошо обучиться (лень, непосильная программа и тд) что и создает тебе преграду для погашения кредита</div>\n",
    "    \n",
    "<div class=\"alert alert-block alert-info\"> А кредиты на недвижимость и семью имеет под собой более фундаментальные причины, ведь жилье - это главный актив у человека, и поэтому человек будет стараться изо всех сил удержать его. Что касается семьи, кредит на создание семьи обеспечен стараниями двоих супругов, что также делает его болеенадежным для банка.</div>"
   ]
  },
  {
   "cell_type": "markdown",
   "metadata": {},
   "source": [
    "### Шаг 4. Общий вывод"
   ]
  },
  {
   "cell_type": "markdown",
   "metadata": {},
   "source": [
    "<div class=\"alert alert-block alert-info\">В итоге можно сказать, что во время изучения данных были сделаны следующие выводы:\n",
    "\n",
    "1)Самый большой процент невозврата у тех людей, кто еще не был в браке (каждый десятый). Причем люди, которые были в браке, более отвественные к погашению кредита, по сравненис с теми, кто в браке не был.\n",
    "\n",
    "2) Люди с детьми более склонны к невыполнению обязательств по кредиту, нежели те, у кого детей нет\n",
    "\n",
    "3) Люди с маленьким доходом (менее 30 тыс руб) - самый неплатежеспособной сегмент. Но далее четкой корреляции не прослеживается. Скорее всего, тут более главную роль играет самодисциплина и умение грамотно распоряжаться деньгами\n",
    "\n",
    "4)наиболее надежные кредиты - это кредиты, связанные с жильем и кредиты, направленные на создание семьи. Так как они направленны на удовлетворение важнейших биологических и социальных потребностей, что и обуславливает надежность погашения. Самый рисковый кредит - это кредит на покупку машин и образование, так как природа причин взятия этих кредитов рискованная.</div>\n",
    "\n"
   ]
  },
  {
   "cell_type": "markdown",
   "metadata": {},
   "source": [
    "### Чек-лист готовности проекта\n",
    "\n",
    "Поставьте 'x' в выполненных пунктах. Далее нажмите Shift+Enter."
   ]
  },
  {
   "cell_type": "markdown",
   "metadata": {},
   "source": [
    "- [x]  открыт файл;\n",
    "- [x]  файл изучен;\n",
    "- [x]  определены пропущенные значения;\n",
    "- [x]  заполнены пропущенные значения;\n",
    "- [x]  есть пояснение, какие пропущенные значения обнаружены;\n",
    "- [x]  описаны возможные причины появления пропусков в данных;\n",
    "- [x]  объяснено, по какому принципу заполнены пропуски;\n",
    "- [x]  заменен вещественный тип данных на целочисленный;\n",
    "- [x]  есть пояснение, какой метод используется для изменения типа данных и почему;\n",
    "- [x]  удалены дубликаты;\n",
    "- [x]  есть пояснение, какой метод используется для поиска и удаления дубликатов;\n",
    "- [x]  описаны возможные причины появления дубликатов в данных;\n",
    "- [x]  выделены леммы в значениях столбца с целями получения кредита;\n",
    "- [x]  описан процесс лемматизации;\n",
    "- [x]  данные категоризированы;\n",
    "- [x]  есть объяснение принципа категоризации данных;\n",
    "- [x]  есть ответ на вопрос: \"Есть ли зависимость между наличием детей и возвратом кредита в срок?\";\n",
    "- [x]  есть ответ на вопрос: \"Есть ли зависимость между семейным положением и возвратом кредита в срок?\";\n",
    "- [x]  есть ответ на вопрос: \"Есть ли зависимость между уровнем дохода и возвратом кредита в срок?\";\n",
    "- [x]  есть ответ на вопрос: \"Как разные цели кредита влияют на его возврат в срок?\";\n",
    "- [x]  в каждом этапе есть выводы;\n",
    "- [x]  есть общий вывод."
   ]
  },
  {
   "cell_type": "code",
   "execution_count": null,
   "metadata": {},
   "outputs": [],
   "source": []
  }
 ],
 "metadata": {
  "kernelspec": {
   "display_name": "Python 3",
   "language": "python",
   "name": "python3"
  },
  "language_info": {
   "codemirror_mode": {
    "name": "ipython",
    "version": 3
   },
   "file_extension": ".py",
   "mimetype": "text/x-python",
   "name": "python",
   "nbconvert_exporter": "python",
   "pygments_lexer": "ipython3",
   "version": "3.7.8"
  },
  "toc": {
   "base_numbering": 1,
   "nav_menu": {},
   "number_sections": true,
   "sideBar": true,
   "skip_h1_title": true,
   "title_cell": "Table of Contents",
   "title_sidebar": "Contents",
   "toc_cell": false,
   "toc_position": {},
   "toc_section_display": true,
   "toc_window_display": false
  }
 },
 "nbformat": 4,
 "nbformat_minor": 2
}
