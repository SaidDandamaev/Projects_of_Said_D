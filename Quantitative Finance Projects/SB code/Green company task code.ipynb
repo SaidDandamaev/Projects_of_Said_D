{
 "cells": [
  {
   "cell_type": "code",
   "execution_count": 29,
   "id": "7fd1224a",
   "metadata": {},
   "outputs": [],
   "source": [
    "import numpy as np\n",
    "import yfinance as yf\n",
    "import scipy.stats as stats\n",
    "import pandas as pd\n",
    "from math import pi"
   ]
  },
  {
   "cell_type": "code",
   "execution_count": 88,
   "id": "8c989a7a",
   "metadata": {},
   "outputs": [
    {
     "name": "stderr",
     "output_type": "stream",
     "text": [
      "[*********************100%%**********************]  1 of 1 completed\n"
     ]
    }
   ],
   "source": [
    "# symbol = 'EURUSD=X'\n",
    "\n",
    "# # Fetch the historical data from 2014 to 2024\n",
    "# data = yf.download(symbol, start='2014-01-01', end='2025-01-01', interval='1d')"
   ]
  },
  {
   "cell_type": "code",
   "execution_count": 6,
   "id": "6eff71f4",
   "metadata": {},
   "outputs": [],
   "source": [
    "data = pd.read_csv('usd_eur_ts.csv')\n",
    "data.set_index('Date', inplace=True)\n",
    "data.drop('Log_Returns', axis=1, inplace=True)"
   ]
  },
  {
   "cell_type": "code",
   "execution_count": 7,
   "id": "2b223e35",
   "metadata": {},
   "outputs": [],
   "source": [
    "# data.to_csv('usd_eur_ts.csv', index=True)"
   ]
  },
  {
   "cell_type": "code",
   "execution_count": 8,
   "id": "e5314bd9",
   "metadata": {},
   "outputs": [
    {
     "data": {
      "text/html": [
       "<div>\n",
       "<style scoped>\n",
       "    .dataframe tbody tr th:only-of-type {\n",
       "        vertical-align: middle;\n",
       "    }\n",
       "\n",
       "    .dataframe tbody tr th {\n",
       "        vertical-align: top;\n",
       "    }\n",
       "\n",
       "    .dataframe thead th {\n",
       "        text-align: right;\n",
       "    }\n",
       "</style>\n",
       "<table border=\"1\" class=\"dataframe\">\n",
       "  <thead>\n",
       "    <tr style=\"text-align: right;\">\n",
       "      <th></th>\n",
       "      <th>Open</th>\n",
       "      <th>High</th>\n",
       "      <th>Low</th>\n",
       "      <th>Close</th>\n",
       "      <th>Adj Close</th>\n",
       "      <th>Volume</th>\n",
       "    </tr>\n",
       "    <tr>\n",
       "      <th>Date</th>\n",
       "      <th></th>\n",
       "      <th></th>\n",
       "      <th></th>\n",
       "      <th></th>\n",
       "      <th></th>\n",
       "      <th></th>\n",
       "    </tr>\n",
       "  </thead>\n",
       "  <tbody>\n",
       "    <tr>\n",
       "      <th>2014-01-02</th>\n",
       "      <td>1.376595</td>\n",
       "      <td>1.377467</td>\n",
       "      <td>1.363271</td>\n",
       "      <td>1.376671</td>\n",
       "      <td>1.376671</td>\n",
       "      <td>0</td>\n",
       "    </tr>\n",
       "    <tr>\n",
       "      <th>2014-01-03</th>\n",
       "      <td>1.366624</td>\n",
       "      <td>1.367297</td>\n",
       "      <td>1.360170</td>\n",
       "      <td>1.366662</td>\n",
       "      <td>1.366662</td>\n",
       "      <td>0</td>\n",
       "    </tr>\n",
       "    <tr>\n",
       "      <th>2014-01-06</th>\n",
       "      <td>1.359582</td>\n",
       "      <td>1.364610</td>\n",
       "      <td>1.357279</td>\n",
       "      <td>1.359601</td>\n",
       "      <td>1.359601</td>\n",
       "      <td>0</td>\n",
       "    </tr>\n",
       "    <tr>\n",
       "      <th>2014-01-07</th>\n",
       "      <td>1.363066</td>\n",
       "      <td>1.365799</td>\n",
       "      <td>1.359878</td>\n",
       "      <td>1.363196</td>\n",
       "      <td>1.363196</td>\n",
       "      <td>0</td>\n",
       "    </tr>\n",
       "    <tr>\n",
       "      <th>2014-01-08</th>\n",
       "      <td>1.361693</td>\n",
       "      <td>1.363605</td>\n",
       "      <td>1.357202</td>\n",
       "      <td>1.361637</td>\n",
       "      <td>1.361637</td>\n",
       "      <td>0</td>\n",
       "    </tr>\n",
       "    <tr>\n",
       "      <th>...</th>\n",
       "      <td>...</td>\n",
       "      <td>...</td>\n",
       "      <td>...</td>\n",
       "      <td>...</td>\n",
       "      <td>...</td>\n",
       "      <td>...</td>\n",
       "    </tr>\n",
       "    <tr>\n",
       "      <th>2024-05-20</th>\n",
       "      <td>1.087548</td>\n",
       "      <td>1.088495</td>\n",
       "      <td>1.085505</td>\n",
       "      <td>1.087548</td>\n",
       "      <td>1.087548</td>\n",
       "      <td>0</td>\n",
       "    </tr>\n",
       "    <tr>\n",
       "      <th>2024-05-21</th>\n",
       "      <td>1.086083</td>\n",
       "      <td>1.087548</td>\n",
       "      <td>1.084599</td>\n",
       "      <td>1.086083</td>\n",
       "      <td>1.086083</td>\n",
       "      <td>0</td>\n",
       "    </tr>\n",
       "    <tr>\n",
       "      <th>2024-05-22</th>\n",
       "      <td>1.085517</td>\n",
       "      <td>1.086484</td>\n",
       "      <td>1.082251</td>\n",
       "      <td>1.085517</td>\n",
       "      <td>1.085517</td>\n",
       "      <td>0</td>\n",
       "    </tr>\n",
       "    <tr>\n",
       "      <th>2024-05-23</th>\n",
       "      <td>1.082520</td>\n",
       "      <td>1.086130</td>\n",
       "      <td>1.081303</td>\n",
       "      <td>1.082520</td>\n",
       "      <td>1.082520</td>\n",
       "      <td>0</td>\n",
       "    </tr>\n",
       "    <tr>\n",
       "      <th>2024-05-24</th>\n",
       "      <td>1.081783</td>\n",
       "      <td>1.085658</td>\n",
       "      <td>1.080847</td>\n",
       "      <td>1.085423</td>\n",
       "      <td>1.085423</td>\n",
       "      <td>0</td>\n",
       "    </tr>\n",
       "  </tbody>\n",
       "</table>\n",
       "<p>2709 rows × 6 columns</p>\n",
       "</div>"
      ],
      "text/plain": [
       "                Open      High       Low     Close  Adj Close  Volume\n",
       "Date                                                                 \n",
       "2014-01-02  1.376595  1.377467  1.363271  1.376671   1.376671       0\n",
       "2014-01-03  1.366624  1.367297  1.360170  1.366662   1.366662       0\n",
       "2014-01-06  1.359582  1.364610  1.357279  1.359601   1.359601       0\n",
       "2014-01-07  1.363066  1.365799  1.359878  1.363196   1.363196       0\n",
       "2014-01-08  1.361693  1.363605  1.357202  1.361637   1.361637       0\n",
       "...              ...       ...       ...       ...        ...     ...\n",
       "2024-05-20  1.087548  1.088495  1.085505  1.087548   1.087548       0\n",
       "2024-05-21  1.086083  1.087548  1.084599  1.086083   1.086083       0\n",
       "2024-05-22  1.085517  1.086484  1.082251  1.085517   1.085517       0\n",
       "2024-05-23  1.082520  1.086130  1.081303  1.082520   1.082520       0\n",
       "2024-05-24  1.081783  1.085658  1.080847  1.085423   1.085423       0\n",
       "\n",
       "[2709 rows x 6 columns]"
      ]
     },
     "execution_count": 8,
     "metadata": {},
     "output_type": "execute_result"
    }
   ],
   "source": [
    "data"
   ]
  },
  {
   "cell_type": "code",
   "execution_count": 16,
   "id": "ba355980",
   "metadata": {},
   "outputs": [
    {
     "data": {
      "text/plain": [
       "1.0854227542877195"
      ]
     },
     "execution_count": 16,
     "metadata": {},
     "output_type": "execute_result"
    }
   ],
   "source": [
    "S_0 =  data.iloc[-1, -3]\n",
    "S_0"
   ]
  },
  {
   "cell_type": "code",
   "execution_count": 17,
   "id": "34cd0e4c",
   "metadata": {},
   "outputs": [
    {
     "name": "stderr",
     "output_type": "stream",
     "text": [
      "C:\\Users\\saidd\\AppData\\Local\\Temp\\ipykernel_23112\\3250488479.py:1: SettingWithCopyWarning: \n",
      "A value is trying to be set on a copy of a slice from a DataFrame.\n",
      "Try using .loc[row_indexer,col_indexer] = value instead\n",
      "\n",
      "See the caveats in the documentation: https://pandas.pydata.org/pandas-docs/stable/user_guide/indexing.html#returning-a-view-versus-a-copy\n",
      "  data['Log_Returns'] = np.log(data['Adj Close'] / data['Adj Close'].shift(1))\n"
     ]
    }
   ],
   "source": [
    "data['Log_Returns'] = np.log(data['Adj Close'] / data['Adj Close'].shift(1))\n",
    "\n",
    "# Drop NaN values that appear due to shift\n",
    "data = data.dropna()\n",
    "\n",
    "# Calculate the daily volatility (standard deviation of daily returns)\n",
    "daily_volatility = data['Log_Returns'].std(ddof=1)\n",
    "\n",
    "# Annualize the daily volatility\n",
    "annualized_volatility = daily_volatility * np.sqrt(252)"
   ]
  },
  {
   "cell_type": "code",
   "execution_count": 18,
   "id": "6a0798e0",
   "metadata": {},
   "outputs": [
    {
     "data": {
      "text/plain": [
       "(0.07840915320728338, 0.004939312378515103)"
      ]
     },
     "execution_count": 18,
     "metadata": {},
     "output_type": "execute_result"
    }
   ],
   "source": [
    "annualized_volatility, daily_volatility"
   ]
  },
  {
   "cell_type": "code",
   "execution_count": 19,
   "id": "11380cbf",
   "metadata": {},
   "outputs": [],
   "source": [
    "r_d = 5.209/100\n",
    "r_f = 3.67/100\n",
    "\n",
    "# d1 and d2 for C1\n",
    "d1 = (np.log(1/0.9) + (r_d - r_f + annualized_volatility**2/2))/annualized_volatility\n",
    "d2 = d1 - annualized_volatility"
   ]
  },
  {
   "cell_type": "code",
   "execution_count": 20,
   "id": "681d4ae0",
   "metadata": {},
   "outputs": [
    {
     "data": {
      "text/plain": [
       "0.036699999999999997"
      ]
     },
     "execution_count": 20,
     "metadata": {},
     "output_type": "execute_result"
    }
   ],
   "source": [
    "r_f"
   ]
  },
  {
   "cell_type": "code",
   "execution_count": 21,
   "id": "2cc5f733",
   "metadata": {},
   "outputs": [
    {
     "data": {
      "text/plain": [
       "(1.5792099295323851, 1.5008007763251017)"
      ]
     },
     "execution_count": 21,
     "metadata": {},
     "output_type": "execute_result"
    }
   ],
   "source": [
    "d1, d2"
   ]
  },
  {
   "cell_type": "code",
   "execution_count": 22,
   "id": "afd2b9eb",
   "metadata": {},
   "outputs": [
    {
     "name": "stdout",
     "output_type": "stream",
     "text": [
      "N(d1) = 0.9428560434216743\n",
      "N(d2) = 0.9332964510801315\n"
     ]
    }
   ],
   "source": [
    "# Calculate N(d1) and N(d2) for C1\n",
    "N_d1 = stats.norm.cdf(d1)\n",
    "N_d2 = stats.norm.cdf(d2)\n",
    "\n",
    "print(f\"N(d1) = {N_d1}\")\n",
    "print(f\"N(d2) = {N_d2}\")"
   ]
  },
  {
   "cell_type": "code",
   "execution_count": 23,
   "id": "b7ded0b8",
   "metadata": {},
   "outputs": [
    {
     "data": {
      "text/plain": [
       "0.12107621472589358"
      ]
     },
     "execution_count": 23,
     "metadata": {},
     "output_type": "execute_result"
    }
   ],
   "source": [
    "# price of C1\n",
    "S_0*np.exp(-r_f) * N_d1 - S_0*0.9*np.exp(-r_d)*N_d2"
   ]
  },
  {
   "cell_type": "code",
   "execution_count": 24,
   "id": "4b4b388f",
   "metadata": {},
   "outputs": [
    {
     "data": {
      "text/plain": [
       "(-0.9800664719313035, -1.058475625138587)"
      ]
     },
     "execution_count": 24,
     "metadata": {},
     "output_type": "execute_result"
    }
   ],
   "source": [
    "# d1 and d2 for C2\n",
    "\n",
    "d1_c2 = (np.log(1/1.1) + (r_d - r_f + annualized_volatility**2/2))/annualized_volatility\n",
    "d2_c2 = d1_c2 - annualized_volatility\n",
    "d1_c2, d2_c2"
   ]
  },
  {
   "cell_type": "code",
   "execution_count": 25,
   "id": "2dcf559a",
   "metadata": {},
   "outputs": [
    {
     "name": "stdout",
     "output_type": "stream",
     "text": [
      "N(d1) = 0.16352665395855154\n",
      "N(d2) = 0.14491932881484376\n"
     ]
    }
   ],
   "source": [
    "# Calculate N(d1) and N(d2) for C2\n",
    "\n",
    "N_d1_c2 = stats.norm.cdf(d1_c2)\n",
    "N_d2_c2 = stats.norm.cdf(d2_c2)\n",
    "\n",
    "print(f\"N(d1) = {N_d1_c2}\")\n",
    "print(f\"N(d2) = {N_d2_c2}\")"
   ]
  },
  {
   "cell_type": "code",
   "execution_count": 26,
   "id": "a803edca",
   "metadata": {},
   "outputs": [
    {
     "data": {
      "text/plain": [
       "0.006853276798729907"
      ]
     },
     "execution_count": 26,
     "metadata": {},
     "output_type": "execute_result"
    }
   ],
   "source": [
    "# price of C2\n",
    "S_0*np.exp(-r_f) * N_d1_c2 - S_0*1.1*np.exp(-r_d)*N_d2_c2"
   ]
  },
  {
   "cell_type": "code",
   "execution_count": 45,
   "id": "194c7a2d",
   "metadata": {},
   "outputs": [
    {
     "data": {
      "text/plain": [
       "0.9088804913669761"
      ]
     },
     "execution_count": 45,
     "metadata": {},
     "output_type": "execute_result"
    }
   ],
   "source": [
    "# delta C1\n",
    "delta_c1 = np.exp(-r_f)*N_d1\n",
    "delta_c1"
   ]
  },
  {
   "cell_type": "code",
   "execution_count": 46,
   "id": "f78bacc1",
   "metadata": {},
   "outputs": [
    {
     "data": {
      "text/plain": [
       "0.15763401702562516"
      ]
     },
     "execution_count": 46,
     "metadata": {},
     "output_type": "execute_result"
    }
   ],
   "source": [
    "# delta C2\n",
    "delta_c2 = np.exp(-r_f)*N_d1_c2\n",
    "delta_c2"
   ]
  },
  {
   "cell_type": "code",
   "execution_count": 41,
   "id": "b6e6b785",
   "metadata": {},
   "outputs": [
    {
     "data": {
      "text/plain": [
       "1.298558142759702"
      ]
     },
     "execution_count": 41,
     "metadata": {},
     "output_type": "execute_result"
    }
   ],
   "source": [
    "# gamma of C1\n",
    "gamma_C1= np.exp(-r_f) * (1/(2*pi)**0.5) * np.exp(-d1**2/2)*(1/annualized_volatility)*(1/S_0)\n",
    "gamma_C1"
   ]
  },
  {
   "cell_type": "code",
   "execution_count": 42,
   "id": "31b196a9",
   "metadata": {},
   "outputs": [
    {
     "data": {
      "text/plain": [
       "2.795305447137758"
      ]
     },
     "execution_count": 42,
     "metadata": {},
     "output_type": "execute_result"
    }
   ],
   "source": [
    "# gamma of C2\n",
    "gamma_C2= np.exp(-r_f) * (1/(2*pi)**0.5) * np.exp(-d1_c2**2/2)*(1/annualized_volatility)*(1/S_0)\n",
    "gamma_C2"
   ]
  },
  {
   "cell_type": "code",
   "execution_count": 44,
   "id": "060b497c",
   "metadata": {},
   "outputs": [
    {
     "data": {
      "text/plain": [
       "2.1526224780333374"
      ]
     },
     "execution_count": 44,
     "metadata": {},
     "output_type": "execute_result"
    }
   ],
   "source": [
    "k = gamma_C2/gamma_C1\n",
    "k"
   ]
  },
  {
   "cell_type": "code",
   "execution_count": 52,
   "id": "a27e652a",
   "metadata": {},
   "outputs": [
    {
     "data": {
      "text/plain": [
       "0.738672501784468"
      ]
     },
     "execution_count": 52,
     "metadata": {},
     "output_type": "execute_result"
    }
   ],
   "source": [
    "n_2_w = 1/(k+1-k*delta_c1 + delta_c2)\n",
    "n_2_w"
   ]
  },
  {
   "cell_type": "code",
   "execution_count": 53,
   "id": "3dbd043a",
   "metadata": {},
   "outputs": [
    {
     "data": {
      "text/plain": [
       "1.5900830312463663"
      ]
     },
     "execution_count": 53,
     "metadata": {},
     "output_type": "execute_result"
    }
   ],
   "source": [
    "n_1_w = n_2_w*k\n",
    "n_1_w"
   ]
  },
  {
   "cell_type": "code",
   "execution_count": 54,
   "id": "4b6358d8",
   "metadata": {},
   "outputs": [
    {
     "data": {
      "text/plain": [
       "-1.3287555330308343"
      ]
     },
     "execution_count": 54,
     "metadata": {},
     "output_type": "execute_result"
    }
   ],
   "source": [
    "n_3_w = (k*delta_c1-delta_c2)*(-n_2_w)\n",
    "n_3_w"
   ]
  },
  {
   "cell_type": "code",
   "execution_count": 56,
   "id": "a1a6c708",
   "metadata": {},
   "outputs": [
    {
     "data": {
      "text/plain": [
       "1.0"
      ]
     },
     "execution_count": 56,
     "metadata": {},
     "output_type": "execute_result"
    }
   ],
   "source": [
    "n_1_w+n_2_w + n_3_w"
   ]
  },
  {
   "cell_type": "code",
   "execution_count": 59,
   "id": "d4f40290",
   "metadata": {},
   "outputs": [
    {
     "data": {
      "text/plain": [
       "-125503.94949999999"
      ]
     },
     "execution_count": 59,
     "metadata": {},
     "output_type": "execute_result"
    }
   ],
   "source": [
    "CAPITAL = 100000"
   ]
  },
  {
   "cell_type": "code",
   "execution_count": 63,
   "id": "9c4860f3",
   "metadata": {},
   "outputs": [
    {
     "data": {
      "text/plain": [
       "105347.05505964908"
      ]
     },
     "execution_count": 63,
     "metadata": {},
     "output_type": "execute_result"
    }
   ],
   "source": [
    "# Expected return for portfolio \n",
    "\n",
    "CAPITAL*np.exp(0.05209)"
   ]
  },
  {
   "cell_type": "code",
   "execution_count": 67,
   "id": "3a6ada9d",
   "metadata": {},
   "outputs": [
    {
     "data": {
      "text/plain": [
       "0.01357854394499649"
      ]
     },
     "execution_count": 67,
     "metadata": {},
     "output_type": "execute_result"
    }
   ],
   "source": [
    "# Theta for C1\n",
    "theta_1 = 0.5*S_0*np.exp(-r_f)*(1/(2*pi)**0.5)*np.exp(-d1**2/2) * annualized_volatility * 1\n",
    "theta_1 -= r_f*S_0*np.exp(-r_f)*N_d1\n",
    "theta_1 += r_d*S_0*0.9*np.exp(-r_d)*N_d2\n",
    "theta_1"
   ]
  },
  {
   "cell_type": "code",
   "execution_count": 68,
   "id": "3a13a1a5",
   "metadata": {},
   "outputs": [
    {
     "data": {
      "text/plain": [
       "0.012399733904717276"
      ]
     },
     "execution_count": 68,
     "metadata": {},
     "output_type": "execute_result"
    }
   ],
   "source": [
    "# Theta for C2\n",
    "theta_2 = 0.5*S_0*np.exp(-r_f)*(1/(2*pi)**0.5)*np.exp(-d1_c2**2/2) * annualized_volatility * 1\n",
    "theta_2 -= r_f*S_0*np.exp(-r_f)*N_d1_c2\n",
    "theta_2 += r_d*S_0*1.1*np.exp(-r_d)*N_d2_c2\n",
    "theta_2"
   ]
  },
  {
   "cell_type": "code",
   "execution_count": 69,
   "id": "f355b72a",
   "metadata": {},
   "outputs": [
    {
     "data": {
      "text/plain": [
       "990.8187326359141"
      ]
     },
     "execution_count": 69,
     "metadata": {},
     "output_type": "execute_result"
    }
   ],
   "source": [
    "# theta of portfolio\n",
    "\n",
    "N1 = 126689.292\n",
    "N2 = 58826.85804\n",
    "\n",
    "N1*theta_1 - N2*theta_2"
   ]
  },
  {
   "cell_type": "code",
   "execution_count": null,
   "id": "e6632e62",
   "metadata": {},
   "outputs": [],
   "source": []
  }
 ],
 "metadata": {
  "kernelspec": {
   "display_name": "Python 3 (ipykernel)",
   "language": "python",
   "name": "python3"
  },
  "language_info": {
   "codemirror_mode": {
    "name": "ipython",
    "version": 3
   },
   "file_extension": ".py",
   "mimetype": "text/x-python",
   "name": "python",
   "nbconvert_exporter": "python",
   "pygments_lexer": "ipython3",
   "version": "3.11.5"
  }
 },
 "nbformat": 4,
 "nbformat_minor": 5
}
